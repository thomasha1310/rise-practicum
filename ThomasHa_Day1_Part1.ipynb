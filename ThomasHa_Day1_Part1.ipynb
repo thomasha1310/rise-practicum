{
  "cells": [
    {
      "cell_type": "markdown",
      "id": "09bf334d",
      "metadata": {
        "id": "09bf334d"
      },
      "source": [
        "# Introduction to Python, Jupyter Notebooks, and GitHub\n",
        "This notebook introduces Python basics and how to work in Jupyter Notebooks.\n",
        "\n",
        "## Learning goals\n",
        "- Understand the Jupyter Notebook interface (code vs. markdown cells, running cells, keyboard shortcuts).\n",
        "- Write and run basic Python code (syntax, variables, data types, control flow).\n",
        "- Document code using Markdown (headings, lists, LaTeX equations).\n",
        "- Get a high-level overview of Git & GitHub for version control.\n",
        "- Complete hands‑on challenges to reinforce each concept, including stretch problems for experienced coders.\n",
        "\n",
        "## Screen Sharing Solutions (Zoom)\n",
        "\n",
        "- Meeting ID: 926 0910 1746\n",
        "- Passcode: 105661"
      ]
    },
    {
      "cell_type": "markdown",
      "id": "976dcc91",
      "metadata": {
        "id": "976dcc91"
      },
      "source": [
        "## 1. Running Your First Python Cell\n",
        "Click in the cell below and press **Shift + Enter** (or the ▶️ button) to execute it."
      ]
    },
    {
      "cell_type": "code",
      "execution_count": null,
      "id": "5ec233fc",
      "metadata": {
        "colab": {
          "base_uri": "https://localhost:8080/"
        },
        "id": "5ec233fc",
        "outputId": "f0a41c83-f50c-433e-acf4-df056cdc09a6"
      },
      "outputs": [],
      "source": [
        "print('Hello, world!')"
      ]
    },
    {
      "cell_type": "markdown",
      "id": "70e7896a",
      "metadata": {
        "id": "70e7896a"
      },
      "source": [
        "## 2. Basic Python Syntax\n",
        "Python uses **indentation** (4 spaces by convention) to define blocks.\n",
        "Comments start with `#`. Anything after `#` on the same line is ignored by Python."
      ]
    },
    {
      "cell_type": "code",
      "execution_count": null,
      "id": "427a4a7f",
      "metadata": {
        "colab": {
          "base_uri": "https://localhost:8080/"
        },
        "id": "427a4a7f",
        "outputId": "8395af0f-7ad3-49a4-f1a5-816ef90d45d2"
      },
      "outputs": [],
      "source": [
        "# This is a comment\n",
        "for i in range(5):\n",
        "    print('Iteration', i)"
      ]
    },
    {
      "cell_type": "markdown",
      "id": "e1cc30f3",
      "metadata": {
        "id": "e1cc30f3"
      },
      "source": [
        "### Activity 1 – Debug It!\n",
        "The code below has three syntax/logic errors. Run it, read the traceback, then fix the errors so the loop prints\n",
        "`0 2 4 6 8` on one line."
      ]
    },
    {
      "cell_type": "code",
      "execution_count": null,
      "id": "48cb3ef9",
      "metadata": {
        "colab": {
          "base_uri": "https://localhost:8080/"
        },
        "id": "48cb3ef9",
        "outputId": "7c8c92d2-47bc-43e9-e7e1-55d62b059eba"
      },
      "outputs": [],
      "source": [
        "# TODO: Fix the errors so this prints \"0 2 4 6 8\"\n",
        "for i in range(10):\n",
        "  if i % 2 == 0:\n",
        "    print(i, end=' ')"
      ]
    },
    {
      "cell_type": "markdown",
      "id": "c3e5360c",
      "metadata": {
        "id": "c3e5360c"
      },
      "source": [
        "## 3. Variables & Data Types\n",
        "Python is **dynamically typed** – variable types are inferred at runtime.\n",
        "\n",
        "| Type | Example | Literal |\n",
        "|------|---------|---------|\n",
        "| `int` | whole numbers | `x = 42` |\n",
        "| `float` | decimal numbers | `pi = 3.14159` |\n",
        "| `str` | text | `name = \"Ada\"` |\n",
        "| `bool` | truth values | `is_valid = True` |\n",
        "| `list` | ordered, mutable collection | `scores = [95, 88, 72]` |\n",
        "| `dict` | key‑value pairs | `user = {'id': 1, 'name': 'Sam'}` |\n",
        "\n",
        "Run the cell below to see the types in action."
      ]
    },
    {
      "cell_type": "code",
      "execution_count": null,
      "id": "0156c27d",
      "metadata": {
        "colab": {
          "base_uri": "https://localhost:8080/"
        },
        "id": "0156c27d",
        "outputId": "5b180651-cea4-472b-a5a0-69909ca2f6d8"
      },
      "outputs": [],
      "source": [
        "x = 42\n",
        "pi = 3.14159\n",
        "name = \"Ada\"\n",
        "is_valid = True\n",
        "scores = [95, 88, 72]\n",
        "user = {'id': 1, 'name': 'Sam'}\n",
        "\n",
        "print(type(x), type(pi), type(name), type(is_valid), type(scores), type(user))"
      ]
    },
    {
      "cell_type": "markdown",
      "id": "57463a85",
      "metadata": {
        "id": "57463a85"
      },
      "source": [
        "### Activity 2 – Type Detective\n",
        "1. Create two new variables:\n",
        "   * `temperature_c` set to `21.5` (float)\n",
        "   * `cities` containing three city names of your choice (list of strings)\n",
        "2. Print a sentence that says \"The temperature is XX °C in CITY.\" using an **f‑string** and the first city in your list.\n",
        "3. Verify the data types with `type()`."
      ]
    },
    {
      "cell_type": "code",
      "execution_count": null,
      "id": "2ec07dc9",
      "metadata": {
        "colab": {
          "base_uri": "https://localhost:8080/"
        },
        "id": "2ec07dc9",
        "outputId": "6c8ee2ae-fdb2-47d0-95c4-45b87b21c166"
      },
      "outputs": [],
      "source": [
        "# Your code here\n",
        "temperature_c = 21.5\n",
        "cities = ['Boston', 'New York City', 'Atlanta']\n",
        "\n",
        "print(f\"The temperature is {temperature_c}°C in {cities[0]}.\")\n",
        "\n",
        "print(type(temperature_c), type(cities))"
      ]
    },
    {
      "cell_type": "markdown",
      "id": "208b185b",
      "metadata": {
        "id": "208b185b"
      },
      "source": [
        "## 4. Control Flow – `if`, `for`, `while`"
      ]
    },
    {
      "cell_type": "code",
      "execution_count": null,
      "id": "ca94405d",
      "metadata": {
        "colab": {
          "base_uri": "https://localhost:8080/"
        },
        "id": "ca94405d",
        "outputId": "fc7089e4-3528-47ca-e38c-19fd7e65603b"
      },
      "outputs": [],
      "source": [
        "number = 7\n",
        "if number % 2 == 0:\n",
        "    print(number, \"is even\")\n",
        "else:\n",
        "    print(number, \"is odd\")"
      ]
    },
    {
      "cell_type": "markdown",
      "id": "dc82263f",
      "metadata": {
        "id": "dc82263f"
      },
      "source": [
        "### Activity 3 – FizzBuzz Lite\n",
        "Write a loop that prints numbers 1‑20. For multiples of 3 print \"Fizz\", for multiples of 5 print \"Buzz\", and for multiples of both print \"FizzBuzz\"."
      ]
    },
    {
      "cell_type": "code",
      "execution_count": null,
      "id": "08092ea8",
      "metadata": {
        "colab": {
          "base_uri": "https://localhost:8080/"
        },
        "id": "08092ea8",
        "outputId": "720c9113-6575-44fe-d784-a846ca6a434f"
      },
      "outputs": [],
      "source": [
        "# Your code here\n",
        "for i in range(1, 21):\n",
        "  print(i, end='\\t')\n",
        "  if i % 3 == 0:\n",
        "    print('Fizz', end='')\n",
        "  if i % 5 == 0:\n",
        "    print('Buzz', end='')\n",
        "  print('')"
      ]
    },
    {
      "cell_type": "markdown",
      "id": "2a9b92b6",
      "metadata": {
        "id": "2a9b92b6"
      },
      "source": [
        "## 5. Writing Functions\n",
        "Functions bundle reusable logic."
      ]
    },
    {
      "cell_type": "code",
      "execution_count": null,
      "id": "cbf6f817",
      "metadata": {
        "colab": {
          "base_uri": "https://localhost:8080/"
        },
        "id": "cbf6f817",
        "outputId": "85d8d78e-4017-439d-c129-27e31445c047"
      },
      "outputs": [],
      "source": [
        "def greet(name):\n",
        "    \"\"\"Return a friendly greeting\"\"\"\n",
        "    return f\"Hello, {name}!\"\n",
        "\n",
        "print(greet('Data Scientist'))"
      ]
    },
    {
      "cell_type": "markdown",
      "id": "ad7cc8b8",
      "metadata": {
        "id": "ad7cc8b8"
      },
      "source": [
        "### Activity 4 – Fibonacci Function\n",
        "Implement `fib(n)` that returns the n‑th Fibonacci number (`fib(0)=0`, `fib(1)=1`). Test that `fib(10)` is 55."
      ]
    },
    {
      "cell_type": "code",
      "execution_count": null,
      "id": "be2e43b9",
      "metadata": {
        "colab": {
          "base_uri": "https://localhost:8080/"
        },
        "id": "be2e43b9",
        "outputId": "4c3640e1-ef0b-49e6-87e9-817e9d25482b"
      },
      "outputs": [],
      "source": [
        "# Your code here\n",
        "def fib(n):\n",
        "  if n == 0:\n",
        "    return 0\n",
        "  if n == 1:\n",
        "    return 1\n",
        "  return fib(n - 1) + fib(n - 2)\n",
        "\n",
        "print(fib(10))"
      ]
    },
    {
      "cell_type": "markdown",
      "id": "dfcbf6cb",
      "metadata": {
        "id": "dfcbf6cb"
      },
      "source": [
        "## 6. Importing Libraries"
      ]
    },
    {
      "cell_type": "code",
      "execution_count": null,
      "id": "db261143",
      "metadata": {
        "colab": {
          "base_uri": "https://localhost:8080/",
          "height": 452
        },
        "id": "db261143",
        "outputId": "4450e187-512b-44d7-f130-97d08382c9d7"
      },
      "outputs": [],
      "source": [
        "import math\n",
        "import random\n",
        "import numpy as np\n",
        "import matplotlib.pyplot as plt\n",
        "\n",
        "samples = np.random.randn(1000)\n",
        "plt.hist(samples, bins=30)\n",
        "plt.title('Histogram of Normal Samples')\n",
        "plt.show()"
      ]
    },
    {
      "cell_type": "markdown",
      "id": "4a5d0c12",
      "metadata": {
        "id": "4a5d0c12"
      },
      "source": [
        "### Activity 5 – Dice Simulation\n",
        "Simulate rolling two six‑sided dice 10 000 times with `numpy.random.randint`. Plot a histogram of the sums."
      ]
    },
    {
      "cell_type": "code",
      "execution_count": null,
      "id": "6adaed3d",
      "metadata": {
        "colab": {
          "base_uri": "https://localhost:8080/",
          "height": 452
        },
        "id": "6adaed3d",
        "outputId": "2ef78ad3-34f2-4760-9d0a-aff271549c93"
      },
      "outputs": [],
      "source": [
        "# Your code here\n",
        "import random\n",
        "import numpy as np\n",
        "import matplotlib.pyplot as plt\n",
        "\n",
        "samples = np.random.randint(1, 7, 10000) + np.random.randint(1, 7, 10000)\n",
        "plt.hist(samples, bins=11)\n",
        "plt.title('Histogram of Dice Simulation')\n",
        "plt.show()"
      ]
    },
    {
      "cell_type": "markdown",
      "id": "bc223ffc",
      "metadata": {
        "id": "bc223ffc"
      },
      "source": [
        "## 7. Markdown Tips\n",
        "Use Markdown cells to explain your work:\n",
        "- `#` to `######` for headings\n",
        "- `**bold**` or `*italics*`\n",
        "- LaTeX math: `$E = mc^2$`\n",
        "\n",
        "Add a Markdown cell below explaining, in your own words, what a function is and why it’s useful."
      ]
    },
    {
      "cell_type": "code",
      "execution_count": null,
      "id": "13146364",
      "metadata": {
        "id": "13146364"
      },
      "outputs": [],
      "source": [
        "# (Add a Markdown cell below instead of editing here)"
      ]
    },
    {
      "cell_type": "markdown",
      "id": "v55CN5nQjli_",
      "metadata": {
        "id": "v55CN5nQjli_"
      },
      "source": [
        "A function contains a reusable chunk of code. Functions are useful because it allows you to reuse the same code (possibly with different parameters) without rewriting the code each time."
      ]
    },
    {
      "cell_type": "markdown",
      "id": "af2228ad",
      "metadata": {
        "id": "af2228ad"
      },
      "source": [
        "## 8. Version Control with Git & GitHub\n",
        "### Why version control?\n",
        "- Tracks changes to your code over time, like \"Track Changes\" in a document.\n",
        "- Enables collaboration without overwriting each other's work.\n",
        "- Provides an off‑site backup.\n",
        "\n",
        "We will use **GitHub Classroom** occasionally to provide each student with a private repository or will walk you through steps to create a repo for an assignment."
      ]
    },
    {
      "cell_type": "markdown",
      "id": "PVW9IAa32Fnx",
      "metadata": {
        "id": "PVW9IAa32Fnx"
      },
      "source": [
        "Sign up for GitHub if you have not already (or create a new one if you would like a new account) and share it in the following Google Form: [Link](https://docs.google.com/forms/d/e/1FAIpQLSdDg85PuiLlqXGdqvoHoIwsi0IgcHkgCp8JsvI-Fkq25y4TMQ/viewform?usp=dialog)"
      ]
    },
    {
      "cell_type": "markdown",
      "id": "aT68I8YsDFul",
      "metadata": {
        "id": "aT68I8YsDFul"
      },
      "source": [
        "TODO: Create a new public repository on GitHub and clone it in below:\n",
        "\n",
        "Code:\n",
        "\n",
        "!git clone https://github.com/example/repository.git.\n"
      ]
    },
    {
      "cell_type": "code",
      "execution_count": null,
      "id": "z5wE9jTMYxJm",
      "metadata": {
        "colab": {
          "base_uri": "https://localhost:8080/"
        },
        "id": "z5wE9jTMYxJm",
        "outputId": "c336548e-003d-40be-e37c-9d2d77441ad5"
      },
      "outputs": [],
      "source": [
        "!git clone https://github.com/thomasha1310/rise-practicum"
      ]
    },
    {
      "cell_type": "markdown",
      "id": "08304588",
      "metadata": {
        "id": "08304588"
      },
      "source": [
        "## Advanced Challenge Exercises\n",
        "These are optional stretch problems for students with prior coding experience.\n",
        "\n",
        "1. **List Comprehension Speed‑Up**  \n",
        "   Generate the squares of all integers from 1 to 100 000. Compare the runtime of a traditional `for` loop vs. a list comprehension using `timeit`. Plot the timing results. Further reading: https://www.geeksforgeeks.org/python/python-list-comprehension/\n",
        "\n",
        "2. **Dictionary Comprehension Puzzle**  \n",
        "   Create a dictionary that maps each lowercase letter `a‑z` to its numerical position in the alphabet **without** typing the alphabet explicitly (i.e., A is position 0, B is position 1). Further reading: https://www.geeksforgeeks.org/python/python-dictionary/\n",
        "\n",
        "3. **NumPy Broadcasting Art**  \n",
        "   Use NumPy broadcasting to create a 2‑D array that represents a grayscale image of concentric circles (hint: compute distance from the center). Display it with `plt.imshow()`.\n",
        "\n",
        "4. **Prime Checker Function**  \n",
        "   Implement `is_prime(n)` efficiently for `n ≤ 10^6`. Test it on the following primes: 2, 3, 5, 7, 9973\n",
        "\n",
        "Choose any you like and work below."
      ]
    },
    {
      "cell_type": "code",
      "execution_count": null,
      "id": "1a8b4b7f",
      "metadata": {
        "colab": {
          "base_uri": "https://localhost:8080/",
          "height": 452
        },
        "id": "1a8b4b7f",
        "outputId": "069dfa0d-103c-4bf1-cd45-283622595954"
      },
      "outputs": [],
      "source": [
        "# Problem 1\n",
        "\n",
        "import timeit\n",
        "import numpy as np\n",
        "import matplotlib.pyplot as plt\n",
        "\n",
        "array = []\n",
        "for i in range(1, 100001):\n",
        "  array.append(i)\n",
        "\n",
        "def list_comprehension():\n",
        "  result = [val ** 2 for val in array]\n",
        "\n",
        "def for_loop():\n",
        "  result = []\n",
        "  for i in range(100000):\n",
        "    result.append(array[i] ** 2)\n",
        "\n",
        "for_loop_data = []\n",
        "list_comprehension_data = []\n",
        "for _ in range(1000):\n",
        "  for_loop_data.append(timeit.timeit(for_loop, number=1))\n",
        "  list_comprehension_data.append(timeit.timeit(list_comprehension, number=1))\n"
      ]
    },
    {
      "cell_type": "code",
      "execution_count": null,
      "id": "11602173",
      "metadata": {},
      "outputs": [],
      "source": [
        "\n",
        "plt.title('List comprehension speed comparison')\n",
        "plt.hist(for_loop_data, bins=100, alpha=0.5, label=\"For Loop\")\n",
        "plt.hist(list_comprehension_data, bins=100, alpha=0.5, label=\"List Comprehension\")\n",
        "plt.legend()\n",
        "plt.show()"
      ]
    },
    {
      "cell_type": "code",
      "execution_count": null,
      "id": "PLPZ9y4Hmm9o",
      "metadata": {
        "colab": {
          "base_uri": "https://localhost:8080/"
        },
        "id": "PLPZ9y4Hmm9o",
        "outputId": "d19ec9dc-dbd9-49bd-b9a8-a42c96c18dd2"
      },
      "outputs": [],
      "source": [
        "# Problem 2\n",
        "\n",
        "dict = {chr(i + 97): i for i in range(26)}\n",
        "\n",
        "print(dict)"
      ]
    },
    {
      "cell_type": "code",
      "execution_count": null,
      "id": "JFQRh4D6aThY",
      "metadata": {
        "colab": {
          "base_uri": "https://localhost:8080/",
          "height": 453
        },
        "id": "JFQRh4D6aThY",
        "outputId": "8a64a71a-6349-42b5-c6be-6cd51b30a784"
      },
      "outputs": [],
      "source": [
        "# Problem 3\n",
        "\n",
        "import numpy as np\n",
        "import matplotlib.pyplot as plt\n",
        "\n",
        "size = 1000\n",
        "width = 30\n",
        "image = []\n",
        "\n",
        "for y in range(size):\n",
        "  row = []\n",
        "  for x in range(size):\n",
        "    distance = ((x - size / 2) ** 2 + (y - size / 2) ** 2) ** 0.5\n",
        "    if int(distance / width) % 2 == 0:\n",
        "      row.append(0)\n",
        "    else:\n",
        "      row.append(255)\n",
        "  image.append(row)\n",
        "\n",
        "plt.imshow(image, cmap='gray', vmin=0, vmax=255)\n",
        "plt.axis(\"off\")\n",
        "plt.show()"
      ]
    },
    {
      "cell_type": "code",
      "execution_count": null,
      "id": "7476b1cb",
      "metadata": {},
      "outputs": [],
      "source": [
        "# Problem 4\n",
        "\n",
        "def is_prime(n):\n",
        "    for i in range(2, int(n ** 0.5) + 1):\n",
        "        if n % i == 0:\n",
        "            return False\n",
        "    return True\n",
        "\n",
        "for i in range(1000000):\n",
        "    if is_prime(i):\n",
        "        print(f\"{i} is prime\")"
      ]
    },
    {
      "cell_type": "code",
      "execution_count": null,
      "id": "bc973271",
      "metadata": {},
      "outputs": [],
      "source": []
    }
  ],
  "metadata": {
    "colab": {
      "provenance": []
    },
    "kernelspec": {
      "display_name": "base",
      "language": "python",
      "name": "python3"
    },
    "language_info": {
      "codemirror_mode": {
        "name": "ipython",
        "version": 3
      },
      "file_extension": ".py",
      "mimetype": "text/x-python",
      "name": "python",
      "nbconvert_exporter": "python",
      "pygments_lexer": "ipython3",
      "version": "3.13.5"
    }
  },
  "nbformat": 4,
  "nbformat_minor": 5
}
