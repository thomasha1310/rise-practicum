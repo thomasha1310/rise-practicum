{
  "cells": [
    {
      "cell_type": "markdown",
      "id": "4fbefc2b",
      "metadata": {
        "id": "4fbefc2b"
      },
      "source": [
        "# Python Basics — Part I  \n",
        "### *Student Practice Notebook*"
      ]
    },
    {
      "cell_type": "markdown",
      "id": "122820cf",
      "metadata": {
        "id": "122820cf"
      },
      "source": [
        "After today’s live lesson, use this notebook to **practice** the core concepts.\n",
        "\n",
        "*Work through each section in order. Complete the exercises where you see **TODO** markers.*  \n"
      ]
    },
    {
      "cell_type": "markdown",
      "id": "37c83d53",
      "metadata": {
        "id": "37c83d53"
      },
      "source": [
        "**Covered Concepts**\n",
        "\n",
        "1. Data types & variables  \n",
        "2. Operators & expressions  \n",
        "3. Strings  \n",
        "4. Lists (plus tuples & sets)  \n",
        "5. Dictionaries  \n",
        "6. Control flow (if/else, loops)  \n",
        "7. Applying basics to small datasets  \n"
      ]
    },
    {
      "cell_type": "markdown",
      "id": "09aed65e",
      "metadata": {
        "id": "09aed65e"
      },
      "source": [
        "## 1  Data Types & Variables"
      ]
    },
    {
      "cell_type": "markdown",
      "id": "6c227e02",
      "metadata": {
        "id": "6c227e02"
      },
      "source": [
        "Below are some examples we discussed. Run each cell, then modify the code (values, operators) and re‑run to observe changes."
      ]
    },
    {
      "cell_type": "code",
      "execution_count": null,
      "id": "71037579",
      "metadata": {
        "id": "71037579"
      },
      "outputs": [],
      "source": [
        "# Try changing these variables and explore type()\n",
        "an_int = 42\n",
        "a_float = 3.14159\n",
        "a_string = \"Data Science\"\n",
        "is_data_fun = True\n",
        "\n",
        "print(type(an_int), an_int)\n",
        "print(type(a_float), a_float)\n",
        "print(type(a_string), a_string)\n",
        "print(type(is_data_fun), is_data_fun)\n"
      ]
    },
    {
      "cell_type": "markdown",
      "id": "99a05ffe",
      "metadata": {
        "id": "99a05ffe"
      },
      "source": [
        "## 2  Operators & Expressions"
      ]
    },
    {
      "cell_type": "code",
      "execution_count": null,
      "id": "a7636f44",
      "metadata": {
        "id": "a7636f44"
      },
      "outputs": [],
      "source": [
        "# Experiment with arithmetic, comparison, logical operators\n",
        "a, b = 7, 3\n",
        "print(\"a + b =\", a + b)\n",
        "print(\"a ** b =\", a ** b)\n",
        "print(\"a > b and b > 0\", (a > b) and (b > 0))\n"
      ]
    },
    {
      "cell_type": "markdown",
      "id": "cc270c94",
      "metadata": {
        "id": "cc270c94"
      },
      "source": [
        "### Exercise 1 — Even & Range Test  \n",
        "Write code that tests whether a number `n` is **even** *and* between 10 and 30 (inclusive).  \n",
        "Store the boolean result in `is_valid` and print it.\n",
        "\n",
        "**TODO:** complete the cell.\n"
      ]
    },
    {
      "cell_type": "code",
      "execution_count": null,
      "id": "d36975ec",
      "metadata": {
        "id": "d36975ec"
      },
      "outputs": [],
      "source": [
        "# TODO: even & range test\n",
        "n = ...\n",
        "is_valid = ...\n",
        "print(is_valid)\n"
      ]
    },
    {
      "cell_type": "markdown",
      "id": "10c101ad",
      "metadata": {
        "id": "10c101ad"
      },
      "source": [
        "### Exercise 2 — BMI Calculator  \n",
        "Create two variables:\n",
        "\n",
        "* `height_cm`- your height in centimeters  \n",
        "* `weight_kg`- your weight in kilograms  \n",
        "\n",
        "Then compute and print your **Body Mass Index (BMI)** with  \n",
        "\n",
        "\n",
        "$$\\text{BMI} = \\frac{\\text{weight_kg}}{(\\text{height_cm}/100)^2}$$\n",
        "\n",
        "\n",
        "**TODO:** edit the cell below.\n"
      ]
    },
    {
      "cell_type": "code",
      "execution_count": null,
      "id": "7de7617e",
      "metadata": {
        "id": "7de7617e"
      },
      "outputs": [],
      "source": [
        "# TODO: calculate BMI\n",
        "height_cm = ...\n",
        "weight_kg = ...\n",
        "bmi = ...\n",
        "print(\"BMI:\", bmi)\n"
      ]
    },
    {
      "cell_type": "markdown",
      "source": [
        "**TODO:** edit the cell below. Can you \"wrap\" BMI in a function? Call the function \"BMI_calculator\" (link: https://www.w3schools.com/python/python_functions.asp)"
      ],
      "metadata": {
        "id": "KR2WpvVBasPc"
      },
      "id": "KR2WpvVBasPc"
    },
    {
      "cell_type": "code",
      "source": [],
      "metadata": {
        "id": "gCbbUv6abQWz"
      },
      "id": "gCbbUv6abQWz",
      "execution_count": null,
      "outputs": []
    },
    {
      "cell_type": "markdown",
      "id": "b38ad0f9",
      "metadata": {
        "id": "b38ad0f9"
      },
      "source": [
        "## 3 Strings"
      ]
    },
    {
      "cell_type": "code",
      "execution_count": null,
      "id": "8772af4c",
      "metadata": {
        "id": "8772af4c"
      },
      "outputs": [],
      "source": [
        "msg = \"Data Science\"\n",
        "print(msg.upper())\n",
        "print(msg[::-1])      # reverse\n",
        "print(msg.split())    # split on whitespace\n"
      ]
    },
    {
      "cell_type": "markdown",
      "source": [
        "Create an f-string that reads \"Hello, <your name>!\" below Link: https://www.w3schools.com/python/python_string_formatting.asp"
      ],
      "metadata": {
        "id": "ar3HDZ-xLryP"
      },
      "id": "ar3HDZ-xLryP"
    },
    {
      "cell_type": "code",
      "execution_count": null,
      "id": "0cc7bb18",
      "metadata": {
        "id": "0cc7bb18"
      },
      "outputs": [],
      "source": [
        "# TODO: greeting f-string\n",
        "name = ...\n",
        "greeting = ...\n",
        "print(greeting)\n"
      ]
    },
    {
      "cell_type": "markdown",
      "id": "f6b65fd3",
      "metadata": {
        "id": "f6b65fd3"
      },
      "source": [
        "## 4  Lists"
      ]
    },
    {
      "cell_type": "markdown",
      "source": [
        "W3schools: https://www.w3schools.com/python/python_lists.asp"
      ],
      "metadata": {
        "id": "TIlSSfHpL2s5"
      },
      "id": "TIlSSfHpL2s5"
    },
    {
      "cell_type": "code",
      "execution_count": null,
      "id": "f85a6e8a",
      "metadata": {
        "id": "f85a6e8a"
      },
      "outputs": [],
      "source": [
        "temperatures = [21.0, 23.5, 19.8]\n",
        "temperatures.append(22.3)\n",
        "print(temperatures)\n",
        "\n",
        "# Slice the list to get the last two readings\n",
        "last_two = temperatures[-2:]\n",
        "last_two\n"
      ]
    },
    {
      "cell_type": "markdown",
      "id": "6f9f757b",
      "metadata": {
        "id": "6f9f757b"
      },
      "source": [
        "### Exercise 3 — Price Analysis  \n",
        "Given `prices = [10.5, 8.0, 12.3, 9.99]`:\n",
        "\n",
        "1. Compute and print the **average price**.  \n",
        "2. Create a new list `under_10` with only prices < 10 (use a list comprehension).\n",
        "\n",
        "**TODO:** implement below.\n"
      ]
    },
    {
      "cell_type": "code",
      "execution_count": null,
      "id": "a368919b",
      "metadata": {
        "id": "a368919b"
      },
      "outputs": [],
      "source": [
        "# TODO: price analysis\n",
        "prices = [10.5, 8.0, 12.3, 9.99]\n",
        "avg_price = ...\n",
        "under_10 = ...\n",
        "print(\"Average:\", avg_price)\n",
        "print(\"Under $10:\", under_10)\n"
      ]
    },
    {
      "cell_type": "markdown",
      "id": "ee7e415b",
      "metadata": {
        "id": "ee7e415b"
      },
      "source": [
        "### Tuples & Sets — Quick Practice"
      ]
    },
    {
      "cell_type": "markdown",
      "source": [
        "Read more about Tuples here: https://www.w3schools.com/python/python_tuples.asp"
      ],
      "metadata": {
        "id": "Lt4HxcEtMFAC"
      },
      "id": "Lt4HxcEtMFAC"
    },
    {
      "cell_type": "code",
      "execution_count": null,
      "id": "0731bfdc",
      "metadata": {
        "id": "0731bfdc"
      },
      "outputs": [],
      "source": [
        "# Create a tuple 'coords' (latitude, longitude) and a set of unique words from a sentence\n",
        "coords = ...\n",
        "sentence = \"spam spam eggs ham\"\n",
        "unique_words = ...\n",
        "coords, unique_words\n"
      ]
    },
    {
      "cell_type": "markdown",
      "source": [
        "#### What is a tuple? Compare its function to a python list and explain why/when you might want to use a list or a tuple."
      ],
      "metadata": {
        "id": "SeT5XF50MOHC"
      },
      "id": "SeT5XF50MOHC"
    },
    {
      "cell_type": "markdown",
      "id": "24547688",
      "metadata": {
        "id": "24547688"
      },
      "source": [
        "## 5  Dictionaries"
      ]
    },
    {
      "cell_type": "markdown",
      "source": [
        "Read more about dictionaries here: https://www.w3schools.com/python/python_dictionaries.asp"
      ],
      "metadata": {
        "id": "FzfWBfsIMZvc"
      },
      "id": "FzfWBfsIMZvc"
    },
    {
      "cell_type": "code",
      "execution_count": null,
      "id": "8fafee7c",
      "metadata": {
        "id": "8fafee7c"
      },
      "outputs": [],
      "source": [
        "population = {\"Boston\": 654776, \"NYC\": 8336817}\n",
        "population[\"Chicago\"] = 2705994\n",
        "\n",
        "for city, pop in population.items():\n",
        "    print(f\"{city}: {pop:,} residents\")\n"
      ]
    },
    {
      "cell_type": "markdown",
      "id": "d6a425bc",
      "metadata": {
        "id": "d6a425bc"
      },
      "source": [
        "### Exercise 4 — Word Frequency  \n",
        "Given `text = \"the quick brown fox jumps over the lazy dog the the\"`:\n",
        "\n",
        "* Build a dictionary `freq` mapping each word to its count (ignore case).  \n",
        "* Print the three most common words and counts.\n",
        "\n",
        "*(Hint: loop over `text.split()` and use `dict.get`)*\n",
        "\n",
        "**TODO:** write your solution.\n"
      ]
    },
    {
      "cell_type": "code",
      "execution_count": null,
      "id": "55a0c5b2",
      "metadata": {
        "id": "55a0c5b2"
      },
      "outputs": [],
      "source": [
        "# TODO: word frequency\n",
        "text = \"the quick brown fox jumps over the lazy dog the the\"\n",
        "freq = {}\n",
        "# your loop here\n",
        "\n",
        "# print top 3\n"
      ]
    },
    {
      "cell_type": "markdown",
      "id": "1d845549",
      "metadata": {
        "id": "1d845549"
      },
      "source": [
        "## 6  Control Flow"
      ]
    },
    {
      "cell_type": "code",
      "execution_count": null,
      "id": "5e45378b",
      "metadata": {
        "id": "5e45378b"
      },
      "outputs": [],
      "source": [
        "# Example: count temps above threshold\n",
        "temps = [21.0, 23.5, 19.8, 22.3]\n",
        "threshold = 22.0\n",
        "count = 0\n",
        "for t in temps:\n",
        "    if t > threshold:\n",
        "        count += 1\n",
        "print(count, \"readings above\", threshold)\n"
      ]
    },
    {
      "cell_type": "markdown",
      "id": "68fa373d",
      "metadata": {
        "id": "68fa373d"
      },
      "source": [
        "### Exercise 5 — Step Tracker  \n",
        "`steps = [8560, 10432, 7523, 9450, 11001, 6789, 8023]`\n",
        "\n",
        "1. Use a **for loop** to compute total weekly steps.  \n",
        "2. Use a **while loop** to find the first day with fewer than 8 000 steps.\n",
        "\n",
        "**TODO:** complete the code.\n"
      ]
    },
    {
      "cell_type": "code",
      "execution_count": null,
      "id": "3b31bedb",
      "metadata": {
        "id": "3b31bedb"
      },
      "outputs": [],
      "source": [
        "# TODO: step tracker\n",
        "steps = [8560, 10432, 7523, 9450, 11001, 6789, 8023]\n",
        "total = ...\n",
        "print(\"Total steps:\", total)\n",
        "\n",
        "i = 0\n",
        "# your while loop here\n"
      ]
    },
    {
      "cell_type": "markdown",
      "id": "0b088e22",
      "metadata": {
        "id": "0b088e22"
      },
      "source": [
        "## 7  Mini‑Project — Tiny Review Analyzer"
      ]
    },
    {
      "cell_type": "markdown",
      "id": "1a7aa2b6",
      "metadata": {
        "id": "1a7aa2b6"
      },
      "source": [
        "Work with the dataset of café reviews:\n",
        "\n",
        "```python\n",
        "reviews = [\n",
        "    {\"stars\":5, \"text\":\"Amazing coffee and ambiance.\"},\n",
        "    {\"stars\":4, \"text\":\"Great pastries, ok service.\"},\n",
        "    {\"stars\":2, \"text\":\"Coffee tasted burnt.\"},\n",
        "    {\"stars\":5, \"text\":\"My favorite café in town!\"},\n",
        "]\n",
        "```\n",
        "\n",
        "Tasks:\n",
        "\n",
        "1. Compute average star rating (float).  \n",
        "2. Print only 5‑star review texts.  \n",
        "3. Build a word‑frequency dictionary across all reviews (case‑insensitive).  \n",
        "\n",
        "**TODO:** tackle each sub‑task in the starter cell.  \n"
      ]
    },
    {
      "cell_type": "code",
      "execution_count": null,
      "id": "f2583c2c",
      "metadata": {
        "id": "f2583c2c"
      },
      "outputs": [],
      "source": [
        "# TODO: review analyzer\n",
        "reviews = [\n",
        "    {\"stars\":5, \"text\":\"Amazing coffee and ambiance.\"},\n",
        "    {\"stars\":4, \"text\":\"Great pastries, ok service.\"},\n",
        "    {\"stars\":2, \"text\":\"Coffee tasted burnt.\"},\n",
        "    {\"stars\":5, \"text\":\"My favorite café in town!\"},\n",
        "]\n",
        "\n",
        "# 1. average stars\n",
        "avg_stars = ...\n",
        "print(\"Average stars:\", avg_stars)\n",
        "\n",
        "# 2. five-star texts\n",
        "five_star_texts = ...\n",
        "print(five_star_texts)\n",
        "\n",
        "# 3. word frequency\n",
        "freqs = ...\n",
        "print(freqs)\n"
      ]
    }
  ],
  "metadata": {
    "language_info": {
      "name": "python"
    },
    "colab": {
      "provenance": []
    },
    "kernelspec": {
      "name": "python3",
      "display_name": "Python 3"
    }
  },
  "nbformat": 4,
  "nbformat_minor": 5
}