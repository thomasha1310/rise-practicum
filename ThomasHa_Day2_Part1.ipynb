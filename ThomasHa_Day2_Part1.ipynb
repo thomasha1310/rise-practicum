{
  "cells": [
    {
      "cell_type": "markdown",
      "id": "53f05be3",
      "metadata": {
        "id": "53f05be3"
      },
      "source": [
        "# Python Basics — Part I  \n",
        "### *Follow along Copy*"
      ]
    },
    {
      "cell_type": "markdown",
      "id": "c1c1e3bb",
      "metadata": {
        "id": "c1c1e3bb"
      },
      "source": [
        "## Learning Objectives  \n",
        "By the end of this notebook, students should be able to:\n",
        "\n",
        "1. Explain and identify core Python data types: **integers, floats, strings, booleans**.  \n",
        "2. Create variables and understand Python’s dynamic typing.  \n",
        "3. Use basic operators: arithmetic (`+`, `-`, `*`, `/`, `//`, `%`, `**`), comparison (`==`, `!=`, `<`, `>`), and logical (`and`, `or`, `not`).  \n",
        "4. Build and manipulate **lists** and **dictionaries**.  \n",
        "5. Control program flow with **if / elif / else** and **for / while** loops.  \n",
        "6. Apply these fundamentals to simple, data‑oriented tasks such as summarizing a dataset.\n"
      ]
    },
    {
      "cell_type": "markdown",
      "id": "77784ed9",
      "metadata": {
        "id": "77784ed9"
      },
      "source": [
        "## 1. Core Data Types\n",
        "Python has several built‑in data types; for beginners, four core types are essential:\n",
        "* **Numbers** (`int`, `float`)\n",
        "* **Strings** (`str`)\n",
        "* **Booleans** (`bool`)\n",
        "\n",
        "Code below demonstrates how to create each type and query its type at runtime using `type()`.\n"
      ]
    },
    {
      "cell_type": "code",
      "execution_count": null,
      "id": "fa423dd1",
      "metadata": {
        "id": "fa423dd1"
      },
      "outputs": [],
      "source": [
        "# Numbers\n",
        "an_int = 42\n",
        "a_float = 3.14159\n",
        "\n",
        "# String\n",
        "a_string = \"Data Science\"\n",
        "\n",
        "# Boolean\n",
        "is_data_fun = True\n",
        "\n",
        "print(type(an_int), an_int)\n",
        "print(type(a_float), a_float)\n",
        "print(type(a_string), a_string)\n",
        "print(type(is_data_fun), is_data_fun)\n"
      ]
    },
    {
      "cell_type": "markdown",
      "id": "8dd04c2f",
      "metadata": {
        "id": "8dd04c2f"
      },
      "source": [
        "### Exercise 1  \n",
        "Create two variables `height_cm` (your height in centimeters) and `weight_kg` (your weight in kilograms).  \n",
        "Compute and print your Body Mass Index (BMI) with the formula  \n",
        "\n",
        "$$\n",
        "\\mathrm{BMI}\n",
        "\\;=\\;\n",
        "\\frac{ \\mathrm{weight}_{\\mathrm{kg}} }\n",
        "     { \\bigl(\\mathrm{height}_{\\mathrm{cm}}/100\\bigr)^{2} }\n",
        "$$\n",
        "\n",
        "\n"
      ]
    },
    {
      "cell_type": "markdown",
      "id": "754e6c03",
      "metadata": {
        "id": "754e6c03"
      },
      "source": [
        "## 2. Variables & Dynamic Typing\n",
        "In Python a *variable* is created by simply assigning a value:\n",
        "\n",
        "```python\n",
        "name = \"Ada\"\n",
        "age = 36\n",
        "```\n",
        "\n",
        "Python is **dynamically typed** — a variable can reference any type and its type can change at runtime.  \n"
      ]
    },
    {
      "cell_type": "code",
      "execution_count": null,
      "id": "b8b5c9b5",
      "metadata": {
        "id": "b8b5c9b5"
      },
      "outputs": [],
      "source": [
        "x = 10          # int\n",
        "print(x, type(x))\n",
        "x = \"ten\"       # now str\n",
        "print(x, type(x))\n"
      ]
    },
    {
      "cell_type": "markdown",
      "id": "a7cae248",
      "metadata": {
        "id": "a7cae248"
      },
      "source": [
        "## 3. Basic Operators\n",
        "### Arithmetic\n",
        "| Operator | Meaning | Example | Result |\n",
        "|---|---|---|---|\n",
        "| `+` | Addition | `2 + 3` | `5` |\n",
        "| `-` | Subtraction | `5 - 2` | `3` |\n",
        "| `*` | Multiplication | `4 * 2` | `8` |\n",
        "| `/` | True division | `5 / 2` | `2.5` |\n",
        "| `//` | Floor division | `5 // 2` | `2` |\n",
        "| `%` | Modulo (remainder) | `5 % 2` | `1` |\n",
        "| `**` | Exponentiation | `2 ** 3` | `8` |\n",
        "\n",
        "### Comparison & Logical  \n",
        "`==`, `!=`, `<`, `>`, `<=`, `>=` return booleans, which you combine with `and`, `or`, `not`.\n"
      ]
    },
    {
      "cell_type": "code",
      "execution_count": null,
      "id": "684fcdd3",
      "metadata": {
        "id": "684fcdd3"
      },
      "outputs": [],
      "source": [
        "a, b = 7, 3\n",
        "print(\"a + b =\", a + b)\n",
        "print(\"a // b =\", a // b)\n",
        "print(\"a % b =\", a % b)\n",
        "\n",
        "print(\"a > b and b > 0:\", a > b and b > 0)\n"
      ]
    },
    {
      "cell_type": "markdown",
      "id": "213917b1",
      "metadata": {
        "id": "213917b1"
      },
      "source": [
        "### Exercise 2  \n",
        "Write code that tests whether a number `n` is **even** and between 10 and 30 inclusive. Store the boolean in `is_valid` and print it.\n",
        "\n"
      ]
    },
    {
      "cell_type": "markdown",
      "id": "314238a8",
      "metadata": {
        "id": "314238a8"
      },
      "source": [
        "## 4. Data Structures\n",
        "Python’s most commonly used containers are **lists** and **dictionaries**.\n",
        "\n",
        "* A **list** is an ordered collection:  \n",
        "  `temperatures = [21.0, 23.5, 19.8]`\n",
        "* A **dictionary** maps keys to values:  \n",
        "  `population = {\"Boston\": 654776, \"NYC\": 8336817}`\n"
      ]
    },
    {
      "cell_type": "code",
      "execution_count": null,
      "id": "7054576d",
      "metadata": {
        "id": "7054576d"
      },
      "outputs": [],
      "source": [
        "temperatures = [21.0, 23.5, 19.8]\n",
        "print(\"First reading:\", temperatures[0])\n",
        "temperatures.append(22.3)\n",
        "print(\"All readings:\", temperatures)\n",
        "\n",
        "population = {\"Boston\": 654776, \"NYC\": 8336817}\n",
        "population[\"Chicago\"] = 2705994\n",
        "print(population)\n"
      ]
    },
    {
      "cell_type": "markdown",
      "id": "738e7bcc",
      "metadata": {
        "id": "738e7bcc"
      },
      "source": [
        "### Exercise 3  \n",
        "1. Given `prices = [10.5, 8.0, 12.3, 9.99]`, compute the **average price**.  \n",
        "2. Using the `population` dict above, write a loop that prints each city and its population on its own line in the format `\"City: X residents\"`.\n",
        "\n"
      ]
    },
    {
      "cell_type": "markdown",
      "id": "26b02bc0",
      "metadata": {
        "id": "26b02bc0"
      },
      "source": [
        "## 5. Control Flow\n",
        "### `if / elif / else`\n",
        "```python\n",
        "if condition:\n",
        "    ...\n",
        "elif other_condition:\n",
        "    ...\n",
        "else:\n",
        "    ...\n",
        "```\n",
        "\n",
        "### Loops  \n",
        "`for` loops iterate over *iterables* (lists, dicts, ranges).  \n",
        "`while` loops run until a condition becomes `False`.\n"
      ]
    },
    {
      "cell_type": "code",
      "execution_count": null,
      "id": "2391f356",
      "metadata": {
        "id": "2391f356"
      },
      "outputs": [],
      "source": [
        "# Example: count temperature readings above a threshold\n",
        "threshold = 22.0\n",
        "count = 0\n",
        "for t in temperatures:\n",
        "    if t > threshold:\n",
        "        count += 1\n",
        "print(f\"Readings above {threshold}°C:\", count)\n"
      ]
    },
    {
      "cell_type": "markdown",
      "id": "92163197",
      "metadata": {
        "id": "92163197"
      },
      "source": [
        "### Exercise 4  \n",
        "The list below represents daily step counts.  \n",
        "* Use a `for` loop to compute the total steps for the week.  \n",
        "* Use a `while` loop to find the first day with fewer than 8 000 steps.\n",
        "\n",
        "```python\n",
        "steps = [8560, 10432, 7523, 9450, 11001, 6789, 8023]\n",
        "```\n",
        "\n"
      ]
    },
    {
      "cell_type": "markdown",
      "id": "4ea1b79d",
      "metadata": {
        "id": "4ea1b79d"
      },
      "source": [
        "## 6. Mini‑Project: Quick EDA on a Tiny Dataset\n",
        "\n",
        "Suppose we have a CSV file `data/small_cities.csv`:\n",
        "\n",
        "| city | population | median_income |\n",
        "|------|------------|---------------|\n",
        "| Boston | 654776 | 81235 |\n",
        "| Portland | 653115 | 73549 |\n",
        "| Providence | 189563 | 63412 |\n",
        "\n",
        "We will:\n",
        "\n",
        "1. **Read** the CSV with `pandas`.  \n",
        "2. **Compute** the average population.  \n",
        "3. **Filter** rows where median income exceeds \\$75 000.\n",
        "\n",
        "(We hard‑code the DataFrame below for portability.)\n"
      ]
    },
    {
      "cell_type": "code",
      "execution_count": null,
      "id": "57c10c1c",
      "metadata": {
        "id": "57c10c1c"
      },
      "outputs": [],
      "source": [
        "import pandas as pd\n",
        "\n",
        "df = pd.DataFrame({\n",
        "    \"city\": [\"Boston\", \"Portland\", \"Providence\"],\n",
        "    \"population\": [654776, 653115, 189563],\n",
        "    \"median_income\": [81235, 73549, 63412],\n",
        "})\n",
        "df\n"
      ]
    },
    {
      "cell_type": "code",
      "execution_count": null,
      "id": "2e8b964d",
      "metadata": {
        "id": "2e8b964d"
      },
      "outputs": [],
      "source": [
        "avg_pop = df[\"population\"].mean()\n",
        "print(f\"Average population: {avg_pop:,.0f}\")\n",
        "\n",
        "high_income = df[df[\"median_income\"] > 75000]\n",
        "high_income\n"
      ]
    },
    {
      "cell_type": "markdown",
      "id": "1fb2e1f1",
      "metadata": {
        "id": "1fb2e1f1"
      },
      "source": [
        "## 7. Key Takeaways\n",
        "* **Primitive types** underpin everything.  \n",
        "* **Lists and dictionaries** are go‑to data containers.  \n",
        "* **Control flow** lets us write logic that responds to data.  \n",
        "* Combine these building blocks to perform **basic exploratory data analysis**.\n",
        "\n",
        "---\n",
        "\n"
      ]
    }
  ],
  "metadata": {
    "kernelspec": {
      "display_name": "assigment-1",
      "language": "python",
      "name": "python3"
    },
    "language_info": {
      "codemirror_mode": {
        "name": "ipython",
        "version": 3
      },
      "file_extension": ".py",
      "mimetype": "text/x-python",
      "name": "python",
      "nbconvert_exporter": "python",
      "pygments_lexer": "ipython3",
      "version": "3.9.22"
    },
    "colab": {
      "provenance": []
    }
  },
  "nbformat": 4,
  "nbformat_minor": 5
}