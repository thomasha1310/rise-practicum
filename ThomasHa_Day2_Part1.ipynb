{
  "cells": [
    {
      "cell_type": "markdown",
      "id": "53f05be3",
      "metadata": {
        "id": "53f05be3"
      },
      "source": [
        "# Python Basics — Part I  \n",
        "### *Follow along Copy*"
      ]
    },
    {
      "cell_type": "markdown",
      "id": "c1c1e3bb",
      "metadata": {
        "id": "c1c1e3bb"
      },
      "source": [
        "## Learning Objectives  \n",
        "By the end of this notebook, students should be able to:\n",
        "\n",
        "1. Explain and identify core Python data types: **integers, floats, strings, booleans**.  \n",
        "2. Create variables and understand Python’s dynamic typing.  \n",
        "3. Use basic operators: arithmetic (`+`, `-`, `*`, `/`, `//`, `%`, `**`), comparison (`==`, `!=`, `<`, `>`), and logical (`and`, `or`, `not`).  \n",
        "4. Build and manipulate **lists** and **dictionaries**.  \n",
        "5. Control program flow with **if / elif / else** and **for / while** loops.  \n",
        "6. Apply these fundamentals to simple, data‑oriented tasks such as summarizing a dataset.\n"
      ]
    },
    {
      "cell_type": "markdown",
      "id": "77784ed9",
      "metadata": {
        "id": "77784ed9"
      },
      "source": [
        "## 1. Core Data Types\n",
        "Python has several built‑in data types; for beginners, four core types are essential:\n",
        "* **Numbers** (`int`, `float`)\n",
        "* **Strings** (`str`)\n",
        "* **Booleans** (`bool`)\n",
        "\n",
        "Code below demonstrates how to create each type and query its type at runtime using `type()`.\n"
      ]
    },
    {
      "cell_type": "code",
      "execution_count": null,
      "id": "fa423dd1",
      "metadata": {
        "id": "fa423dd1"
      },
      "outputs": [],
      "source": [
        "# Numbers\n",
        "an_int = 42\n",
        "a_float = 3.14159\n",
        "\n",
        "# String\n",
        "a_string = \"Data Science\"\n",
        "\n",
        "# Boolean\n",
        "is_data_fun = True\n",
        "\n",
        "print(type(an_int), an_int)\n",
        "print(type(a_float), a_float)\n",
        "print(type(a_string), a_string)\n",
        "print(type(is_data_fun), is_data_fun)\n"
      ]
    },
    {
      "cell_type": "markdown",
      "id": "8dd04c2f",
      "metadata": {
        "id": "8dd04c2f"
      },
      "source": [
        "### Exercise 1  \n",
        "Create two variables `height_cm` (your height in centimeters) and `weight_kg` (your weight in kilograms).  \n",
        "Compute and print your Body Mass Index (BMI) with the formula  \n",
        "\n",
        "$$\n",
        "\\mathrm{BMI}\n",
        "\\;=\\;\n",
        "\\frac{ \\mathrm{weight}_{\\mathrm{kg}} }\n",
        "     { \\bigl(\\mathrm{height}_{\\mathrm{cm}}/100\\bigr)^{2} }\n",
        "$$\n",
        "\n",
        "\n"
      ]
    },
    {
      "cell_type": "code",
      "execution_count": 2,
      "id": "c9dbbf43",
      "metadata": {},
      "outputs": [
        {
          "name": "stdout",
          "output_type": "stream",
          "text": [
            "19.925129815239703\n"
          ]
        }
      ],
      "source": [
        "height_cm = 182\n",
        "weight_kg = 66\n",
        "\n",
        "bmi = weight_kg / ((height_cm / 100) ** 2)\n",
        "\n",
        "print(bmi)"
      ]
    },
    {
      "cell_type": "markdown",
      "id": "754e6c03",
      "metadata": {
        "id": "754e6c03"
      },
      "source": [
        "## 2. Variables & Dynamic Typing\n",
        "In Python a *variable* is created by simply assigning a value:\n",
        "\n",
        "```python\n",
        "name = \"Ada\"\n",
        "age = 36\n",
        "```\n",
        "\n",
        "Python is **dynamically typed** — a variable can reference any type and its type can change at runtime.  \n"
      ]
    },
    {
      "cell_type": "code",
      "execution_count": null,
      "id": "b8b5c9b5",
      "metadata": {
        "id": "b8b5c9b5"
      },
      "outputs": [],
      "source": [
        "x = 10          # int\n",
        "print(x, type(x))\n",
        "x = \"ten\"       # now str\n",
        "print(x, type(x))\n"
      ]
    },
    {
      "cell_type": "markdown",
      "id": "a7cae248",
      "metadata": {
        "id": "a7cae248"
      },
      "source": [
        "## 3. Basic Operators\n",
        "### Arithmetic\n",
        "| Operator | Meaning | Example | Result |\n",
        "|---|---|---|---|\n",
        "| `+` | Addition | `2 + 3` | `5` |\n",
        "| `-` | Subtraction | `5 - 2` | `3` |\n",
        "| `*` | Multiplication | `4 * 2` | `8` |\n",
        "| `/` | True division | `5 / 2` | `2.5` |\n",
        "| `//` | Floor division | `5 // 2` | `2` |\n",
        "| `%` | Modulo (remainder) | `5 % 2` | `1` |\n",
        "| `**` | Exponentiation | `2 ** 3` | `8` |\n",
        "\n",
        "### Comparison & Logical  \n",
        "`==`, `!=`, `<`, `>`, `<=`, `>=` return booleans, which you combine with `and`, `or`, `not`.\n"
      ]
    },
    {
      "cell_type": "code",
      "execution_count": null,
      "id": "684fcdd3",
      "metadata": {
        "id": "684fcdd3"
      },
      "outputs": [],
      "source": [
        "a, b = 7, 3\n",
        "print(\"a + b =\", a + b)\n",
        "print(\"a // b =\", a // b)\n",
        "print(\"a % b =\", a % b)\n",
        "\n",
        "print(\"a > b and b > 0:\", a > b and b > 0)\n"
      ]
    },
    {
      "cell_type": "markdown",
      "id": "213917b1",
      "metadata": {
        "id": "213917b1"
      },
      "source": [
        "### Exercise 2  \n",
        "Write code that tests whether a number `n` is **even** and between 10 and 30 inclusive. Store the boolean in `is_valid` and print it.\n",
        "\n"
      ]
    },
    {
      "cell_type": "code",
      "execution_count": 1,
      "id": "df36427d",
      "metadata": {},
      "outputs": [
        {
          "name": "stdout",
          "output_type": "stream",
          "text": [
            "False\n"
          ]
        }
      ],
      "source": [
        "def check_is_valid(n):\n",
        "    if n % 2 == 0 and n >= 10 and n <= 30:\n",
        "        return True\n",
        "    return False\n",
        "\n",
        "is_valid = check_is_valid(25)\n",
        "print(is_valid)"
      ]
    },
    {
      "cell_type": "markdown",
      "id": "314238a8",
      "metadata": {
        "id": "314238a8"
      },
      "source": [
        "## 4. Data Structures\n",
        "Python’s most commonly used containers are **lists** and **dictionaries**.\n",
        "\n",
        "* A **list** is an ordered collection:  \n",
        "  `temperatures = [21.0, 23.5, 19.8]`\n",
        "* A **dictionary** maps keys to values:  \n",
        "  `population = {\"Boston\": 654776, \"NYC\": 8336817}`\n"
      ]
    },
    {
      "cell_type": "code",
      "execution_count": 1,
      "id": "7054576d",
      "metadata": {
        "id": "7054576d"
      },
      "outputs": [
        {
          "name": "stdout",
          "output_type": "stream",
          "text": [
            "First reading: 21.0\n",
            "All readings: [21.0, 23.5, 19.8, 22.3]\n",
            "{'Boston': 654776, 'NYC': 8336817, 'Chicago': 2705994}\n"
          ]
        }
      ],
      "source": [
        "temperatures = [21.0, 23.5, 19.8]\n",
        "print(\"First reading:\", temperatures[0])\n",
        "temperatures.append(22.3)\n",
        "print(\"All readings:\", temperatures)\n",
        "\n",
        "population = {\"Boston\": 654776, \"NYC\": 8336817}\n",
        "population[\"Chicago\"] = 2705994\n",
        "print(population)\n"
      ]
    },
    {
      "cell_type": "markdown",
      "id": "738e7bcc",
      "metadata": {
        "id": "738e7bcc"
      },
      "source": [
        "### Exercise 3  \n",
        "1. Given `prices = [10.5, 8.0, 12.3, 9.99]`, compute the **average price**.  \n",
        "2. Using the `population` dict above, write a loop that prints each city and its population on its own line in the format `\"City: X residents\"`.\n",
        "\n"
      ]
    },
    {
      "cell_type": "code",
      "execution_count": 2,
      "id": "62976485",
      "metadata": {},
      "outputs": [
        {
          "name": "stdout",
          "output_type": "stream",
          "text": [
            "10.1975\n",
            "Boston: 654776 residents\n",
            "NYC: 8336817 residents\n",
            "Chicago: 2705994 residents\n"
          ]
        }
      ],
      "source": [
        "prices = [10.5, 8.0, 12.3, 9.99]\n",
        "\n",
        "average_price = sum(prices) / len(prices)\n",
        "print(average_price)\n",
        "\n",
        "for (city, pops) in population.items():\n",
        "    print(f\"{city}: {pops} residents\")"
      ]
    },
    {
      "cell_type": "markdown",
      "id": "26b02bc0",
      "metadata": {
        "id": "26b02bc0"
      },
      "source": [
        "## 5. Control Flow\n",
        "### `if / elif / else`\n",
        "```python\n",
        "if condition:\n",
        "    ...\n",
        "elif other_condition:\n",
        "    ...\n",
        "else:\n",
        "    ...\n",
        "```\n",
        "\n",
        "### Loops  \n",
        "`for` loops iterate over *iterables* (lists, dicts, ranges).  \n",
        "`while` loops run until a condition becomes `False`.\n"
      ]
    },
    {
      "cell_type": "code",
      "execution_count": null,
      "id": "2391f356",
      "metadata": {
        "id": "2391f356"
      },
      "outputs": [],
      "source": [
        "# Example: count temperature readings above a threshold\n",
        "threshold = 22.0\n",
        "count = 0\n",
        "for t in temperatures:\n",
        "    if t > threshold:\n",
        "        count += 1\n",
        "print(f\"Readings above {threshold}°C:\", count)\n"
      ]
    },
    {
      "cell_type": "markdown",
      "id": "92163197",
      "metadata": {
        "id": "92163197"
      },
      "source": [
        "### Exercise 4  \n",
        "The list below represents daily step counts.  \n",
        "* Use a `for` loop to compute the total steps for the week.  \n",
        "* Use a `while` loop to find the first day with fewer than 8 000 steps.\n",
        "\n",
        "```python\n",
        "steps = [8560, 10432, 7523, 9450, 11001, 6789, 8023]\n",
        "```\n",
        "\n"
      ]
    },
    {
      "cell_type": "code",
      "execution_count": 4,
      "id": "d6e62858",
      "metadata": {},
      "outputs": [
        {
          "name": "stdout",
          "output_type": "stream",
          "text": [
            "61778\n",
            "Day 3 had fewer than 8000 steps (7523 steps)\n"
          ]
        }
      ],
      "source": [
        "steps = [8560, 10432, 7523, 9450, 11001, 6789, 8023]\n",
        "\n",
        "total_steps = 0\n",
        "for i in steps:\n",
        "    total_steps += i\n",
        "    \n",
        "print(total_steps)\n",
        "\n",
        "i = 0\n",
        "while steps[i] >= 8000:\n",
        "    i += 1\n",
        "print(f\"Day {i + 1} had fewer than 8000 steps ({steps[i]} steps)\")"
      ]
    },
    {
      "cell_type": "markdown",
      "id": "4ea1b79d",
      "metadata": {
        "id": "4ea1b79d"
      },
      "source": [
        "## 6. Mini‑Project: Quick EDA on a Tiny Dataset\n",
        "\n",
        "Suppose we have a CSV file `data/small_cities.csv`:\n",
        "\n",
        "| city | population | median_income |\n",
        "|------|------------|---------------|\n",
        "| Boston | 654776 | 81235 |\n",
        "| Portland | 653115 | 73549 |\n",
        "| Providence | 189563 | 63412 |\n",
        "\n",
        "We will:\n",
        "\n",
        "1. **Read** the CSV with `pandas`.  \n",
        "2. **Compute** the average population.  \n",
        "3. **Filter** rows where median income exceeds \\$75 000.\n",
        "\n",
        "(We hard‑code the DataFrame below for portability.)\n"
      ]
    },
    {
      "cell_type": "code",
      "execution_count": 5,
      "id": "57c10c1c",
      "metadata": {
        "id": "57c10c1c"
      },
      "outputs": [
        {
          "data": {
            "text/html": [
              "<div>\n",
              "<style scoped>\n",
              "    .dataframe tbody tr th:only-of-type {\n",
              "        vertical-align: middle;\n",
              "    }\n",
              "\n",
              "    .dataframe tbody tr th {\n",
              "        vertical-align: top;\n",
              "    }\n",
              "\n",
              "    .dataframe thead th {\n",
              "        text-align: right;\n",
              "    }\n",
              "</style>\n",
              "<table border=\"1\" class=\"dataframe\">\n",
              "  <thead>\n",
              "    <tr style=\"text-align: right;\">\n",
              "      <th></th>\n",
              "      <th>city</th>\n",
              "      <th>population</th>\n",
              "      <th>median_income</th>\n",
              "    </tr>\n",
              "  </thead>\n",
              "  <tbody>\n",
              "    <tr>\n",
              "      <th>0</th>\n",
              "      <td>Boston</td>\n",
              "      <td>654776</td>\n",
              "      <td>81235</td>\n",
              "    </tr>\n",
              "    <tr>\n",
              "      <th>1</th>\n",
              "      <td>Portland</td>\n",
              "      <td>653115</td>\n",
              "      <td>73549</td>\n",
              "    </tr>\n",
              "    <tr>\n",
              "      <th>2</th>\n",
              "      <td>Providence</td>\n",
              "      <td>189563</td>\n",
              "      <td>63412</td>\n",
              "    </tr>\n",
              "  </tbody>\n",
              "</table>\n",
              "</div>"
            ],
            "text/plain": [
              "         city  population  median_income\n",
              "0      Boston      654776          81235\n",
              "1    Portland      653115          73549\n",
              "2  Providence      189563          63412"
            ]
          },
          "execution_count": 5,
          "metadata": {},
          "output_type": "execute_result"
        }
      ],
      "source": [
        "import pandas as pd\n",
        "\n",
        "df = pd.DataFrame({\n",
        "    \"city\": [\"Boston\", \"Portland\", \"Providence\"],\n",
        "    \"population\": [654776, 653115, 189563],\n",
        "    \"median_income\": [81235, 73549, 63412],\n",
        "})\n",
        "df\n"
      ]
    },
    {
      "cell_type": "code",
      "execution_count": 6,
      "id": "2e8b964d",
      "metadata": {
        "id": "2e8b964d"
      },
      "outputs": [
        {
          "name": "stdout",
          "output_type": "stream",
          "text": [
            "Average population: 499,151\n"
          ]
        },
        {
          "data": {
            "text/html": [
              "<div>\n",
              "<style scoped>\n",
              "    .dataframe tbody tr th:only-of-type {\n",
              "        vertical-align: middle;\n",
              "    }\n",
              "\n",
              "    .dataframe tbody tr th {\n",
              "        vertical-align: top;\n",
              "    }\n",
              "\n",
              "    .dataframe thead th {\n",
              "        text-align: right;\n",
              "    }\n",
              "</style>\n",
              "<table border=\"1\" class=\"dataframe\">\n",
              "  <thead>\n",
              "    <tr style=\"text-align: right;\">\n",
              "      <th></th>\n",
              "      <th>city</th>\n",
              "      <th>population</th>\n",
              "      <th>median_income</th>\n",
              "    </tr>\n",
              "  </thead>\n",
              "  <tbody>\n",
              "    <tr>\n",
              "      <th>0</th>\n",
              "      <td>Boston</td>\n",
              "      <td>654776</td>\n",
              "      <td>81235</td>\n",
              "    </tr>\n",
              "  </tbody>\n",
              "</table>\n",
              "</div>"
            ],
            "text/plain": [
              "     city  population  median_income\n",
              "0  Boston      654776          81235"
            ]
          },
          "execution_count": 6,
          "metadata": {},
          "output_type": "execute_result"
        }
      ],
      "source": [
        "avg_pop = df[\"population\"].mean()\n",
        "print(f\"Average population: {avg_pop:,.0f}\")\n",
        "\n",
        "high_income = df[df[\"median_income\"] > 75000]\n",
        "high_income\n"
      ]
    },
    {
      "cell_type": "markdown",
      "id": "1fb2e1f1",
      "metadata": {
        "id": "1fb2e1f1"
      },
      "source": [
        "## 7. Key Takeaways\n",
        "* **Primitive types** underpin everything.  \n",
        "* **Lists and dictionaries** are go‑to data containers.  \n",
        "* **Control flow** lets us write logic that responds to data.  \n",
        "* Combine these building blocks to perform **basic exploratory data analysis**.\n",
        "\n",
        "---\n",
        "\n"
      ]
    }
  ],
  "metadata": {
    "colab": {
      "provenance": []
    },
    "kernelspec": {
      "display_name": "base",
      "language": "python",
      "name": "python3"
    },
    "language_info": {
      "codemirror_mode": {
        "name": "ipython",
        "version": 3
      },
      "file_extension": ".py",
      "mimetype": "text/x-python",
      "name": "python",
      "nbconvert_exporter": "python",
      "pygments_lexer": "ipython3",
      "version": "3.13.5"
    }
  },
  "nbformat": 4,
  "nbformat_minor": 5
}
