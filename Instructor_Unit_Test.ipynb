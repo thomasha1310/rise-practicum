{
  "cells": [
    {
      "cell_type": "markdown",
      "metadata": {
        "id": "wRJeVoIn0Sqs"
      },
      "source": [
        "# 1. Simple `assert` statements"
      ]
    },
    {
      "cell_type": "code",
      "execution_count": null,
      "metadata": {
        "id": "jCnsyiic0Gtp"
      },
      "outputs": [],
      "source": [
        "## 1. Simple `assert` statements\n",
        "\n",
        "# define a tiny function\n",
        "def add_two(x: int) -> int:\n",
        "    \"\"\"Return x + 2.\"\"\"\n",
        "    return x + 2\n",
        "\n",
        "# smoke-test with bare asserts\n",
        "assert add_two(3) == 5\n",
        "assert add_two(-2) == 0\n",
        "print(\"add_two passed basic asserts\")\n"
      ]
    },
    {
      "cell_type": "markdown",
      "metadata": {
        "id": "J2KijRXv0W1n"
      },
      "source": [
        "# 2. Using the built-in `unittest` framework"
      ]
    },
    {
      "cell_type": "code",
      "execution_count": null,
      "metadata": {
        "id": "ManZ9b_b0M1O"
      },
      "outputs": [],
      "source": [
        "# import unittest and your function\n",
        "import unittest\n",
        "\n",
        "class TestAddTwo(unittest.TestCase):\n",
        "    def test_positive(self):\n",
        "        self.assertEqual(add_two(10), 12)\n",
        "\n",
        "    def test_zero(self):\n",
        "        self.assertEqual(add_two(0), 2)\n",
        "\n",
        "    def test_negative(self):\n",
        "        self.assertEqual(add_two(-5), -3)\n",
        "\n",
        "# run tests in-notebook\n",
        "if __name__ == \"__main__\":\n",
        "    unittest.main(argv=[\"\"], verbosity=2, exit=False)\n"
      ]
    },
    {
      "cell_type": "markdown",
      "metadata": {
        "id": "g_LfUvsZ0iI3"
      },
      "source": [
        "# 3. Writing pytest files and invoking `pytest`"
      ]
    },
    {
      "cell_type": "markdown",
      "metadata": {
        "id": "VnaxOtEj1Idq"
      },
      "source": [
        "### Let's make an example_stats.py file\n",
        "\n",
        "%% Is a magic command to make our notebook behave more like normal terminals/IDEs"
      ]
    },
    {
      "cell_type": "code",
      "execution_count": null,
      "metadata": {
        "id": "NKLolVSC0ePq"
      },
      "outputs": [],
      "source": [
        "# write an example module\n",
        "%%writefile example_stats.py\n",
        "def is_even(n: int) -> bool:\n",
        "    \"\"\"Return True if n is even.\"\"\"\n",
        "    return n % 2 == 0\n",
        "\n",
        "\n"
      ]
    },
    {
      "cell_type": "markdown",
      "metadata": {
        "id": "GRpKr7FK1cwp"
      },
      "source": [
        "### We can see that we now have an example_stats.py file"
      ]
    },
    {
      "cell_type": "code",
      "execution_count": null,
      "metadata": {
        "id": "LQ-J3TvW0sH8"
      },
      "outputs": [],
      "source": [
        "# write a pytest test file\n",
        "%%writefile test_example_stats.py\n",
        "import pytest\n",
        "from example_stats import is_even\n",
        "\n",
        "@pytest.mark.parametrize(\"n,expected\", [\n",
        "    (2, True),\n",
        "    (3, False),\n",
        "    (0, True),\n",
        "    (-4, True),\n",
        "])\n",
        "def test_is_even(n, expected):\n",
        "    assert is_even(n) == expected\n",
        "\n",
        "def test_is_even_typeerror():\n",
        "    with pytest.raises(TypeError):\n",
        "        is_even(\"not a number\")"
      ]
    },
    {
      "cell_type": "code",
      "execution_count": null,
      "metadata": {
        "id": "sP5LIm2K0wlE"
      },
      "outputs": [],
      "source": [
        "# run pytest in the notebook\n",
        "!pytest -q test_example_stats.py"
      ]
    },
    {
      "cell_type": "code",
      "execution_count": null,
      "metadata": {
        "id": "TDIaf5Cy0k7k"
      },
      "outputs": [],
      "source": []
    }
  ],
  "metadata": {
    "colab": {
      "provenance": []
    },
    "kernelspec": {
      "display_name": "base",
      "language": "python",
      "name": "python3"
    },
    "language_info": {
      "codemirror_mode": {
        "name": "ipython",
        "version": 3
      },
      "file_extension": ".py",
      "mimetype": "text/x-python",
      "name": "python",
      "nbconvert_exporter": "python",
      "pygments_lexer": "ipython3",
      "version": "3.13.5"
    }
  },
  "nbformat": 4,
  "nbformat_minor": 0
}
