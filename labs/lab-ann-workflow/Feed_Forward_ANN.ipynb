{
 "cells": [
  {
   "cell_type": "code",
   "execution_count": null,
   "id": "cd580148",
   "metadata": {},
   "outputs": [],
   "source": [
    "import pandas as pd\n",
    "from sklearn.model_selection import train_test_split\n",
    "from sklearn.preprocessing import StandardScaler\n",
    "from sklearn.neural_network import MLPClassifier\n",
    "import matplotlib.pyplot as plt\n",
    "from pandas.plotting import scatter_matrix"
   ]
  },
  {
   "cell_type": "code",
   "execution_count": null,
   "id": "2f761eb2",
   "metadata": {},
   "outputs": [],
   "source": [
    "files = [f'dataset{i}.csv' for i in range(1, 5)]\n",
    "\n",
    "for path in files:\n",
    "    df = pd.read_csv(path)\n",
    "    features = [c for c in df.columns if c != 'target']\n",
    "    X = df[features]\n",
    "    y = df['target']\n",
    "\n",
    "    plt.figure(figsize=(6, 6))\n",
    "    if X.shape[1] == 2:\n",
    "        plt.scatter(\n",
    "            X.iloc[:, 0], X.iloc[:, 1],\n",
    "            c=y, cmap='bwr', edgecolor='k', alpha=0.7\n",
    "        )\n",
    "        plt.xlabel(features[0])\n",
    "        plt.ylabel(features[1])\n",
    "        plt.title(f\"{path} — {features[0]} vs {features[1]}\")\n",
    "        plt.show()\n",
    "    else:\n",
    "        scatter_matrix(\n",
    "            X, c=y, figsize=(8, 8),\n",
    "            marker='o', cmap='bwr', diagonal='kde'\n",
    "        )\n",
    "        plt.suptitle(f\"{path} — Scatter Matrix\")\n",
    "        plt.tight_layout()\n",
    "        plt.show()\n"
   ]
  },
  {
   "cell_type": "code",
   "execution_count": null,
   "id": "21caa598",
   "metadata": {},
   "outputs": [],
   "source": [
    "for path in files:\n",
    "    df = pd.read_csv(path)\n",
    "    X = df.drop('target', axis=1).values\n",
    "    y = df['target'].values\n",
    "    X_train, X_test, y_train, y_test = train_test_split(\n",
    "        X, y, test_size=0.3, random_state=42\n",
    "    )\n",
    "    scaler = StandardScaler().fit(X_train)\n",
    "    X_train = scaler.transform(X_train)\n",
    "    X_test = scaler.transform(X_test)\n",
    "    mlp = MLPClassifier(\n",
    "        hidden_layer_sizes=(6, 6),\n",
    "        activation='relu',\n",
    "        solver='lbfgs',\n",
    "        random_state=42,\n",
    "        max_iter=10000\n",
    "    )\n",
    "    mlp.fit(X_train, y_train)\n",
    "    print(f\"Accuracy: {mlp.score(X_test, y_test)}\")"
   ]
  }
 ],
 "metadata": {
  "kernelspec": {
   "display_name": "base",
   "language": "python",
   "name": "python3"
  },
  "language_info": {
   "codemirror_mode": {
    "name": "ipython",
    "version": 3
   },
   "file_extension": ".py",
   "mimetype": "text/x-python",
   "name": "python",
   "nbconvert_exporter": "python",
   "pygments_lexer": "ipython3",
   "version": "3.13.5"
  }
 },
 "nbformat": 4,
 "nbformat_minor": 5
}
