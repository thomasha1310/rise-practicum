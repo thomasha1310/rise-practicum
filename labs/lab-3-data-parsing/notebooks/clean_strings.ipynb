{
 "cells": [
  {
   "cell_type": "code",
   "execution_count": null,
   "id": "9eeb0a36",
   "metadata": {},
   "outputs": [],
   "source": [
    "import pandas\n",
    "import string\n",
    "import re\n",
    "\n",
    "def clean_strings(strings: pandas.Series) -> pandas.Series:\n",
    "    strings = strings.dropna()\n",
    "    strings = strings.astype(str)\n",
    "    strings = strings.str.lower()\n",
    "    strings = strings.str.strip()\n",
    "    pattern = f\"[{re.escape(string.punctuation)}]\" # regex pattern for punctuation\n",
    "    strings = strings.str.replace(pattern, '', regex=True)\n",
    "    return strings\n",
    "\n",
    "df = pandas.DataFrame(columns=['raw', 'clean'])\n",
    "df['raw'] = pandas.read_csv(\"../data/messy_strings.csv\")\n",
    "df['clean'] = clean_strings(df['raw'])\n",
    "\n",
    "clean = df['clean']\n",
    "total_rows = len(clean)\n",
    "unique_count = clean.nunique()\n",
    "value_counts = clean.value_counts()\n",
    "most_common = value_counts[value_counts == value_counts[0]].index[0] # find the string that shows up most often\n",
    "\n",
    "print(f\"{total_rows} rows, {unique_count} unique elements. '{most_common}' shows up most often.\")\n",
    "\n",
    "df['clean'].to_csv(\"../data/messy_strings_clean.csv\", index=False) # save the cleaned strings in a new csv file\n",
    "\n",
    "df['clean'].value_counts().head(5).plot.bar()"
   ]
  }
 ],
 "metadata": {
  "kernelspec": {
   "display_name": "lab-3-data-parsing",
   "language": "python",
   "name": "python3"
  },
  "language_info": {
   "codemirror_mode": {
    "name": "ipython",
    "version": 3
   },
   "file_extension": ".py",
   "mimetype": "text/x-python",
   "name": "python",
   "nbconvert_exporter": "python",
   "pygments_lexer": "ipython3",
   "version": "3.13.5"
  }
 },
 "nbformat": 4,
 "nbformat_minor": 5
}
