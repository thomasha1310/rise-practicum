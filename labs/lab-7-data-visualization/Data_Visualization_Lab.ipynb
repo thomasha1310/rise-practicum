{
 "cells": [
  {
   "cell_type": "markdown",
   "id": "487eb4a4",
   "metadata": {},
   "source": [
    "# Data Visualization & Tidying Lab\n",
    "\n",
    "This notebook is split into **two parts**:\n",
    "\n",
    "1. **Core skills tutorial** – short walkthroughs that demonstrate standard Python data-visualization techniques with `matplotlib`, `seaborn`, and `pandas`.  \n",
    "2. **Applied challenges** – five messy, simulated data sets accompanied by stakeholder-style questions that someone might ask you to answer. Your task is to tidy each data set and write a brief data story for your audience with visuals.\n",
    "\n"
   ]
  },
  {
   "cell_type": "markdown",
   "id": "d97e3640",
   "metadata": {},
   "source": [
    "## Part 1 – Core Visualization Skills "
   ]
  },
  {
   "cell_type": "markdown",
   "id": "38ee6d11",
   "metadata": {},
   "source": [
    "### 1. Line, scatter, bar – the classics"
   ]
  },
  {
   "cell_type": "code",
   "execution_count": null,
   "id": "07121a28",
   "metadata": {},
   "outputs": [],
   "source": [
    "import seaborn as sns, matplotlib.pyplot as plt, pandas as pd\n",
    "\n",
    "# Load example\n",
    "fmri = sns.load_dataset('fmri')\n",
    "\n",
    "# LINE PLOT — average signal over time for each event type\n",
    "plt.figure(figsize=(7,4))\n",
    "sns.lineplot(data=fmri, x='timepoint', y='signal', hue='event') \n",
    "plt.title('Line plot: fMRI signal over time')\n",
    "plt.show()\n",
    "\n"
   ]
  },
  {
   "cell_type": "code",
   "execution_count": null,
   "id": "33324805",
   "metadata": {},
   "outputs": [],
   "source": [
    "# SCATTER PLOT — flipper vs body mass\n",
    "penguins = sns.load_dataset('penguins').dropna()\n",
    "sns.scatterplot(data=penguins, x='flipper_length_mm', y='body_mass_g', hue='species')\n",
    "plt.title('Scatter plot: flipper length vs body mass')\n",
    "plt.show()\n",
    "\n"
   ]
  },
  {
   "cell_type": "code",
   "execution_count": null,
   "id": "11444dd3",
   "metadata": {},
   "outputs": [],
   "source": [
    "# BAR PLOT — mean total bill by day\n",
    "tips = sns.load_dataset('tips')\n",
    "sns.barplot(data=tips, x='day', y='total_bill', errorbar='sd')\n",
    "plt.title('Bar plot: mean total bill by day')\n",
    "plt.show()"
   ]
  },
  {
   "cell_type": "markdown",
   "id": "ad65cd3c",
   "metadata": {},
   "source": [
    "These three basic plotting examples cover **quantitative over time**, **relationship between two numeric variables**, and **comparisons across categories**. Remember to always label axes and provide context in titles or captions."
   ]
  },
  {
   "cell_type": "markdown",
   "id": "ed448c4a",
   "metadata": {},
   "source": [
    "### 2. Distributions – histograms, KDEs, box/violin"
   ]
  },
  {
   "cell_type": "markdown",
   "id": "4c9367f2",
   "metadata": {},
   "source": [
    "Use **histograms/KDEs** for a single distribution and **box/violin** plots for comparing distributions across groups."
   ]
  },
  {
   "cell_type": "code",
   "execution_count": null,
   "id": "52ba656d",
   "metadata": {},
   "outputs": [],
   "source": [
    "# Histogram + KDE overlay for 'total_bill'\n",
    "plt.figure(figsize=(6,4))\n",
    "sns.histplot(tips['total_bill'], kde=True, bins=20)\n",
    "plt.title('Histogram + KDE: total bill')\n",
    "plt.show()\n"
   ]
  },
  {
   "cell_type": "markdown",
   "id": "35b254f4",
   "metadata": {},
   "source": [
    "#### What is a KDE and why would you ever want one? "
   ]
  },
  {
   "cell_type": "markdown",
   "id": "3a510905",
   "metadata": {},
   "source": [
    "A KDE (kernel density estimate) is a way to visualize the distribution of the data."
   ]
  },
  {
   "cell_type": "code",
   "execution_count": null,
   "id": "4390ea9c",
   "metadata": {},
   "outputs": [],
   "source": [
    "# Box & violin plots side-by-side\n",
    "fig, ax = plt.subplots(1,2, figsize=(10,4))\n",
    "sns.boxplot(data=tips, x='day', y='tip', ax=ax[0])\n",
    "ax[0].set_title('Boxplot: tip by day')\n",
    "sns.violinplot(data=tips, x='day', y='tip', ax=ax[1])\n",
    "ax[1].set_title('Violin plot: tip by day')\n",
    "plt.tight_layout()\n",
    "plt.show()"
   ]
  },
  {
   "cell_type": "markdown",
   "id": "e334628e",
   "metadata": {},
   "source": [
    "#### Why would you want to use a boxplot over a violin plot and vice versa?\n",
    "\n",
    "A violin plot shows the distribution of the data, which may be helpful for seeing patterns in the data. A box plot is more helpful for seeing the presence of outliers (shown as dots beyond the \"whiskers\")."
   ]
  },
  {
   "cell_type": "markdown",
   "id": "eef01ec0",
   "metadata": {},
   "source": [
    "### 3. Multi-dimensional encodings – color, size & facets"
   ]
  },
  {
   "cell_type": "code",
   "execution_count": null,
   "id": "4d6274e9",
   "metadata": {},
   "outputs": [],
   "source": [
    "# Bubble plot: GDP vs life expectancy, bubble size = population\n",
    "gap_url = 'https://raw.githubusercontent.com/plotly/datasets/master/gapminderDataFiveYear.csv'\n",
    "gap = pd.read_csv(gap_url)\n",
    "year2007 = gap[gap.year == 2007]\n",
    "\n",
    "plt.figure(figsize=(8,5))\n",
    "sns.scatterplot(data=year2007, x='gdpPercap', y='lifeExp',\n",
    "                size='pop', hue='continent', sizes=(40,400), alpha=0.7, legend=False)\n",
    "plt.xscale('log')\n",
    "plt.title('Bubble plot: GDP vs Life Expectancy (2007)')\n",
    "plt.show()\n",
    "\n",
    "# Facet grid\n",
    "g = sns.relplot(data=gap, x='gdpPercap', y='lifeExp',\n",
    "                col='continent', col_wrap=3,\n",
    "                kind='scatter', height=3, alpha=0.6, facet_kws={'sharex':False})\n",
    "g.set(xscale='log')"
   ]
  },
  {
   "cell_type": "markdown",
   "id": "741dbdbe",
   "metadata": {},
   "source": [
    "color, point size, and faceting let you incorporate **additional variables** without clutter."
   ]
  },
  {
   "cell_type": "markdown",
   "id": "f67e7291",
   "metadata": {},
   "source": [
    "### 4. Time series & multiple lines"
   ]
  },
  {
   "cell_type": "code",
   "execution_count": null,
   "id": "e50a0bfb",
   "metadata": {},
   "outputs": [],
   "source": [
    "# Flights example\n",
    "flights = sns.load_dataset('flights')\n",
    "pivot = flights.pivot(index='month', columns='year', values='passengers')\n",
    "\n",
    "pivot.plot(figsize=(10,5))\n",
    "plt.title('Monthly air passengers (1949-1960)')\n",
    "plt.ylabel('Passengers')\n",
    "plt.legend(loc='upper left', ncol=4, title='Year')\n",
    "plt.show()"
   ]
  },
  {
   "cell_type": "markdown",
   "id": "6bfa16ee",
   "metadata": {},
   "source": [
    "Pivoting long-format data wide can make multi-line time-series plots straightforward."
   ]
  },
  {
   "cell_type": "markdown",
   "id": "c44ecef7",
   "metadata": {},
   "source": [
    "### 5. Customising aesthetics"
   ]
  },
  {
   "cell_type": "code",
   "execution_count": null,
   "id": "1a027f2c",
   "metadata": {},
   "outputs": [],
   "source": [
    "# Global Seaborn style\n",
    "sns.set_theme(style='whitegrid', context='notebook', font_scale=1.1)\n",
    "\n",
    "plt.figure(figsize=(6,4))\n",
    "sns.barplot(data=tips, x='day', y='total_bill', hue='sex', palette='Set2')\n",
    "plt.title('Total bill by day & biological sex')\n",
    "plt.xlabel('Day of week')\n",
    "plt.ylabel('Total bill ($)')\n",
    "sns.despine()\n",
    "plt.show()"
   ]
  },
  {
   "cell_type": "markdown",
   "id": "28f5c90f",
   "metadata": {},
   "source": [
    "Small touches (despine, style, context, custom palettes) go a long way to professional-looking figures."
   ]
  },
  {
   "cell_type": "markdown",
   "id": "b497ce92",
   "metadata": {},
   "source": [
    "## Part 2 – Applied Challenges"
   ]
  },
  {
   "cell_type": "markdown",
   "id": "2ee3078e",
   "metadata": {},
   "source": [
    "Below are five *realistic* messy data sets.  \n",
    "For **each**:\n",
    "\n",
    "1. **Run** the *Generate the data* cell to create a DataFrame `df`.  \n",
    "2. Inspect & **tidy** it into a clean, analysis-ready form (remember *Tidy ≡ one variable per column, one observation per row*).  \n",
    "3. **Answer the questions** in a concise written report (use the provided headings).  \n",
    "4. Support your conclusions with **at least two visualizations** (feel free to create more).\n",
    "\n",
    "### Report template (copy for each dataset)\n",
    "- **Context** – restate the stakeholder’s objective in 1-2 sentences.  \n",
    "- **Tidying steps** – bullet list of wrangling operations applied.  \n",
    "- **Findings** – describe what the visuals show.  \n",
    "- **Recommendations** – actionable insights for the stakeholder.\n"
   ]
  },
  {
   "cell_type": "markdown",
   "id": "d7551d1a",
   "metadata": {},
   "source": [
    "### Challenge 1: Global Gadget Co. sales data (messy wide)"
   ]
  },
  {
   "cell_type": "markdown",
   "id": "71ae5b51",
   "metadata": {},
   "source": [
    "*Stakeholder*: **VP of Sales**  \n",
    "> “We need to understand how each product sold across regions over the year and spot any patterns.”\n",
    "\n",
    "**Key questions**\n",
    "1. Which region and month generated the highest revenue for *Gizmo*?\n",
    "2. Do *Widget* and *Doohickey* follow similar patterns over the year?"
   ]
  },
  {
   "cell_type": "markdown",
   "id": "35ff90ae",
   "metadata": {},
   "source": [
    "### Challenge 2: IoT greenhouse sensor logs"
   ]
  },
  {
   "cell_type": "markdown",
   "id": "1d6d63c7",
   "metadata": {},
   "source": [
    "*Stakeholder*: **Facility engineer**  \n",
    "> “Our sensors embed temperature and humidity in one field. I suspect humidity spikes at night – can you confirm?”\n",
    "\n",
    "**Key questions**\n",
    "1. At what hours does humidity exceed 60 % most frequently?\n",
    "2. Is there any correlation between temperature and humidity?"
   ]
  },
  {
   "cell_type": "markdown",
   "id": "adc2625d",
   "metadata": {},
   "source": [
    "### Challenge 3: Developer tools preference survey"
   ]
  },
  {
   "cell_type": "markdown",
   "id": "dd004122",
   "metadata": {},
   "source": [
    "*Stakeholder*: **Product manager**  \n",
    "> “We surveyed devs about their favorite tools. Can you tell if age group influences tool choice and satisfaction?”\n",
    "\n",
    "**Key questions**\n",
    "1. Which tools are most popular in the 18-24 vs 45+ brackets?\n",
    "2. Does reported satisfaction differ by primary tool?"
   ]
  },
  {
   "cell_type": "markdown",
   "id": "92ddedaa",
   "metadata": {},
   "source": [
    "### Challenge 4: Blood pressure drug trial"
   ]
  },
  {
   "cell_type": "markdown",
   "id": "53740675",
   "metadata": {},
   "source": [
    "*Stakeholder*: **Principal Investigator**  \n",
    "> “We ran a cross-over trial with three conditions. Summarise efficacy in reducing BP and highlight best performer.”\n",
    "\n",
    "**Key questions**\n",
    "1. What is the average BP reduction (post-minus-pre) for each drug?\n",
    "2. Is there any individual variability?"
   ]
  },
  {
   "cell_type": "markdown",
   "id": "7db410f8",
   "metadata": {},
   "source": [
    "### Challenge 5: Social media campaign analytics"
   ]
  },
  {
   "cell_type": "markdown",
   "id": "6bf287c3",
   "metadata": {},
   "source": [
    "*Stakeholder*: **Marketing lead**  \n",
    "> “Our views are recorded as strings like ‘1.2k’. Clean this up and evaluate platform performance.”\n",
    "\n",
    "**Key questions**\n",
    "1. Which platform achieved the highest median daily *views* and *like rate*?\n",
    "2. Are weekends different from weekdays?"
   ]
  },
  {
   "cell_type": "markdown",
   "id": "0b619e62",
   "metadata": {},
   "source": [
    "### Challenge 1: Global Gadget Co. sales data (messy wide)"
   ]
  },
  {
   "cell_type": "markdown",
   "id": "b8a3b0ca",
   "metadata": {},
   "source": [
    "*Stakeholder*: **VP of Sales**  \n",
    "> “We need to understand how each product sold across regions over the year and spot any seasonality.”\n",
    "\n",
    "**Key questions**\n",
    "1. Which region and month generated the highest revenue for *Gizmo*?\n",
    "2. Do *Widget* and *Doohickey* follow similar seasonal patterns?"
   ]
  },
  {
   "cell_type": "code",
   "execution_count": null,
   "id": "082eacda",
   "metadata": {},
   "outputs": [],
   "source": [
    "# --- Generate the messy data (RUN THIS) ---\n",
    "import pandas as pd, numpy as np, seaborn as sns, matplotlib.pyplot as plt\n",
    "\n",
    "def _simulate():\n",
    "\n",
    "    np.random.seed(0)\n",
    "    months = list(range(1,13))\n",
    "    regions = ['North', 'South', 'East', 'West']\n",
    "    data = {}\n",
    "    for r in regions:\n",
    "        for m in months:\n",
    "            col = f\"{r[:2]}_{m}\"\n",
    "            data[col] = np.random.poisson(lam=2000 + 100*m + 400*regions.index(r), size=3)\n",
    "    df = pd.DataFrame(data)\n",
    "    df['Product'] = ['Gizmo', 'Widget', 'Doohickey']\n",
    "    df = df.sample(frac=1, axis=1).reset_index(drop=True)\n",
    "    return df\n",
    "\n",
    "\n",
    "df = _simulate()\n",
    "print(\"Shape:\", df.shape)\n",
    "df.head()"
   ]
  },
  {
   "cell_type": "markdown",
   "id": "f305e39e",
   "metadata": {},
   "source": [
    "#### Your analysis below"
   ]
  },
  {
   "cell_type": "code",
   "execution_count": null,
   "id": "490ef7f3",
   "metadata": {},
   "outputs": [],
   "source": [
    "df_tidy = df.melt(id_vars='Product', var_name='Region_Month', value_name='Sales')\n",
    "df_tidy['Region'] = df_tidy['Region_Month'].str.extract(r\"([A-Z][a-z])_\\d+\")\n",
    "df_tidy['Month'] = df_tidy['Region_Month'].str.extract(r\"[A-Z][a-z]_(\\d+)\").astype(int)\n",
    "df_tidy = df_tidy.drop('Region_Month', axis=1)\n",
    "df_tidy.head()"
   ]
  },
  {
   "cell_type": "code",
   "execution_count": null,
   "id": "8e115c3e",
   "metadata": {},
   "outputs": [],
   "source": [
    "plt.figure(figsize=(10, 6))\n",
    "sns.lineplot(data=df_tidy[df_tidy['Product'] == 'Gizmo'], x='Month', y='Sales', hue='Region', marker='o')\n",
    "plt.title('Gizmo sales per month, separated by region')\n",
    "plt.xticks(range(1, 13))\n",
    "plt.tight_layout()\n",
    "plt.show()"
   ]
  },
  {
   "cell_type": "code",
   "execution_count": null,
   "id": "aa062ccd",
   "metadata": {},
   "outputs": [],
   "source": [
    "df_widget_doohickey = df_tidy[df_tidy['Product'].isin(['Widget', 'Doohickey'])].copy()\n",
    "sns.lineplot(data=df_widget_doohickey.groupby(['Product', 'Month'], as_index=False)['Sales'].sum(),\n",
    "             x='Month', y='Sales', hue='Product', marker='o')\n",
    "plt.title('Sales of Widget and Doohickey by month')\n",
    "plt.xticks(range(1, 13))\n",
    "plt.tight_layout()\n",
    "plt.show()"
   ]
  },
  {
   "cell_type": "markdown",
   "id": "df2a019f",
   "metadata": {},
   "source": [
    "#### Report\n",
    "\n",
    "**Context**\n",
    "\n",
    "The VP of Sales wants a clear understanding of how each product sold across regions and months to identify seasonal trends and to assess whether different products follow similar sales patterns.\n",
    "\n",
    "**Tidying Steps**\n",
    "\n",
    "1. Apply `pandas.melt()` to reshape the DataFrame from wide to long format.\n",
    "2. Extract `Region` and `Month` information using regular expressions.\n",
    "3. Convert `Month` data to integers for correct plotting.\n",
    "\n",
    "\n",
    "**Findings**\n",
    "\n",
    "1. The highest Gizmo sales occurred in the West region, which had higher sales than all other regions in every month. Monthly sales consistently increased in all regions from January to December.\n",
    "2. Doohickey and Widget sales share extremely similar monthly sales patterns.\n",
    "\n",
    "**Recommendations**\n",
    "\n",
    "Increase prices for all products in later months to take advantage of higher demand.\n"
   ]
  },
  {
   "cell_type": "markdown",
   "id": "d6f67051",
   "metadata": {},
   "source": [
    "### Challenge 2: IoT greenhouse sensor logs"
   ]
  },
  {
   "cell_type": "markdown",
   "id": "48d40b3d",
   "metadata": {},
   "source": [
    "*Stakeholder*: **Facility engineer**  \n",
    "> “Our sensors embed temperature and humidity in one field. I suspect humidity spikes at night – can you confirm?”\n",
    "\n",
    "**Key questions**\n",
    "1. At what hours does humidity exceed 60 % most frequently?\n",
    "2. Is there any correlation between temperature and humidity?"
   ]
  },
  {
   "cell_type": "code",
   "execution_count": null,
   "id": "fe628a82",
   "metadata": {},
   "outputs": [],
   "source": [
    "# --- Generate the messy data (RUN THIS) ---\n",
    "import pandas as pd, numpy as np, seaborn as sns, matplotlib.pyplot as plt\n",
    "\n",
    "def _simulate():\n",
    "    \n",
    "    np.random.seed(0)\n",
    "\n",
    "    times = pd.date_range('2025-01-01', periods=48, freq='H')\n",
    "    sensors = [f\"S{i}\" for i in range(1,6)]\n",
    "    rows = []\n",
    "    for t in times:\n",
    "        row = {'timestamp': t}\n",
    "        for s in sensors:\n",
    "            temp = np.random.normal(20,3)\n",
    "            hum = np.random.uniform(30,70)\n",
    "            row[s] = f\"{temp:.1f}|{hum:.0f}\"\n",
    "        rows.append(row)\n",
    "    return pd.DataFrame(rows)\n",
    "\n",
    "\n",
    "df = _simulate()\n",
    "print(\"Shape:\", df.shape)\n",
    "df.head()"
   ]
  },
  {
   "cell_type": "markdown",
   "id": "bfa08d37",
   "metadata": {},
   "source": [
    "#### Your analysis below"
   ]
  },
  {
   "cell_type": "code",
   "execution_count": null,
   "id": "5ed4fb54",
   "metadata": {},
   "outputs": [],
   "source": [
    "df_tidy = df.melt(id_vars='timestamp', var_name='sensor', value_name='data')\n",
    "df_tidy['temp_celsius'] = df_tidy['data'].str.split('|').str[0].astype(float)\n",
    "df_tidy['humidity'] = df_tidy['data'].str.split('|').str[1].astype(int)\n",
    "df_tidy = df_tidy.drop('data', axis=1)\n",
    "df_tidy['hour'] = pd.to_datetime(df_tidy['timestamp']).dt.hour\n",
    "print(df_tidy)"
   ]
  },
  {
   "cell_type": "code",
   "execution_count": null,
   "id": "211e3bf6",
   "metadata": {},
   "outputs": [],
   "source": [
    "sns.histplot(data=df_tidy[df_tidy['humidity'] >= 60], x='hour', bins=range(0, 24))\n",
    "plt.title('Number of sensors measuring >60% humidity vs hour of day')\n",
    "plt.xticks(range(0, 24, 2))\n",
    "plt.show()"
   ]
  },
  {
   "cell_type": "code",
   "execution_count": null,
   "id": "244c996b",
   "metadata": {},
   "outputs": [],
   "source": [
    "corr = df_tidy['temp_celsius'].corr(df_tidy['humidity'])\n",
    "print(corr)"
   ]
  },
  {
   "cell_type": "markdown",
   "id": "d690ea10",
   "metadata": {},
   "source": [
    "#### Report\n",
    "\n",
    "**Context**\n",
    "\n",
    "The facility manager wants to determine the humidity patterns in the greenhouses over time, as well as determine whether temperature has an influence on humidity.\n",
    "\n",
    "**Tidying Steps**\n",
    "\n",
    "1. Apply `DataFrame.melt()` to reshape the DataFrame from wide to long format.\n",
    "2. Extract `temp_celsius` and `humidity` information using `Series.str.split()`.\n",
    "3. Add `hour` column to indicate hours past midnight.\n",
    "\n",
    "\n",
    "**Findings**\n",
    "\n",
    "1. There appears to be a small spike in humidity in the morning and a large spike at night.\n",
    "2. Temperature has very little correlation with humidity.\n",
    "\n",
    "**Recommendations**\n",
    "\n",
    "Recalibrate your sensors."
   ]
  },
  {
   "cell_type": "markdown",
   "id": "92c8bb20",
   "metadata": {},
   "source": [
    "### Challenge 3: Developer tools preference survey"
   ]
  },
  {
   "cell_type": "markdown",
   "id": "2d1d3a1d",
   "metadata": {},
   "source": [
    "*Stakeholder*: **Product manager**  \n",
    "> “We surveyed devs about their favorite tools. Can you tell if age group influences tool choice and satisfaction?”\n",
    "\n",
    "**Key questions**\n",
    "1. Which tools are most popular in the 18-24 vs 45+ brackets?\n",
    "2. Does reported satisfaction differ by primary tool?"
   ]
  },
  {
   "cell_type": "code",
   "execution_count": null,
   "id": "b8a9b79c",
   "metadata": {},
   "outputs": [],
   "source": [
    "# --- Generate the messy data (RUN THIS) ---\n",
    "import pandas as pd, numpy as np, seaborn as sns, matplotlib.pyplot as plt\n",
    "\n",
    "def _simulate():\n",
    "    \n",
    "    np.random.seed(0)\n",
    "\n",
    "    n = 200\n",
    "    choices = ['Python', 'R', 'MATLAB', 'JavaScript']\n",
    "    data = {\n",
    "        'respondent_id': range(1,n+1),\n",
    "        'age_group': np.random.choice(['18-24','25-34','35-44','45+'], n),\n",
    "        'tools_used': [', '.join(np.random.choice(choices, size=np.random.randint(1,4), replace=False)) for _ in range(n)],\n",
    "        'satisfaction_1-5': np.random.randint(1,6, n)\n",
    "    }\n",
    "    return pd.DataFrame(data)\n",
    "\n",
    "\n",
    "df = _simulate()\n",
    "print(\"Shape:\", df.shape)\n",
    "df.head()"
   ]
  },
  {
   "cell_type": "markdown",
   "id": "3fcb0734",
   "metadata": {},
   "source": [
    "#### Your analysis below"
   ]
  },
  {
   "cell_type": "code",
   "execution_count": null,
   "id": "aefc250d",
   "metadata": {},
   "outputs": [],
   "source": [
    "df_tidy = df.copy()\n",
    "df_tidy['tools_used'] = df_tidy['tools_used'].str.split(', ')\n",
    "df_tidy = df_tidy.explode('tools_used').reset_index(drop=True)\n",
    "df_tidy"
   ]
  },
  {
   "cell_type": "code",
   "execution_count": null,
   "id": "21a85546",
   "metadata": {},
   "outputs": [],
   "source": [
    "sns.countplot(data=df_tidy, x='tools_used', hue='age_group')\n",
    "plt.title('Tool usage by age group')\n",
    "plt.tight_layout()\n",
    "plt.show()\n"
   ]
  },
  {
   "cell_type": "code",
   "execution_count": null,
   "id": "4bc30ca5",
   "metadata": {},
   "outputs": [],
   "source": [
    "avg_satisfaction = df_tidy.groupby('tools_used')['satisfaction_1-5'].mean().reset_index()\n",
    "sns.barplot(data=df_tidy, x='tools_used', y='satisfaction_1-5', estimator='mean', errorbar=None)\n",
    "plt.title('Average satisfaction by tool')\n",
    "plt.tight_layout()\n",
    "plt.show()"
   ]
  },
  {
   "cell_type": "markdown",
   "id": "3489a936",
   "metadata": {},
   "source": [
    "#### Report\n",
    "\n",
    "**Context**\n",
    "\n",
    "The product manager wants to learn whether tool usage varies by age group, as well as if average satisfaction varies by primary tool use.\n",
    "\n",
    "**Tidying Steps**\n",
    "\n",
    "1. Convert the `tools_used` column into a list, then explode the column.\n",
    "\n",
    "**Findings**\n",
    "\n",
    "1. The 18-24 age group is least likely to use R and most likely to use Python. The 45+ age group is slightly more likely to use R, but the usage is roughly even.\n",
    "2. Average satisfaction by tool does not differ significantly.\n",
    "\n",
    "**Recommendations**\n",
    "\n",
    "Survey more people and ask about other languages as well."
   ]
  },
  {
   "cell_type": "markdown",
   "id": "6aa8758f",
   "metadata": {},
   "source": [
    "### Challenge 4: Blood pressure drug trial"
   ]
  },
  {
   "cell_type": "markdown",
   "id": "b5a73aa6",
   "metadata": {},
   "source": [
    "*Stakeholder*: **Principal Investigator**  \n",
    "> “We ran a cross-over trial with three conditions. Summarise efficacy in reducing BP and highlight best performer.”\n",
    "\n",
    "**Key questions**\n",
    "1. What is the average BP reduction (post-minus-pre) for each drug?\n",
    "2. Is there significant individual variability?"
   ]
  },
  {
   "cell_type": "code",
   "execution_count": null,
   "id": "e8583f2c",
   "metadata": {},
   "outputs": [],
   "source": [
    "# --- Generate the messy data (RUN THIS) ---\n",
    "import pandas as pd, numpy as np, seaborn as sns, matplotlib.pyplot as plt\n",
    "\n",
    "def _simulate():\n",
    "    np.random.seed(100)\n",
    "\n",
    "    subjects = [f\"Subj_{i:03d}\" for i in range(1,51)]\n",
    "    conditions = ['placebo','drugA','drugB']\n",
    "    df = pd.DataFrame({'subject': subjects})\n",
    "    for c in conditions:\n",
    "        df[f\"bp_pre_{c}\"] = np.random.normal(120,10, len(subjects))\n",
    "        df[f\"bp_post_{c}\"] = df[f\"bp_pre_{c}\"] - np.random.normal(5,2, len(subjects)) + (0 if c=='placebo' else  -10 + 5*conditions.index(c))\n",
    "    return df\n",
    "\n",
    "\n",
    "df = _simulate()\n",
    "print(\"Shape:\", df.shape)\n",
    "df.head()"
   ]
  },
  {
   "cell_type": "markdown",
   "id": "5c38074b",
   "metadata": {},
   "source": [
    "#### Your analysis below"
   ]
  },
  {
   "cell_type": "code",
   "execution_count": null,
   "id": "9b787d85",
   "metadata": {},
   "outputs": [],
   "source": [
    "df_tidy = df.melt(id_vars='subject', var_name='bp_when_type', value_name='blood_pressure')\n",
    "df_tidy['when'] = df_tidy['bp_when_type'].str.split('_').str[1]\n",
    "df_tidy['type'] = df_tidy['bp_when_type'].str.split('_').str[2]\n",
    "df_tidy = df_tidy.drop('bp_when_type', axis=1)\n",
    "df_tidy"
   ]
  },
  {
   "cell_type": "code",
   "execution_count": null,
   "id": "e890388b",
   "metadata": {},
   "outputs": [],
   "source": [
    "df_wide = df_tidy.pivot_table(index=['subject', 'type'], columns='when', values='blood_pressure').reset_index()\n",
    "df_wide['reduction']= df_wide['post'] - df_wide['pre']\n",
    "avg_reduction = df_wide.groupby('type')['reduction'].mean()\n",
    "print(avg_reduction)\n",
    "sns.violinplot(data=df_wide, x='type', y='reduction')\n",
    "plt.title('Blood pressure reduction by drug type')\n",
    "plt.show()"
   ]
  },
  {
   "cell_type": "markdown",
   "id": "f98e8325",
   "metadata": {},
   "source": [
    "#### Report\n",
    "\n",
    "**Context**\n",
    "\n",
    "The PI wants to determine the average blood pressure reduction for each drug and determine the variability of the outcomes.\n",
    "\n",
    "**Tidying Steps**\n",
    "\n",
    "1. Apply `DataFrame.melt()` to reshape the DataFrame from wide to long format.\n",
    "2. Extract `when` (pre- or post-) and `type` (placebo, drug A, or drug B) information using `Series.str.split()`.\n",
    "\n",
    "**Findings**\n",
    "\n",
    "Drug A appears to be effective at reducing blood pressure, while drug B seems to make a minimal difference (very similar to the placebo). There is definitely variability in the effect of the drug, but the difference between the 75th quantile and the 25th quantile is roughly 2.5.\n",
    "\n",
    "**Recommendations**\n",
    "\n",
    "Devote more time investigating the effects of drug A. Drug B is likely ineffective."
   ]
  },
  {
   "cell_type": "markdown",
   "id": "feed6ebc",
   "metadata": {},
   "source": [
    "### Challenge 5: Social media campaign analytics"
   ]
  },
  {
   "cell_type": "markdown",
   "id": "533af7e2",
   "metadata": {},
   "source": [
    "*Stakeholder*: **Marketing lead**  \n",
    "> “Our views are recorded as strings like ‘1.2k’. Clean this up and evaluate platform performance.”\n",
    "\n",
    "**Key questions**\n",
    "1. Which platform achieved the highest median daily *views* and *like rate*?\n",
    "2. Are weekends different from weekdays?"
   ]
  },
  {
   "cell_type": "code",
   "execution_count": null,
   "id": "6a6d201f",
   "metadata": {},
   "outputs": [],
   "source": [
    "# --- Generate the messy data (RUN THIS) ---\n",
    "import pandas as pd, numpy as np, seaborn as sns, matplotlib.pyplot as plt\n",
    "\n",
    "def _simulate():\n",
    "    \n",
    "    np.random.seed(0)\n",
    "\n",
    "    dates = pd.date_range('2024-07-01', '2024-12-31', freq='D')\n",
    "    platforms = ['TikTok','Instagram','YouTube']\n",
    "    rows = []\n",
    "    for d in dates:\n",
    "        for p in platforms:\n",
    "            views = np.random.randint(1000, 100000)\n",
    "            likes = int(views * np.random.uniform(0.05, 0.2))\n",
    "            rows.append({'date': d, 'platform': p, 'views': f\"{views/1000:.1f}k\", 'likes': likes if np.random.rand()>0.05 else np.nan})\n",
    "    df = pd.DataFrame(rows)\n",
    "    dup = df.sample(200)\n",
    "    df = pd.concat([df, dup], ignore_index=True).reset_index(drop=True)\n",
    "    return df\n",
    "\n",
    "\n",
    "df = _simulate()\n",
    "print(\"Shape:\", df.shape)\n",
    "df"
   ]
  },
  {
   "cell_type": "markdown",
   "id": "786e9eb8",
   "metadata": {},
   "source": [
    "#### Your analysis below"
   ]
  },
  {
   "cell_type": "code",
   "execution_count": null,
   "id": "e7bba5d3",
   "metadata": {},
   "outputs": [],
   "source": [
    "df_tidy = df.copy()\n",
    "df_tidy['views'] = df_tidy['views'].str.extract(r\"(\\d+.\\d+)k\").astype(float)\n",
    "df_tidy['views'] = df_tidy['views'].apply(lambda x : 1000 * x)\n",
    "df_tidy = df_tidy.dropna()\n",
    "df_tidy"
   ]
  },
  {
   "cell_type": "code",
   "execution_count": null,
   "id": "fab0a2bc",
   "metadata": {},
   "outputs": [],
   "source": [
    "df_tidy['like_rate'] = df_tidy['likes'] / df_tidy['views']\n",
    "\n",
    "print(df_tidy.groupby('platform')[['like_rate', 'views']].median())\n",
    "\n",
    "sns.boxplot(data=df_tidy, x='platform', y='views')\n",
    "plt.title('Daily Views per Platform')\n",
    "plt.ylabel('Views')\n",
    "plt.xlabel('Platform')\n",
    "plt.show()\n",
    "\n",
    "sns.boxplot(data=df_tidy, x='platform', y='like_rate')\n",
    "plt.title('Daily Like Rate per Platform')\n",
    "plt.ylabel('Like Rate')\n",
    "plt.xlabel('Platform')\n",
    "plt.show()\n"
   ]
  },
  {
   "cell_type": "code",
   "execution_count": null,
   "id": "13b61b7f",
   "metadata": {},
   "outputs": [],
   "source": [
    "sns.boxplot(data=df_tidy, x='platform', y='views')\n",
    "plt.show()\n",
    "sns.boxplot(data=df_tidy, x='platform', y='like_rate')\n",
    "plt.show()"
   ]
  },
  {
   "cell_type": "code",
   "execution_count": null,
   "id": "17d00dd1",
   "metadata": {},
   "outputs": [],
   "source": [
    "df_tidy['date'] = pd.to_datetime(df_tidy['date'])\n",
    "df_tidy['dayofweek'] = df_tidy['date'].dt.dayofweek\n",
    "df_tidy['is_weekend'] = df_tidy['dayofweek'] >= 5\n",
    "\n",
    "sns.boxplot(data=df_tidy, x='is_weekend', y='views')\n",
    "plt.title('Views: Weekend vs Weekday')\n",
    "plt.xticks([0, 1], ['Weekday', 'Weekend'])\n",
    "plt.xlabel('')\n",
    "plt.ylabel('Views')\n",
    "plt.show()\n",
    "\n",
    "sns.boxplot(data=df_tidy, x='is_weekend', y='like_rate')\n",
    "plt.title('Like Rate: Weekend vs Weekday')\n",
    "plt.xticks([0, 1], ['Weekday', 'Weekend'])\n",
    "plt.xlabel('')\n",
    "plt.ylabel('Like Rate')\n",
    "plt.show()\n"
   ]
  },
  {
   "cell_type": "markdown",
   "id": "ff1cf1f5",
   "metadata": {},
   "source": [
    "#### Report\n",
    "\n",
    "**Context**\n",
    "\n",
    "The marketing lead is evaluating the effectiveness of content on various social media platforms.\n",
    "\n",
    "**Tidying Steps**\n",
    "\n",
    "1. Apply `Series.str.extract()` to extract the numerical part of the view count.\n",
    "2. Use `Series.apply()` to multiply the view count by one thousand.\n",
    "3. Use `DataFrame.dropna()` to remove rows with missing data.\n",
    "\n",
    "**Findings**\n",
    "\n",
    "Youtube receives slightly more views and a higher like rate than TikTok, which has a higher median view count and like rate than Instagram. However, all three are roughly the same---there is no significant difference.\n",
    "\n",
    "**Recommendations**\n",
    "\n",
    "Continue to post media on all three social media platforms."
   ]
  }
 ],
 "metadata": {
  "kernelspec": {
   "display_name": "base",
   "language": "python",
   "name": "python3"
  },
  "language_info": {
   "codemirror_mode": {
    "name": "ipython",
    "version": 3
   },
   "file_extension": ".py",
   "mimetype": "text/x-python",
   "name": "python",
   "nbconvert_exporter": "python",
   "pygments_lexer": "ipython3",
   "version": "3.13.5"
  }
 },
 "nbformat": 4,
 "nbformat_minor": 5
}
