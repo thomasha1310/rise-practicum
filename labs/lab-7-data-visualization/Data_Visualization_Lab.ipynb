{
 "cells": [
  {
   "cell_type": "markdown",
   "id": "487eb4a4",
   "metadata": {},
   "source": [
    "# Data Visualization & Tidying Lab\n",
    "\n",
    "This notebook is split into **two parts**:\n",
    "\n",
    "1. **Core skills tutorial** – short walkthroughs that demonstrate standard Python data-visualization techniques with `matplotlib`, `seaborn`, and `pandas`.  \n",
    "2. **Applied challenges** – five messy, simulated data sets accompanied by stakeholder-style questions that someone might ask you to answer. Your task is to tidy each data set and write a brief data story for your audience with visuals.\n",
    "\n"
   ]
  },
  {
   "cell_type": "markdown",
   "id": "d97e3640",
   "metadata": {},
   "source": [
    "## Part 1 – Core Visualization Skills "
   ]
  },
  {
   "cell_type": "markdown",
   "id": "38ee6d11",
   "metadata": {},
   "source": [
    "### 1. Line, scatter, bar – the classics"
   ]
  },
  {
   "cell_type": "code",
   "execution_count": null,
   "id": "07121a28",
   "metadata": {},
   "outputs": [],
   "source": [
    "import seaborn as sns, matplotlib.pyplot as plt, pandas as pd\n",
    "\n",
    "# Load example\n",
    "fmri = sns.load_dataset('fmri')\n",
    "\n",
    "# LINE PLOT — average signal over time for each event type\n",
    "plt.figure(figsize=(7,4))\n",
    "sns.lineplot(data=fmri, x='timepoint', y='signal', hue='event') \n",
    "plt.title('Line plot: fMRI signal over time')\n",
    "plt.show()\n",
    "\n"
   ]
  },
  {
   "cell_type": "code",
   "execution_count": null,
   "id": "33324805",
   "metadata": {},
   "outputs": [],
   "source": [
    "# SCATTER PLOT — flipper vs body mass\n",
    "penguins = sns.load_dataset('penguins').dropna()\n",
    "sns.scatterplot(data=penguins, x='flipper_length_mm', y='body_mass_g', hue='species')\n",
    "plt.title('Scatter plot: flipper length vs body mass')\n",
    "plt.show()\n",
    "\n"
   ]
  },
  {
   "cell_type": "code",
   "execution_count": null,
   "id": "11444dd3",
   "metadata": {},
   "outputs": [],
   "source": [
    "# BAR PLOT — mean total bill by day\n",
    "tips = sns.load_dataset('tips')\n",
    "sns.barplot(data=tips, x='day', y='total_bill', errorbar='sd')\n",
    "plt.title('Bar plot: mean total bill by day')\n",
    "plt.show()"
   ]
  },
  {
   "cell_type": "markdown",
   "id": "ad65cd3c",
   "metadata": {},
   "source": [
    "These three basic plotting examples cover **quantitative over time**, **relationship between two numeric variables**, and **comparisons across categories**. Remember to always label axes and provide context in titles or captions."
   ]
  },
  {
   "cell_type": "markdown",
   "id": "ed448c4a",
   "metadata": {},
   "source": [
    "### 2. Distributions – histograms, KDEs, box/violin"
   ]
  },
  {
   "cell_type": "markdown",
   "id": "4c9367f2",
   "metadata": {},
   "source": [
    "Use **histograms/KDEs** for a single distribution and **box/violin** plots for comparing distributions across groups."
   ]
  },
  {
   "cell_type": "code",
   "execution_count": null,
   "id": "52ba656d",
   "metadata": {},
   "outputs": [],
   "source": [
    "# Histogram + KDE overlay for 'total_bill'\n",
    "plt.figure(figsize=(6,4))\n",
    "sns.histplot(tips['total_bill'], kde=True, bins=20)\n",
    "plt.title('Histogram + KDE: total bill')\n",
    "plt.show()\n"
   ]
  },
  {
   "cell_type": "markdown",
   "id": "35b254f4",
   "metadata": {},
   "source": [
    "#### What is a KDE and why would you ever want one? "
   ]
  },
  {
   "cell_type": "markdown",
   "id": "3a510905",
   "metadata": {},
   "source": []
  },
  {
   "cell_type": "code",
   "execution_count": null,
   "id": "4390ea9c",
   "metadata": {},
   "outputs": [],
   "source": [
    "# Box & violin plots side-by-side\n",
    "fig, ax = plt.subplots(1,2, figsize=(10,4))\n",
    "sns.boxplot(data=tips, x='day', y='tip', ax=ax[0])\n",
    "ax[0].set_title('Boxplot: tip by day')\n",
    "sns.violinplot(data=tips, x='day', y='tip', ax=ax[1])\n",
    "ax[1].set_title('Violin plot: tip by day')\n",
    "plt.tight_layout()\n",
    "plt.show()"
   ]
  },
  {
   "cell_type": "markdown",
   "id": "e334628e",
   "metadata": {},
   "source": [
    "#### Why would you want to use a boxplot over a violin plot and vice versa?"
   ]
  },
  {
   "cell_type": "markdown",
   "id": "eef01ec0",
   "metadata": {},
   "source": [
    "### 3. Multi-dimensional encodings – color, size & facets"
   ]
  },
  {
   "cell_type": "code",
   "execution_count": null,
   "id": "4d6274e9",
   "metadata": {},
   "outputs": [],
   "source": [
    "# Bubble plot: GDP vs life expectancy, bubble size = population\n",
    "gap_url = 'https://raw.githubusercontent.com/plotly/datasets/master/gapminderDataFiveYear.csv'\n",
    "gap = pd.read_csv(gap_url)\n",
    "year2007 = gap[gap.year == 2007]\n",
    "\n",
    "plt.figure(figsize=(8,5))\n",
    "sns.scatterplot(data=year2007, x='gdpPercap', y='lifeExp',\n",
    "                size='pop', hue='continent', sizes=(40,400), alpha=0.7, legend=False)\n",
    "plt.xscale('log')\n",
    "plt.title('Bubble plot: GDP vs Life Expectancy (2007)')\n",
    "plt.show()\n",
    "\n",
    "# Facet grid\n",
    "g = sns.relplot(data=gap, x='gdpPercap', y='lifeExp',\n",
    "                col='continent', col_wrap=3,\n",
    "                kind='scatter', height=3, alpha=0.6, facet_kws={'sharex':False})\n",
    "g.set(xscale='log')"
   ]
  },
  {
   "cell_type": "markdown",
   "id": "741dbdbe",
   "metadata": {},
   "source": [
    "color, point size, and faceting let you incorporate **additional variables** without clutter."
   ]
  },
  {
   "cell_type": "markdown",
   "id": "f67e7291",
   "metadata": {},
   "source": [
    "### 4. Time series & multiple lines"
   ]
  },
  {
   "cell_type": "code",
   "execution_count": null,
   "id": "e50a0bfb",
   "metadata": {},
   "outputs": [],
   "source": [
    "# Flights example\n",
    "flights = sns.load_dataset('flights')\n",
    "pivot = flights.pivot(index='month', columns='year', values='passengers')\n",
    "\n",
    "pivot.plot(figsize=(10,5))\n",
    "plt.title('Monthly air passengers (1949-1960)')\n",
    "plt.ylabel('Passengers')\n",
    "plt.legend(loc='upper left', ncol=4, title='Year')\n",
    "plt.show()"
   ]
  },
  {
   "cell_type": "markdown",
   "id": "6bfa16ee",
   "metadata": {},
   "source": [
    "Pivoting long-format data wide can make multi-line time-series plots straightforward."
   ]
  },
  {
   "cell_type": "markdown",
   "id": "c44ecef7",
   "metadata": {},
   "source": [
    "### 5. Customising aesthetics"
   ]
  },
  {
   "cell_type": "code",
   "execution_count": null,
   "id": "1a027f2c",
   "metadata": {},
   "outputs": [],
   "source": [
    "# Global Seaborn style\n",
    "sns.set_theme(style='whitegrid', context='notebook', font_scale=1.1)\n",
    "\n",
    "plt.figure(figsize=(6,4))\n",
    "sns.barplot(data=tips, x='day', y='total_bill', hue='sex', palette='Set2')\n",
    "plt.title('Total bill by day & biological sex')\n",
    "plt.xlabel('Day of week')\n",
    "plt.ylabel('Total bill ($)')\n",
    "sns.despine()\n",
    "plt.show()"
   ]
  },
  {
   "cell_type": "markdown",
   "id": "28f5c90f",
   "metadata": {},
   "source": [
    "Small touches (despine, style, context, custom palettes) go a long way to professional-looking figures."
   ]
  },
  {
   "cell_type": "markdown",
   "id": "b497ce92",
   "metadata": {},
   "source": [
    "## Part 2 – Applied Challenges"
   ]
  },
  {
   "cell_type": "markdown",
   "id": "2ee3078e",
   "metadata": {},
   "source": [
    "Below are five *realistic* messy data sets.  \n",
    "For **each**:\n",
    "\n",
    "1. **Run** the *Generate the data* cell to create a DataFrame `df`.  \n",
    "2. Inspect & **tidy** it into a clean, analysis-ready form (remember *Tidy ≡ one variable per column, one observation per row*).  \n",
    "3. **Answer the questions** in a concise written report (use the provided headings).  \n",
    "4. Support your conclusions with **at least two visualizations** (feel free to create more).\n",
    "\n",
    "### Report template (copy for each dataset)\n",
    "- **Context** – restate the stakeholder’s objective in 1-2 sentences.  \n",
    "- **Tidying steps** – bullet list of wrangling operations applied.  \n",
    "- **Findings** – describe what the visuals show.  \n",
    "- **Recommendations** – actionable insights for the stakeholder.\n"
   ]
  },
  {
   "cell_type": "markdown",
   "id": "d7551d1a",
   "metadata": {},
   "source": [
    "### Challenge 1: Global Gadget Co. sales data (messy wide)"
   ]
  },
  {
   "cell_type": "markdown",
   "id": "71ae5b51",
   "metadata": {},
   "source": [
    "*Stakeholder*: **VP of Sales**  \n",
    "> “We need to understand how each product sold across regions over the year and spot any patterns.”\n",
    "\n",
    "**Key questions**\n",
    "1. Which region and month generated the highest revenue for *Gizmo*?\n",
    "2. Do *Widget* and *Doohickey* follow similar patterns over the year?"
   ]
  },
  {
   "cell_type": "markdown",
   "id": "35ff90ae",
   "metadata": {},
   "source": [
    "### Challenge 2: IoT greenhouse sensor logs"
   ]
  },
  {
   "cell_type": "markdown",
   "id": "1d6d63c7",
   "metadata": {},
   "source": [
    "*Stakeholder*: **Facility engineer**  \n",
    "> “Our sensors embed temperature and humidity in one field. I suspect humidity spikes at night – can you confirm?”\n",
    "\n",
    "**Key questions**\n",
    "1. At what hours does humidity exceed 60 % most frequently?\n",
    "2. Is there any correlation between temperature and humidity?"
   ]
  },
  {
   "cell_type": "markdown",
   "id": "adc2625d",
   "metadata": {},
   "source": [
    "### Challenge 3: Developer tools preference survey"
   ]
  },
  {
   "cell_type": "markdown",
   "id": "dd004122",
   "metadata": {},
   "source": [
    "*Stakeholder*: **Product manager**  \n",
    "> “We surveyed devs about their favorite tools. Can you tell if age group influences tool choice and satisfaction?”\n",
    "\n",
    "**Key questions**\n",
    "1. Which tools are most popular in the 18-24 vs 45+ brackets?\n",
    "2. Does reported satisfaction differ by primary tool?"
   ]
  },
  {
   "cell_type": "markdown",
   "id": "92ddedaa",
   "metadata": {},
   "source": [
    "### Challenge 4: Blood pressure drug trial"
   ]
  },
  {
   "cell_type": "markdown",
   "id": "53740675",
   "metadata": {},
   "source": [
    "*Stakeholder*: **Principal Investigator**  \n",
    "> “We ran a cross-over trial with three conditions. Summarise efficacy in reducing BP and highlight best performer.”\n",
    "\n",
    "**Key questions**\n",
    "1. What is the average BP reduction (post-minus-pre) for each drug?\n",
    "2. Is there any individual variability?"
   ]
  },
  {
   "cell_type": "markdown",
   "id": "7db410f8",
   "metadata": {},
   "source": [
    "### Challenge 5: Social media campaign analytics"
   ]
  },
  {
   "cell_type": "markdown",
   "id": "6bf287c3",
   "metadata": {},
   "source": [
    "*Stakeholder*: **Marketing lead**  \n",
    "> “Our views are recorded as strings like ‘1.2k’. Clean this up and evaluate platform performance.”\n",
    "\n",
    "**Key questions**\n",
    "1. Which platform achieved the highest median daily *views* and *like rate*?\n",
    "2. Are weekends different from weekdays?"
   ]
  },
  {
   "cell_type": "markdown",
   "id": "0b619e62",
   "metadata": {},
   "source": [
    "### Challenge 1: Global Gadget Co. sales data (messy wide)"
   ]
  },
  {
   "cell_type": "markdown",
   "id": "b8a3b0ca",
   "metadata": {},
   "source": [
    "*Stakeholder*: **VP of Sales**  \n",
    "> “We need to understand how each product sold across regions over the year and spot any seasonality.”\n",
    "\n",
    "**Key questions**\n",
    "1. Which region and month generated the highest revenue for *Gizmo*?\n",
    "2. Do *Widget* and *Doohickey* follow similar seasonal patterns?"
   ]
  },
  {
   "cell_type": "code",
   "execution_count": null,
   "id": "082eacda",
   "metadata": {},
   "outputs": [],
   "source": [
    "# --- Generate the messy data (RUN THIS) ---\n",
    "import pandas as pd, numpy as np, seaborn as sns, matplotlib.pyplot as plt\n",
    "\n",
    "def _simulate():\n",
    "\n",
    "    np.random.seed(0)\n",
    "    months = list(range(1,13))\n",
    "    regions = ['North', 'South', 'East', 'West']\n",
    "    data = {}\n",
    "    for r in regions:\n",
    "        for m in months:\n",
    "            col = f\"{r[:2]}_{m}\"\n",
    "            data[col] = np.random.poisson(lam=2000 + 100*m + 400*regions.index(r), size=3)\n",
    "    df = pd.DataFrame(data)\n",
    "    df['Product'] = ['Gizmo', 'Widget', 'Doohickey']\n",
    "    df = df.sample(frac=1, axis=1).reset_index(drop=True)\n",
    "    return df\n",
    "\n",
    "\n",
    "df = _simulate()\n",
    "print(\"Shape:\", df.shape)\n",
    "df.head()"
   ]
  },
  {
   "cell_type": "markdown",
   "id": "f305e39e",
   "metadata": {},
   "source": [
    "#### Your analysis below"
   ]
  },
  {
   "cell_type": "code",
   "execution_count": null,
   "id": "490ef7f3",
   "metadata": {},
   "outputs": [],
   "source": [
    "# TODO: tidy the data, visualize, and answer questions\n"
   ]
  },
  {
   "cell_type": "markdown",
   "id": "d6f67051",
   "metadata": {},
   "source": [
    "### Challenge 2: IoT greenhouse sensor logs"
   ]
  },
  {
   "cell_type": "markdown",
   "id": "48d40b3d",
   "metadata": {},
   "source": [
    "*Stakeholder*: **Facility engineer**  \n",
    "> “Our sensors embed temperature and humidity in one field. I suspect humidity spikes at night – can you confirm?”\n",
    "\n",
    "**Key questions**\n",
    "1. At what hours does humidity exceed 60 % most frequently?\n",
    "2. Is there any correlation between temperature and humidity?"
   ]
  },
  {
   "cell_type": "code",
   "execution_count": null,
   "id": "fe628a82",
   "metadata": {},
   "outputs": [],
   "source": [
    "# --- Generate the messy data (RUN THIS) ---\n",
    "import pandas as pd, numpy as np, seaborn as sns, matplotlib.pyplot as plt\n",
    "\n",
    "def _simulate():\n",
    "\n",
    "    times = pd.date_range('2025-01-01', periods=48, freq='H')\n",
    "    sensors = [f\"S{i}\" for i in range(1,6)]\n",
    "    rows = []\n",
    "    for t in times:\n",
    "        row = {'timestamp': t}\n",
    "        for s in sensors:\n",
    "            temp = np.random.normal(20,3)\n",
    "            hum = np.random.uniform(30,70)\n",
    "            row[s] = f\"{temp:.1f}|{hum:.0f}\"\n",
    "        rows.append(row)\n",
    "    return pd.DataFrame(rows)\n",
    "\n",
    "\n",
    "df = _simulate()\n",
    "print(\"Shape:\", df.shape)\n",
    "df.head()"
   ]
  },
  {
   "cell_type": "markdown",
   "id": "bfa08d37",
   "metadata": {},
   "source": [
    "#### Your analysis below"
   ]
  },
  {
   "cell_type": "code",
   "execution_count": null,
   "id": "5ed4fb54",
   "metadata": {},
   "outputs": [],
   "source": [
    "# TODO: tidy the data, visualize, and answer questions\n"
   ]
  },
  {
   "cell_type": "markdown",
   "id": "92c8bb20",
   "metadata": {},
   "source": [
    "### Challenge 3: Developer tools preference survey"
   ]
  },
  {
   "cell_type": "markdown",
   "id": "2d1d3a1d",
   "metadata": {},
   "source": [
    "*Stakeholder*: **Product manager**  \n",
    "> “We surveyed devs about their favorite tools. Can you tell if age group influences tool choice and satisfaction?”\n",
    "\n",
    "**Key questions**\n",
    "1. Which tools are most popular in the 18-24 vs 45+ brackets?\n",
    "2. Does reported satisfaction differ by primary tool?"
   ]
  },
  {
   "cell_type": "code",
   "execution_count": null,
   "id": "b8a9b79c",
   "metadata": {},
   "outputs": [],
   "source": [
    "# --- Generate the messy data (RUN THIS) ---\n",
    "import pandas as pd, numpy as np, seaborn as sns, matplotlib.pyplot as plt\n",
    "\n",
    "def _simulate():\n",
    "\n",
    "    n = 200\n",
    "    choices = ['Python', 'R', 'MATLAB', 'JavaScript']\n",
    "    data = {\n",
    "        'respondent_id': range(1,n+1),\n",
    "        'age_group': np.random.choice(['18-24','25-34','35-44','45+'], n),\n",
    "        'tools_used': [', '.join(np.random.choice(choices, size=np.random.randint(1,4), replace=False)) for _ in range(n)],\n",
    "        'satisfaction_1-5': np.random.randint(1,6, n)\n",
    "    }\n",
    "    return pd.DataFrame(data)\n",
    "\n",
    "\n",
    "df = _simulate()\n",
    "print(\"Shape:\", df.shape)\n",
    "df.head()"
   ]
  },
  {
   "cell_type": "markdown",
   "id": "3fcb0734",
   "metadata": {},
   "source": [
    "#### Your analysis below"
   ]
  },
  {
   "cell_type": "code",
   "execution_count": null,
   "id": "aefc250d",
   "metadata": {},
   "outputs": [],
   "source": [
    "# TODO: tidy the data, visualize, and answer questions\n"
   ]
  },
  {
   "cell_type": "markdown",
   "id": "6aa8758f",
   "metadata": {},
   "source": [
    "### Challenge 4: Blood pressure drug trial"
   ]
  },
  {
   "cell_type": "markdown",
   "id": "b5a73aa6",
   "metadata": {},
   "source": [
    "*Stakeholder*: **Principal Investigator**  \n",
    "> “We ran a cross-over trial with three conditions. Summarise efficacy in reducing BP and highlight best performer.”\n",
    "\n",
    "**Key questions**\n",
    "1. What is the average BP reduction (post-minus-pre) for each drug?\n",
    "2. Is there significant individual variability?"
   ]
  },
  {
   "cell_type": "code",
   "execution_count": null,
   "id": "e8583f2c",
   "metadata": {},
   "outputs": [],
   "source": [
    "# --- Generate the messy data (RUN THIS) ---\n",
    "import pandas as pd, numpy as np, seaborn as sns, matplotlib.pyplot as plt\n",
    "\n",
    "def _simulate():\n",
    "\n",
    "    subjects = [f\"Subj_{i:03d}\" for i in range(1,51)]\n",
    "    conditions = ['placebo','drugA','drugB']\n",
    "    df = pd.DataFrame({'subject': subjects})\n",
    "    for c in conditions:\n",
    "        df[f\"bp_pre_{c}\"] = np.random.normal(120,10, len(subjects))\n",
    "        df[f\"bp_post_{c}\"] = df[f\"bp_pre_{c}\"] - np.random.normal(5,2, len(subjects)) + (0 if c=='placebo' else  -10 + 5*conditions.index(c))\n",
    "    return df\n",
    "\n",
    "\n",
    "df = _simulate()\n",
    "print(\"Shape:\", df.shape)\n",
    "df.head()"
   ]
  },
  {
   "cell_type": "markdown",
   "id": "5c38074b",
   "metadata": {},
   "source": [
    "#### Your analysis below"
   ]
  },
  {
   "cell_type": "code",
   "execution_count": null,
   "id": "9b787d85",
   "metadata": {},
   "outputs": [],
   "source": [
    "# TODO: tidy the data, visualize, and answer questions\n"
   ]
  },
  {
   "cell_type": "markdown",
   "id": "feed6ebc",
   "metadata": {},
   "source": [
    "### Challenge 5: Social media campaign analytics"
   ]
  },
  {
   "cell_type": "markdown",
   "id": "533af7e2",
   "metadata": {},
   "source": [
    "*Stakeholder*: **Marketing lead**  \n",
    "> “Our views are recorded as strings like ‘1.2k’. Clean this up and evaluate platform performance.”\n",
    "\n",
    "**Key questions**\n",
    "1. Which platform achieved the highest median daily *views* and *like rate*?\n",
    "2. Are weekends different from weekdays?"
   ]
  },
  {
   "cell_type": "code",
   "execution_count": null,
   "id": "6a6d201f",
   "metadata": {},
   "outputs": [],
   "source": [
    "# --- Generate the messy data (RUN THIS) ---\n",
    "import pandas as pd, numpy as np, seaborn as sns, matplotlib.pyplot as plt\n",
    "\n",
    "def _simulate():\n",
    "\n",
    "    dates = pd.date_range('2024-07-01', '2024-12-31', freq='D')\n",
    "    platforms = ['TikTok','Instagram','YouTube']\n",
    "    rows = []\n",
    "    for d in dates:\n",
    "        for p in platforms:\n",
    "            views = np.random.randint(1000, 100000)\n",
    "            likes = int(views * np.random.uniform(0.05, 0.2))\n",
    "            rows.append({'date': d, 'platform': p, 'views': f\"{views/1000:.1f}k\", 'likes': likes if np.random.rand()>0.05 else np.nan})\n",
    "    df = pd.DataFrame(rows)\n",
    "    dup = df.sample(200)\n",
    "    df = pd.concat([df, dup], ignore_index=True).reset_index(drop=True)\n",
    "    return df\n",
    "\n",
    "\n",
    "df = _simulate()\n",
    "print(\"Shape:\", df.shape)\n",
    "df.head()"
   ]
  },
  {
   "cell_type": "markdown",
   "id": "786e9eb8",
   "metadata": {},
   "source": [
    "#### Your analysis below"
   ]
  },
  {
   "cell_type": "code",
   "execution_count": null,
   "id": "e7bba5d3",
   "metadata": {},
   "outputs": [],
   "source": [
    "# TODO: tidy the data, visualize, and answer questions\n"
   ]
  }
 ],
 "metadata": {
  "kernelspec": {
   "display_name": "assigment-1",
   "language": "python",
   "name": "python3"
  },
  "language_info": {
   "codemirror_mode": {
    "name": "ipython",
    "version": 3
   },
   "file_extension": ".py",
   "mimetype": "text/x-python",
   "name": "python",
   "nbconvert_exporter": "python",
   "pygments_lexer": "ipython3",
   "version": "3.9.22"
  }
 },
 "nbformat": 4,
 "nbformat_minor": 5
}
