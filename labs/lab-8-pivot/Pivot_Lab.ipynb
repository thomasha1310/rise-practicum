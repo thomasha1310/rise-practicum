{
 "cells": [
  {
   "cell_type": "markdown",
   "id": "bac7c160",
   "metadata": {},
   "source": [
    "# Pivot‑Table Practice Lab (21 Questions)\n",
    "\n",
    "Each question simulates a small DataFrame.  \n",
    "**Your task:** create the requested pivot table (or tidy reshape) *below the simulation cell*.\n",
    "Once you are finished, you can meet with your group. \n",
    "\n",
    "---\n",
    "\n"
   ]
  },
  {
   "cell_type": "markdown",
   "id": "f9d373f2",
   "metadata": {},
   "source": [
    "# Tidy Data Frame\n",
    "\n",
    "A **tidy data frame** follows three simple rules:\n",
    "\n",
    "1. **Each variable** is a column.  \n",
    "2. **Each observation** (or case) is a row.  \n",
    "3. **Each value** is a single cell.\n",
    "\n",
    "For example, this is _tidy_:\n",
    "\n",
    "| country | year | population |\n",
    "| ------- | ---- | ---------- |\n",
    "| A       | 2000 | 1,000,000  |\n",
    "| A       | 2010 | 1,100,000  |\n",
    "| B       | 2000 | 500,000    |\n",
    "| B       | 2010 | 600,000    |\n",
    "\n",
    "\n",
    "Here “country”, “year”, and “population” are each their own columns, and every row is one observation.\n",
    "\n",
    "---\n",
    "\n",
    "# Pivot Table\n",
    "\n",
    "A **pivot table** is a way to **reshape** and **summarize** data:\n",
    "\n",
    "- **Rows** and **columns** become grouping variables.  \n",
    "- **Cell values** are computed by applying an aggregation (sum, mean, count, etc.) to the data in each group.\n",
    "\n",
    "Using the same data, a pivot table showing population by country and year might look like:\n",
    "\n",
    "| country | 2000      | 2010      |\n",
    "| ------- | --------- | --------- |\n",
    "| A       | 1,000,000 | 1,100,000 |\n",
    "| B       | 500,000   | 600,000   |\n",
    "\n",
    "\n",
    "Here we’ve “pivoted” the year values into separate columns and filled in the population.\n",
    "\n",
    "---\n",
    "\n",
    "# Wide vs. Long Format\n",
    "\n",
    "- **Wide format**  \n",
    "  - Variables that could be rows (e.g. “year”) become separate columns.  \n",
    "  - Good for human‐readable tables or specific plotting functions.  \n",
    "\n",
    "| country | pop\\_2000 | pop\\_2010 |\n",
    "| ------- | --------- | --------- |\n",
    "| A       | 1,000,000 | 1,100,000 |\n",
    "| B       | 500,000   | 600,000   |\n",
    "\n",
    "\n",
    "- **Long format**  \n",
    "- Each row is one measurement; variable names live in a single column, with their values in another.  \n",
    "- Ideal for most data‐analysis and plotting libraries (e.g., pandas “melt”).\n",
    "\n",
    "| country | year | population |\n",
    "| ------- | ---- | ---------- |\n",
    "| A       | 2000 | 1,000,000  |\n",
    "| A       | 2010 | 1,100,000  |\n",
    "| B       | 2000 | 500,000    |\n",
    "| B       | 2010 | 600,000    |\n",
    "\n"
   ]
  },
  {
   "cell_type": "markdown",
   "id": "e31f0182",
   "metadata": {},
   "source": [
    "# Useful commands"
   ]
  },
  {
   "cell_type": "code",
   "execution_count": 3,
   "id": "f72dd1c3",
   "metadata": {},
   "outputs": [],
   "source": [
    "import pandas as pd\n",
    "\n",
    "# Sample long DataFrame\n",
    "df = pd.DataFrame({\n",
    "  'country': ['A','A','B','B'],\n",
    "  'year':    [2000,2010,2000,2010],\n",
    "  'population': [1_000_000,1_100_000,500_000,600_000]\n",
    "})"
   ]
  },
  {
   "cell_type": "code",
   "execution_count": 4,
   "id": "b80cf066",
   "metadata": {},
   "outputs": [
    {
     "data": {
      "text/html": [
       "<div>\n",
       "<style scoped>\n",
       "    .dataframe tbody tr th:only-of-type {\n",
       "        vertical-align: middle;\n",
       "    }\n",
       "\n",
       "    .dataframe tbody tr th {\n",
       "        vertical-align: top;\n",
       "    }\n",
       "\n",
       "    .dataframe thead th {\n",
       "        text-align: right;\n",
       "    }\n",
       "</style>\n",
       "<table border=\"1\" class=\"dataframe\">\n",
       "  <thead>\n",
       "    <tr style=\"text-align: right;\">\n",
       "      <th>year</th>\n",
       "      <th>2000</th>\n",
       "      <th>2010</th>\n",
       "    </tr>\n",
       "    <tr>\n",
       "      <th>country</th>\n",
       "      <th></th>\n",
       "      <th></th>\n",
       "    </tr>\n",
       "  </thead>\n",
       "  <tbody>\n",
       "    <tr>\n",
       "      <th>A</th>\n",
       "      <td>1000000</td>\n",
       "      <td>1100000</td>\n",
       "    </tr>\n",
       "    <tr>\n",
       "      <th>B</th>\n",
       "      <td>500000</td>\n",
       "      <td>600000</td>\n",
       "    </tr>\n",
       "  </tbody>\n",
       "</table>\n",
       "</div>"
      ],
      "text/plain": [
       "year        2000     2010\n",
       "country                  \n",
       "A        1000000  1100000\n",
       "B         500000   600000"
      ]
     },
     "execution_count": 4,
     "metadata": {},
     "output_type": "execute_result"
    }
   ],
   "source": [
    "# 1. Long → Wide with pivot (no aggregation)\n",
    "df_wide = df.pivot(index='country', columns='year', values='population')\n",
    "\n",
    "df_wide"
   ]
  },
  {
   "cell_type": "code",
   "execution_count": 5,
   "id": "45d7284a",
   "metadata": {},
   "outputs": [
    {
     "data": {
      "text/html": [
       "<div>\n",
       "<style scoped>\n",
       "    .dataframe tbody tr th:only-of-type {\n",
       "        vertical-align: middle;\n",
       "    }\n",
       "\n",
       "    .dataframe tbody tr th {\n",
       "        vertical-align: top;\n",
       "    }\n",
       "\n",
       "    .dataframe thead th {\n",
       "        text-align: right;\n",
       "    }\n",
       "</style>\n",
       "<table border=\"1\" class=\"dataframe\">\n",
       "  <thead>\n",
       "    <tr style=\"text-align: right;\">\n",
       "      <th>year</th>\n",
       "      <th>2000</th>\n",
       "      <th>2010</th>\n",
       "    </tr>\n",
       "    <tr>\n",
       "      <th>country</th>\n",
       "      <th></th>\n",
       "      <th></th>\n",
       "    </tr>\n",
       "  </thead>\n",
       "  <tbody>\n",
       "    <tr>\n",
       "      <th>A</th>\n",
       "      <td>1000000</td>\n",
       "      <td>1100000</td>\n",
       "    </tr>\n",
       "    <tr>\n",
       "      <th>B</th>\n",
       "      <td>500000</td>\n",
       "      <td>600000</td>\n",
       "    </tr>\n",
       "  </tbody>\n",
       "</table>\n",
       "</div>"
      ],
      "text/plain": [
       "year        2000     2010\n",
       "country                  \n",
       "A        1000000  1100000\n",
       "B         500000   600000"
      ]
     },
     "execution_count": 5,
     "metadata": {},
     "output_type": "execute_result"
    }
   ],
   "source": [
    "# 2. Long → Wide with aggregation (sum, mean, etc.)\n",
    "df_pt = df.pivot_table(\n",
    "  index='country',\n",
    "  columns='year',\n",
    "  values='population',\n",
    "  aggfunc='sum'\n",
    ")\n",
    "\n",
    "df_pt"
   ]
  },
  {
   "cell_type": "code",
   "execution_count": 6,
   "id": "6f19b761",
   "metadata": {},
   "outputs": [
    {
     "data": {
      "text/html": [
       "<div>\n",
       "<style scoped>\n",
       "    .dataframe tbody tr th:only-of-type {\n",
       "        vertical-align: middle;\n",
       "    }\n",
       "\n",
       "    .dataframe tbody tr th {\n",
       "        vertical-align: top;\n",
       "    }\n",
       "\n",
       "    .dataframe thead th {\n",
       "        text-align: right;\n",
       "    }\n",
       "</style>\n",
       "<table border=\"1\" class=\"dataframe\">\n",
       "  <thead>\n",
       "    <tr style=\"text-align: right;\">\n",
       "      <th></th>\n",
       "      <th>country</th>\n",
       "      <th>year</th>\n",
       "      <th>population</th>\n",
       "    </tr>\n",
       "  </thead>\n",
       "  <tbody>\n",
       "    <tr>\n",
       "      <th>0</th>\n",
       "      <td>A</td>\n",
       "      <td>2000</td>\n",
       "      <td>1000000</td>\n",
       "    </tr>\n",
       "    <tr>\n",
       "      <th>1</th>\n",
       "      <td>B</td>\n",
       "      <td>2000</td>\n",
       "      <td>500000</td>\n",
       "    </tr>\n",
       "    <tr>\n",
       "      <th>2</th>\n",
       "      <td>A</td>\n",
       "      <td>2010</td>\n",
       "      <td>1100000</td>\n",
       "    </tr>\n",
       "    <tr>\n",
       "      <th>3</th>\n",
       "      <td>B</td>\n",
       "      <td>2010</td>\n",
       "      <td>600000</td>\n",
       "    </tr>\n",
       "  </tbody>\n",
       "</table>\n",
       "</div>"
      ],
      "text/plain": [
       "  country  year  population\n",
       "0       A  2000     1000000\n",
       "1       B  2000      500000\n",
       "2       A  2010     1100000\n",
       "3       B  2010      600000"
      ]
     },
     "execution_count": 6,
     "metadata": {},
     "output_type": "execute_result"
    }
   ],
   "source": [
    "# 3. Wide → Long with melt\n",
    "df_wide_reset = df_wide.reset_index()  # bring 'country' back to a column\n",
    "df_long = df_wide_reset.melt(\n",
    "  id_vars='country',\n",
    "  var_name='year',\n",
    "  value_name='population'\n",
    ")\n",
    "\n",
    "df_long"
   ]
  },
  {
   "cell_type": "code",
   "execution_count": 8,
   "id": "28fcc347",
   "metadata": {},
   "outputs": [
    {
     "data": {
      "text/html": [
       "<div>\n",
       "<style scoped>\n",
       "    .dataframe tbody tr th:only-of-type {\n",
       "        vertical-align: middle;\n",
       "    }\n",
       "\n",
       "    .dataframe tbody tr th {\n",
       "        vertical-align: top;\n",
       "    }\n",
       "\n",
       "    .dataframe thead th {\n",
       "        text-align: right;\n",
       "    }\n",
       "</style>\n",
       "<table border=\"1\" class=\"dataframe\">\n",
       "  <thead>\n",
       "    <tr style=\"text-align: right;\">\n",
       "      <th></th>\n",
       "      <th>country</th>\n",
       "      <th>year</th>\n",
       "      <th>population</th>\n",
       "    </tr>\n",
       "  </thead>\n",
       "  <tbody>\n",
       "    <tr>\n",
       "      <th>0</th>\n",
       "      <td>A</td>\n",
       "      <td>2000</td>\n",
       "      <td>1000000</td>\n",
       "    </tr>\n",
       "    <tr>\n",
       "      <th>1</th>\n",
       "      <td>B</td>\n",
       "      <td>2000</td>\n",
       "      <td>500000</td>\n",
       "    </tr>\n",
       "    <tr>\n",
       "      <th>2</th>\n",
       "      <td>A</td>\n",
       "      <td>2010</td>\n",
       "      <td>1100000</td>\n",
       "    </tr>\n",
       "    <tr>\n",
       "      <th>3</th>\n",
       "      <td>B</td>\n",
       "      <td>2010</td>\n",
       "      <td>600000</td>\n",
       "    </tr>\n",
       "  </tbody>\n",
       "</table>\n",
       "</div>"
      ],
      "text/plain": [
       "  country  year  population\n",
       "0       A  2000     1000000\n",
       "1       B  2000      500000\n",
       "2       A  2010     1100000\n",
       "3       B  2010      600000"
      ]
     },
     "execution_count": 8,
     "metadata": {},
     "output_type": "execute_result"
    }
   ],
   "source": [
    "# 4. Tidying a more complex wide table\n",
    "# Suppose you have separate year columns: pop_2000, pop_2010\n",
    "df2 = pd.DataFrame({\n",
    "  'country': ['A','B'],\n",
    "  'pop_2000': [1_000_000, 500_000],\n",
    "  'pop_2010': [1_100_000, 600_000]\n",
    "})\n",
    "df2_long = df2.melt(\n",
    "  id_vars='country',\n",
    "  value_vars=['pop_2000','pop_2010'],\n",
    "  var_name='year',\n",
    "  value_name='population'\n",
    ")\n",
    "# Clean up 'year' values\n",
    "df2_long['year'] = df2_long['year'].str.replace('pop_','').astype(int)\n",
    "\n",
    "df2_long"
   ]
  },
  {
   "cell_type": "markdown",
   "id": "a08ba83c",
   "metadata": {},
   "source": [
    "## Question 1 — Region × Units Sold"
   ]
  },
  {
   "cell_type": "markdown",
   "id": "623196ef",
   "metadata": {},
   "source": [
    "Create a pivot table that shows **total units** sold in each region (i.e. region | units, use pd.pivot_table)"
   ]
  },
  {
   "cell_type": "code",
   "execution_count": 9,
   "id": "c6a652cf",
   "metadata": {},
   "outputs": [
    {
     "data": {
      "text/html": [
       "<div>\n",
       "<style scoped>\n",
       "    .dataframe tbody tr th:only-of-type {\n",
       "        vertical-align: middle;\n",
       "    }\n",
       "\n",
       "    .dataframe tbody tr th {\n",
       "        vertical-align: top;\n",
       "    }\n",
       "\n",
       "    .dataframe thead th {\n",
       "        text-align: right;\n",
       "    }\n",
       "</style>\n",
       "<table border=\"1\" class=\"dataframe\">\n",
       "  <thead>\n",
       "    <tr style=\"text-align: right;\">\n",
       "      <th></th>\n",
       "      <th>region</th>\n",
       "      <th>item</th>\n",
       "      <th>units</th>\n",
       "    </tr>\n",
       "  </thead>\n",
       "  <tbody>\n",
       "    <tr>\n",
       "      <th>0</th>\n",
       "      <td>North</td>\n",
       "      <td>Widget</td>\n",
       "      <td>7</td>\n",
       "    </tr>\n",
       "    <tr>\n",
       "      <th>1</th>\n",
       "      <td>West</td>\n",
       "      <td>Widget</td>\n",
       "      <td>8</td>\n",
       "    </tr>\n",
       "    <tr>\n",
       "      <th>2</th>\n",
       "      <td>South</td>\n",
       "      <td>Widget</td>\n",
       "      <td>8</td>\n",
       "    </tr>\n",
       "    <tr>\n",
       "      <th>3</th>\n",
       "      <td>North</td>\n",
       "      <td>Widget</td>\n",
       "      <td>9</td>\n",
       "    </tr>\n",
       "    <tr>\n",
       "      <th>4</th>\n",
       "      <td>West</td>\n",
       "      <td>Widget</td>\n",
       "      <td>2</td>\n",
       "    </tr>\n",
       "  </tbody>\n",
       "</table>\n",
       "</div>"
      ],
      "text/plain": [
       "  region    item  units\n",
       "0  North  Widget      7\n",
       "1   West  Widget      8\n",
       "2  South  Widget      8\n",
       "3  North  Widget      9\n",
       "4   West  Widget      2"
      ]
     },
     "execution_count": 9,
     "metadata": {},
     "output_type": "execute_result"
    }
   ],
   "source": [
    "import pandas as pd, numpy as np\n",
    "np.random.seed(0)\n",
    "regions = ['North','South','East','West']\n",
    "items = ['Widget']\n",
    "df = pd.DataFrame({\n",
    "    'region': np.random.choice(regions, size=20),\n",
    "    'item': 'Widget',\n",
    "    'units': np.random.randint(1, 11, 20)\n",
    "})\n",
    "df.head()"
   ]
  },
  {
   "cell_type": "markdown",
   "id": "56adc247",
   "metadata": {},
   "source": [
    "<details><summary><strong>Show Solution</strong></summary>\n",
    "\n",
    "```python\n",
    "pd.pivot_table(df, index='region', values='units', aggfunc='sum')\n",
    "```\n",
    "\n",
    "</details>"
   ]
  },
  {
   "cell_type": "markdown",
   "id": "f597b2c3",
   "metadata": {},
   "source": [
    "## Question 2 — Average Temperature per City"
   ]
  },
  {
   "cell_type": "markdown",
   "id": "8bfd6768",
   "metadata": {},
   "source": [
    "Compute the **average temperature** for each city using a pivot table (use pivot_table)"
   ]
  },
  {
   "cell_type": "code",
   "execution_count": 12,
   "id": "c5afd46d",
   "metadata": {},
   "outputs": [
    {
     "data": {
      "text/html": [
       "<div>\n",
       "<style scoped>\n",
       "    .dataframe tbody tr th:only-of-type {\n",
       "        vertical-align: middle;\n",
       "    }\n",
       "\n",
       "    .dataframe tbody tr th {\n",
       "        vertical-align: top;\n",
       "    }\n",
       "\n",
       "    .dataframe thead th {\n",
       "        text-align: right;\n",
       "    }\n",
       "</style>\n",
       "<table border=\"1\" class=\"dataframe\">\n",
       "  <thead>\n",
       "    <tr style=\"text-align: right;\">\n",
       "      <th></th>\n",
       "      <th>city</th>\n",
       "      <th>date</th>\n",
       "      <th>temp_C</th>\n",
       "    </tr>\n",
       "  </thead>\n",
       "  <tbody>\n",
       "    <tr>\n",
       "      <th>0</th>\n",
       "      <td>Chicago</td>\n",
       "      <td>2025-07-01</td>\n",
       "      <td>26.601433</td>\n",
       "    </tr>\n",
       "    <tr>\n",
       "      <th>1</th>\n",
       "      <td>Boston</td>\n",
       "      <td>2025-07-02</td>\n",
       "      <td>24.724080</td>\n",
       "    </tr>\n",
       "    <tr>\n",
       "      <th>2</th>\n",
       "      <td>Boston</td>\n",
       "      <td>2025-07-03</td>\n",
       "      <td>30.741461</td>\n",
       "    </tr>\n",
       "    <tr>\n",
       "      <th>3</th>\n",
       "      <td>Chicago</td>\n",
       "      <td>2025-07-04</td>\n",
       "      <td>25.992391</td>\n",
       "    </tr>\n",
       "    <tr>\n",
       "      <th>4</th>\n",
       "      <td>Chicago</td>\n",
       "      <td>2025-07-05</td>\n",
       "      <td>28.425828</td>\n",
       "    </tr>\n",
       "  </tbody>\n",
       "</table>\n",
       "</div>"
      ],
      "text/plain": [
       "      city       date     temp_C\n",
       "0  Chicago 2025-07-01  26.601433\n",
       "1   Boston 2025-07-02  24.724080\n",
       "2   Boston 2025-07-03  30.741461\n",
       "3  Chicago 2025-07-04  25.992391\n",
       "4  Chicago 2025-07-05  28.425828"
      ]
     },
     "execution_count": 12,
     "metadata": {},
     "output_type": "execute_result"
    }
   ],
   "source": [
    "np.random.seed(1)\n",
    "cities = ['Boston','Chicago','Seattle']\n",
    "dates = pd.date_range('2025-07-01', periods=15)\n",
    "df = pd.DataFrame({\n",
    "    'city': np.random.choice(cities, size=45),\n",
    "    'date': np.tile(dates, 3),\n",
    "    'temp_C': np.random.normal(25, 3, 45)\n",
    "})\n",
    "df.head()\n"
   ]
  },
  {
   "cell_type": "markdown",
   "id": "8d43cde1",
   "metadata": {},
   "source": [
    "<details><summary><strong>Show Solution</strong></summary>\n",
    "\n",
    "```python\n",
    "df.pivot_table(index='city', values='temp_C', aggfunc='mean')\n",
    "```\n",
    "\n",
    "</details>"
   ]
  },
  {
   "cell_type": "markdown",
   "id": "1a9b1564",
   "metadata": {},
   "source": [
    "## Question 3 — Count Students by Grade"
   ]
  },
  {
   "cell_type": "markdown",
   "id": "dd3bf2de",
   "metadata": {},
   "source": [
    "Produce a pivot table counting how many students earned each grade."
   ]
  },
  {
   "cell_type": "code",
   "execution_count": 14,
   "id": "cedca4de",
   "metadata": {},
   "outputs": [
    {
     "data": {
      "text/html": [
       "<div>\n",
       "<style scoped>\n",
       "    .dataframe tbody tr th:only-of-type {\n",
       "        vertical-align: middle;\n",
       "    }\n",
       "\n",
       "    .dataframe tbody tr th {\n",
       "        vertical-align: top;\n",
       "    }\n",
       "\n",
       "    .dataframe thead th {\n",
       "        text-align: right;\n",
       "    }\n",
       "</style>\n",
       "<table border=\"1\" class=\"dataframe\">\n",
       "  <thead>\n",
       "    <tr style=\"text-align: right;\">\n",
       "      <th></th>\n",
       "      <th>student_id</th>\n",
       "      <th>grade</th>\n",
       "    </tr>\n",
       "  </thead>\n",
       "  <tbody>\n",
       "    <tr>\n",
       "      <th>0</th>\n",
       "      <td>1</td>\n",
       "      <td>A</td>\n",
       "    </tr>\n",
       "    <tr>\n",
       "      <th>1</th>\n",
       "      <td>2</td>\n",
       "      <td>D</td>\n",
       "    </tr>\n",
       "    <tr>\n",
       "      <th>2</th>\n",
       "      <td>3</td>\n",
       "      <td>B</td>\n",
       "    </tr>\n",
       "    <tr>\n",
       "      <th>3</th>\n",
       "      <td>4</td>\n",
       "      <td>A</td>\n",
       "    </tr>\n",
       "    <tr>\n",
       "      <th>4</th>\n",
       "      <td>5</td>\n",
       "      <td>C</td>\n",
       "    </tr>\n",
       "  </tbody>\n",
       "</table>\n",
       "</div>"
      ],
      "text/plain": [
       "   student_id grade\n",
       "0           1     A\n",
       "1           2     D\n",
       "2           3     B\n",
       "3           4     A\n",
       "4           5     C"
      ]
     },
     "execution_count": 14,
     "metadata": {},
     "output_type": "execute_result"
    }
   ],
   "source": [
    "np.random.seed(2)\n",
    "grades = ['A','B','C','D']\n",
    "df = pd.DataFrame({\n",
    "    'student_id': range(1,51),\n",
    "    'grade': np.random.choice(grades, 50)\n",
    "})\n",
    "df.head()\n"
   ]
  },
  {
   "cell_type": "markdown",
   "id": "ac93ebfb",
   "metadata": {},
   "source": [
    "<details><summary><strong>Show Solution</strong></summary>\n",
    "\n",
    "```python\n",
    "df.pivot_table(index='grade', values='student_id', aggfunc='count')\n",
    "```\n",
    "\n",
    "</details>"
   ]
  },
  {
   "cell_type": "markdown",
   "id": "74451d13",
   "metadata": {},
   "source": [
    "## Question 4 — Quarterly Department Expenses"
   ]
  },
  {
   "cell_type": "markdown",
   "id": "9f553109",
   "metadata": {},
   "source": [
    "Pivot the table so **quarters become columns** and expenses fill values. Use pd.pivot."
   ]
  },
  {
   "cell_type": "code",
   "execution_count": 17,
   "id": "f570bff0",
   "metadata": {},
   "outputs": [
    {
     "data": {
      "text/html": [
       "<div>\n",
       "<style scoped>\n",
       "    .dataframe tbody tr th:only-of-type {\n",
       "        vertical-align: middle;\n",
       "    }\n",
       "\n",
       "    .dataframe tbody tr th {\n",
       "        vertical-align: top;\n",
       "    }\n",
       "\n",
       "    .dataframe thead th {\n",
       "        text-align: right;\n",
       "    }\n",
       "</style>\n",
       "<table border=\"1\" class=\"dataframe\">\n",
       "  <thead>\n",
       "    <tr style=\"text-align: right;\">\n",
       "      <th></th>\n",
       "      <th>department</th>\n",
       "      <th>quarter</th>\n",
       "      <th>expense</th>\n",
       "    </tr>\n",
       "  </thead>\n",
       "  <tbody>\n",
       "    <tr>\n",
       "      <th>0</th>\n",
       "      <td>HR</td>\n",
       "      <td>Q1</td>\n",
       "      <td>10994</td>\n",
       "    </tr>\n",
       "    <tr>\n",
       "      <th>1</th>\n",
       "      <td>HR</td>\n",
       "      <td>Q2</td>\n",
       "      <td>6688</td>\n",
       "    </tr>\n",
       "    <tr>\n",
       "      <th>2</th>\n",
       "      <td>HR</td>\n",
       "      <td>Q3</td>\n",
       "      <td>16513</td>\n",
       "    </tr>\n",
       "    <tr>\n",
       "      <th>3</th>\n",
       "      <td>HR</td>\n",
       "      <td>Q4</td>\n",
       "      <td>14859</td>\n",
       "    </tr>\n",
       "    <tr>\n",
       "      <th>4</th>\n",
       "      <td>IT</td>\n",
       "      <td>Q1</td>\n",
       "      <td>14160</td>\n",
       "    </tr>\n",
       "  </tbody>\n",
       "</table>\n",
       "</div>"
      ],
      "text/plain": [
       "  department quarter  expense\n",
       "0         HR      Q1    10994\n",
       "1         HR      Q2     6688\n",
       "2         HR      Q3    16513\n",
       "3         HR      Q4    14859\n",
       "4         IT      Q1    14160"
      ]
     },
     "execution_count": 17,
     "metadata": {},
     "output_type": "execute_result"
    }
   ],
   "source": [
    "np.random.seed(3)\n",
    "depts = ['HR','IT','Sales']\n",
    "quarters = ['Q1','Q2','Q3','Q4']\n",
    "records = [(d,q,np.random.randint(5000,20000)) for d in depts for q in quarters]\n",
    "df = pd.DataFrame(records, columns=['department','quarter','expense'])\n",
    "df.head()\n",
    "\n"
   ]
  },
  {
   "cell_type": "markdown",
   "id": "d6cdc3ea",
   "metadata": {},
   "source": [
    "<details><summary><strong>Show Solution</strong></summary>\n",
    "\n",
    "```python\n",
    "df.pivot(index='department', columns='quarter', values='expense')\n",
    "```\n",
    "\n",
    "</details>"
   ]
  },
  {
   "cell_type": "markdown",
   "id": "8535da8a",
   "metadata": {},
   "source": [
    "## Question 5 — Wide‑to‑Long Patient BP"
   ]
  },
  {
   "cell_type": "markdown",
   "id": "ffd36a59",
   "metadata": {},
   "source": [
    "Melt the DataFrame to long form with columns: patient, day, bp."
   ]
  },
  {
   "cell_type": "code",
   "execution_count": 18,
   "id": "ec596111",
   "metadata": {},
   "outputs": [],
   "source": [
    "np.random.seed(4)\n",
    "df = pd.DataFrame({\n",
    "    'patient':['P1','P2','P3'],\n",
    "    'day1': np.random.randint(110,130,3),\n",
    "    'day2': np.random.randint(110,130,3),\n",
    "    'day3': np.random.randint(110,130,3)\n",
    "})\n",
    "df\n"
   ]
  },
  {
   "cell_type": "markdown",
   "id": "fd2849a1",
   "metadata": {},
   "source": [
    "<details><summary><strong>Show Solution</strong></summary>\n",
    "\n",
    "```python\n",
    "df_long = df.melt(id_vars='patient', var_name='day', value_name='bp')\n",
    "```\n",
    "\n",
    "</details>"
   ]
  },
  {
   "cell_type": "markdown",
   "id": "60126831",
   "metadata": {},
   "source": [
    "## Question 6 — Mean Score by Class & Subject"
   ]
  },
  {
   "cell_type": "markdown",
   "id": "ee10c1e9",
   "metadata": {},
   "source": [
    "Pivot to show **average score** per class (rows) and subject (columns)."
   ]
  },
  {
   "cell_type": "code",
   "execution_count": 19,
   "id": "eb667324",
   "metadata": {},
   "outputs": [
    {
     "data": {
      "text/html": [
       "<div>\n",
       "<style scoped>\n",
       "    .dataframe tbody tr th:only-of-type {\n",
       "        vertical-align: middle;\n",
       "    }\n",
       "\n",
       "    .dataframe tbody tr th {\n",
       "        vertical-align: top;\n",
       "    }\n",
       "\n",
       "    .dataframe thead th {\n",
       "        text-align: right;\n",
       "    }\n",
       "</style>\n",
       "<table border=\"1\" class=\"dataframe\">\n",
       "  <thead>\n",
       "    <tr style=\"text-align: right;\">\n",
       "      <th></th>\n",
       "      <th>class</th>\n",
       "      <th>subject</th>\n",
       "      <th>score</th>\n",
       "    </tr>\n",
       "  </thead>\n",
       "  <tbody>\n",
       "    <tr>\n",
       "      <th>0</th>\n",
       "      <td>A</td>\n",
       "      <td>Math</td>\n",
       "      <td>85</td>\n",
       "    </tr>\n",
       "    <tr>\n",
       "      <th>1</th>\n",
       "      <td>A</td>\n",
       "      <td>Math</td>\n",
       "      <td>64</td>\n",
       "    </tr>\n",
       "    <tr>\n",
       "      <th>2</th>\n",
       "      <td>A</td>\n",
       "      <td>Math</td>\n",
       "      <td>97</td>\n",
       "    </tr>\n",
       "    <tr>\n",
       "      <th>3</th>\n",
       "      <td>A</td>\n",
       "      <td>Math</td>\n",
       "      <td>88</td>\n",
       "    </tr>\n",
       "    <tr>\n",
       "      <th>4</th>\n",
       "      <td>A</td>\n",
       "      <td>Math</td>\n",
       "      <td>66</td>\n",
       "    </tr>\n",
       "  </tbody>\n",
       "</table>\n",
       "</div>"
      ],
      "text/plain": [
       "  class subject  score\n",
       "0     A    Math     85\n",
       "1     A    Math     64\n",
       "2     A    Math     97\n",
       "3     A    Math     88\n",
       "4     A    Math     66"
      ]
     },
     "execution_count": 19,
     "metadata": {},
     "output_type": "execute_result"
    }
   ],
   "source": [
    "np.random.seed(5)\n",
    "classes = ['A','B']\n",
    "subjects = ['Math','History','Science']\n",
    "records=[(c,s,np.random.randint(50,101)) for c in classes for s in subjects for _ in range(5)]\n",
    "df=pd.DataFrame(records, columns=['class','subject','score'])\n",
    "df.head()"
   ]
  },
  {
   "cell_type": "markdown",
   "id": "17f88e92",
   "metadata": {},
   "source": [
    "<details><summary><strong>Show Solution</strong></summary>\n",
    "\n",
    "```python\n",
    "df.pivot_table(index='class', columns='subject', values='score', aggfunc='mean')\n",
    "```\n",
    "\n",
    "</details>"
   ]
  },
  {
   "cell_type": "markdown",
   "id": "ad4cfb65",
   "metadata": {},
   "source": [
    "## Question 7 — Satisfaction Counts by Gender"
   ]
  },
  {
   "cell_type": "markdown",
   "id": "7703b79b",
   "metadata": {},
   "source": [
    "Count satisfied vs not by gender (rows=gender, cols=satisfied)."
   ]
  },
  {
   "cell_type": "code",
   "execution_count": 22,
   "id": "1d40f7f7",
   "metadata": {},
   "outputs": [
    {
     "data": {
      "text/html": [
       "<div>\n",
       "<style scoped>\n",
       "    .dataframe tbody tr th:only-of-type {\n",
       "        vertical-align: middle;\n",
       "    }\n",
       "\n",
       "    .dataframe tbody tr th {\n",
       "        vertical-align: top;\n",
       "    }\n",
       "\n",
       "    .dataframe thead th {\n",
       "        text-align: right;\n",
       "    }\n",
       "</style>\n",
       "<table border=\"1\" class=\"dataframe\">\n",
       "  <thead>\n",
       "    <tr style=\"text-align: right;\">\n",
       "      <th></th>\n",
       "      <th>gender</th>\n",
       "      <th>satisfied</th>\n",
       "    </tr>\n",
       "  </thead>\n",
       "  <tbody>\n",
       "    <tr>\n",
       "      <th>0</th>\n",
       "      <td>F</td>\n",
       "      <td>1</td>\n",
       "    </tr>\n",
       "    <tr>\n",
       "      <th>1</th>\n",
       "      <td>M</td>\n",
       "      <td>0</td>\n",
       "    </tr>\n",
       "    <tr>\n",
       "      <th>2</th>\n",
       "      <td>M</td>\n",
       "      <td>1</td>\n",
       "    </tr>\n",
       "    <tr>\n",
       "      <th>3</th>\n",
       "      <td>F</td>\n",
       "      <td>1</td>\n",
       "    </tr>\n",
       "    <tr>\n",
       "      <th>4</th>\n",
       "      <td>F</td>\n",
       "      <td>0</td>\n",
       "    </tr>\n",
       "  </tbody>\n",
       "</table>\n",
       "</div>"
      ],
      "text/plain": [
       "  gender  satisfied\n",
       "0      F          1\n",
       "1      M          0\n",
       "2      M          1\n",
       "3      F          1\n",
       "4      F          0"
      ]
     },
     "execution_count": 22,
     "metadata": {},
     "output_type": "execute_result"
    }
   ],
   "source": [
    "np.random.seed(6)\n",
    "df = pd.DataFrame({\n",
    "    'gender': np.random.choice(['F','M'], 30),\n",
    "    'satisfied': np.random.choice([0,1], 30)\n",
    "})\n",
    "df.head()\n"
   ]
  },
  {
   "cell_type": "markdown",
   "id": "69f4d46a",
   "metadata": {},
   "source": [
    "<details><summary><strong>Show Solution</strong></summary>\n",
    "\n",
    "```python\n",
    "pd.pivot_table(df, index='gender', columns='satisfied', values='satisfied', aggfunc='count', fill_value=0)\n",
    "```\n",
    "\n",
    "</details>"
   ]
  },
  {
   "cell_type": "markdown",
   "id": "44910a3a",
   "metadata": {},
   "source": [
    "## Question 8 — Handle Missing Units Before Pivot"
   ]
  },
  {
   "cell_type": "markdown",
   "id": "c32240c7",
   "metadata": {},
   "source": [
    "Fill missing units with 0, then sum units per store×category."
   ]
  },
  {
   "cell_type": "code",
   "execution_count": 24,
   "id": "e176e5b1",
   "metadata": {},
   "outputs": [
    {
     "data": {
      "text/html": [
       "<div>\n",
       "<style scoped>\n",
       "    .dataframe tbody tr th:only-of-type {\n",
       "        vertical-align: middle;\n",
       "    }\n",
       "\n",
       "    .dataframe tbody tr th {\n",
       "        vertical-align: top;\n",
       "    }\n",
       "\n",
       "    .dataframe thead th {\n",
       "        text-align: right;\n",
       "    }\n",
       "</style>\n",
       "<table border=\"1\" class=\"dataframe\">\n",
       "  <thead>\n",
       "    <tr style=\"text-align: right;\">\n",
       "      <th></th>\n",
       "      <th>store</th>\n",
       "      <th>category</th>\n",
       "      <th>units</th>\n",
       "    </tr>\n",
       "  </thead>\n",
       "  <tbody>\n",
       "    <tr>\n",
       "      <th>0</th>\n",
       "      <td>A</td>\n",
       "      <td>Y</td>\n",
       "      <td>17.0</td>\n",
       "    </tr>\n",
       "    <tr>\n",
       "      <th>1</th>\n",
       "      <td>B</td>\n",
       "      <td>Y</td>\n",
       "      <td>NaN</td>\n",
       "    </tr>\n",
       "    <tr>\n",
       "      <th>2</th>\n",
       "      <td>C</td>\n",
       "      <td>X</td>\n",
       "      <td>NaN</td>\n",
       "    </tr>\n",
       "    <tr>\n",
       "      <th>3</th>\n",
       "      <td>A</td>\n",
       "      <td>X</td>\n",
       "      <td>10.0</td>\n",
       "    </tr>\n",
       "    <tr>\n",
       "      <th>4</th>\n",
       "      <td>B</td>\n",
       "      <td>Y</td>\n",
       "      <td>15.0</td>\n",
       "    </tr>\n",
       "  </tbody>\n",
       "</table>\n",
       "</div>"
      ],
      "text/plain": [
       "  store category  units\n",
       "0     A        Y   17.0\n",
       "1     B        Y    NaN\n",
       "2     C        X    NaN\n",
       "3     A        X   10.0\n",
       "4     B        Y   15.0"
      ]
     },
     "execution_count": 24,
     "metadata": {},
     "output_type": "execute_result"
    }
   ],
   "source": [
    "np.random.seed(7)\n",
    "df = pd.DataFrame({\n",
    "    'store': np.random.choice(['A','B','C'], 15),\n",
    "    'category': np.random.choice(['X','Y'], 15),\n",
    "    'units': np.random.randint(1,20,15).astype(float)\n",
    "})\n",
    "# Introduce missing\n",
    "df.loc[df.sample(5).index, 'units'] = np.nan\n",
    "df.head()\n"
   ]
  },
  {
   "cell_type": "markdown",
   "id": "0d287f76",
   "metadata": {},
   "source": [
    "<details><summary><strong>Show Solution</strong></summary>\n",
    "\n",
    "```python\n",
    "df_filled = df.fillna({'units':0})\n",
    "df_filled.pivot_table(index='store', columns='category', values='units', aggfunc='sum')\n",
    "```\n",
    "\n",
    "</details>"
   ]
  },
  {
   "cell_type": "markdown",
   "id": "ba33d6ce",
   "metadata": {},
   "source": [
    "## Question 9 — Split Year‑Month Column"
   ]
  },
  {
   "cell_type": "markdown",
   "id": "f164971d",
   "metadata": {},
   "source": [
    "Split year_month into separate year and month columns, then pivot to show total sales by month (columns) for each year."
   ]
  },
  {
   "cell_type": "code",
   "execution_count": 26,
   "id": "525a972c",
   "metadata": {},
   "outputs": [
    {
     "data": {
      "text/html": [
       "<div>\n",
       "<style scoped>\n",
       "    .dataframe tbody tr th:only-of-type {\n",
       "        vertical-align: middle;\n",
       "    }\n",
       "\n",
       "    .dataframe tbody tr th {\n",
       "        vertical-align: top;\n",
       "    }\n",
       "\n",
       "    .dataframe thead th {\n",
       "        text-align: right;\n",
       "    }\n",
       "</style>\n",
       "<table border=\"1\" class=\"dataframe\">\n",
       "  <thead>\n",
       "    <tr style=\"text-align: right;\">\n",
       "      <th></th>\n",
       "      <th>year_month</th>\n",
       "      <th>sales</th>\n",
       "    </tr>\n",
       "  </thead>\n",
       "  <tbody>\n",
       "    <tr>\n",
       "      <th>0</th>\n",
       "      <td>2025-01</td>\n",
       "      <td>167</td>\n",
       "    </tr>\n",
       "    <tr>\n",
       "      <th>1</th>\n",
       "      <td>2025-02</td>\n",
       "      <td>184</td>\n",
       "    </tr>\n",
       "    <tr>\n",
       "      <th>2</th>\n",
       "      <td>2025-01</td>\n",
       "      <td>105</td>\n",
       "    </tr>\n",
       "    <tr>\n",
       "      <th>3</th>\n",
       "      <td>2025-02</td>\n",
       "      <td>190</td>\n",
       "    </tr>\n",
       "  </tbody>\n",
       "</table>\n",
       "</div>"
      ],
      "text/plain": [
       "  year_month  sales\n",
       "0    2025-01    167\n",
       "1    2025-02    184\n",
       "2    2025-01    105\n",
       "3    2025-02    190"
      ]
     },
     "execution_count": 26,
     "metadata": {},
     "output_type": "execute_result"
    }
   ],
   "source": [
    "np.random.seed(8)\n",
    "df = pd.DataFrame({\n",
    "    'year_month': ['2025-01','2025-02','2025-01','2025-02'],\n",
    "    'sales': np.random.randint(100,200,4)\n",
    "})\n",
    "df\n",
    "\n"
   ]
  },
  {
   "cell_type": "markdown",
   "id": "3762a02d",
   "metadata": {},
   "source": [
    "<details><summary><strong>Show Solution</strong></summary>\n",
    "\n",
    "```python\n",
    "df[['year','month']] = df['year_month'].str.split('-', expand=True)\n",
    "df.pivot_table(index='year', columns='month', values='sales', aggfunc='sum')\n",
    "```\n",
    "\n",
    "</details>"
   ]
  },
  {
   "cell_type": "markdown",
   "id": "8e6cbdc6",
   "metadata": {},
   "source": [
    "## Question 10 — Trim Whitespace Categories"
   ]
  },
  {
   "cell_type": "markdown",
   "id": "b0d5b4d3",
   "metadata": {},
   "source": [
    "Strip whitespace in 'team ' column, then average score per team."
   ]
  },
  {
   "cell_type": "code",
   "execution_count": 28,
   "id": "f17e0bfd",
   "metadata": {},
   "outputs": [
    {
     "data": {
      "text/html": [
       "<div>\n",
       "<style scoped>\n",
       "    .dataframe tbody tr th:only-of-type {\n",
       "        vertical-align: middle;\n",
       "    }\n",
       "\n",
       "    .dataframe tbody tr th {\n",
       "        vertical-align: top;\n",
       "    }\n",
       "\n",
       "    .dataframe thead th {\n",
       "        text-align: right;\n",
       "    }\n",
       "</style>\n",
       "<table border=\"1\" class=\"dataframe\">\n",
       "  <thead>\n",
       "    <tr style=\"text-align: right;\">\n",
       "      <th></th>\n",
       "      <th>score</th>\n",
       "    </tr>\n",
       "    <tr>\n",
       "      <th>team</th>\n",
       "      <th></th>\n",
       "    </tr>\n",
       "  </thead>\n",
       "  <tbody>\n",
       "    <tr>\n",
       "      <th>Blue</th>\n",
       "      <td>14.5</td>\n",
       "    </tr>\n",
       "    <tr>\n",
       "      <th>Red</th>\n",
       "      <td>19.0</td>\n",
       "    </tr>\n",
       "  </tbody>\n",
       "</table>\n",
       "</div>"
      ],
      "text/plain": [
       "       score\n",
       "team        \n",
       "Blue    14.5\n",
       "Red     19.0"
      ]
     },
     "execution_count": 28,
     "metadata": {},
     "output_type": "execute_result"
    }
   ],
   "source": [
    "np.random.seed(9)\n",
    "df = pd.DataFrame({\n",
    "    'team ': [' Red','Blue ',' Red','Blue '],\n",
    "    'score': np.random.randint(10,30,4)\n",
    "})\n",
    "df\n"
   ]
  },
  {
   "cell_type": "markdown",
   "id": "d01071b5",
   "metadata": {},
   "source": [
    "<details><summary><strong>Show Solution</strong></summary>\n",
    "\n",
    "```python\n",
    "df['team '] = df['team '].str.strip()\n",
    "df.pivot_table(index='team ', values='score', aggfunc='mean')\n",
    "```\n",
    "\n",
    "</details>"
   ]
  },
  {
   "cell_type": "markdown",
   "id": "ec46e78d",
   "metadata": {},
   "source": [
    "## Question 11 — Duplicate Keys Needing Aggregation"
   ]
  },
  {
   "cell_type": "markdown",
   "id": "e250f437",
   "metadata": {},
   "source": [
    "Create a pivot table of **total revenue** per date with products as columns."
   ]
  },
  {
   "cell_type": "code",
   "execution_count": 30,
   "id": "4361cf1d",
   "metadata": {},
   "outputs": [
    {
     "data": {
      "text/html": [
       "<div>\n",
       "<style scoped>\n",
       "    .dataframe tbody tr th:only-of-type {\n",
       "        vertical-align: middle;\n",
       "    }\n",
       "\n",
       "    .dataframe tbody tr th {\n",
       "        vertical-align: top;\n",
       "    }\n",
       "\n",
       "    .dataframe thead th {\n",
       "        text-align: right;\n",
       "    }\n",
       "</style>\n",
       "<table border=\"1\" class=\"dataframe\">\n",
       "  <thead>\n",
       "    <tr style=\"text-align: right;\">\n",
       "      <th></th>\n",
       "      <th>date</th>\n",
       "      <th>product</th>\n",
       "      <th>revenue</th>\n",
       "    </tr>\n",
       "  </thead>\n",
       "  <tbody>\n",
       "    <tr>\n",
       "      <th>0</th>\n",
       "      <td>2025-01-01</td>\n",
       "      <td>A</td>\n",
       "      <td>59</td>\n",
       "    </tr>\n",
       "    <tr>\n",
       "      <th>1</th>\n",
       "      <td>2025-01-01</td>\n",
       "      <td>B</td>\n",
       "      <td>65</td>\n",
       "    </tr>\n",
       "    <tr>\n",
       "      <th>2</th>\n",
       "      <td>2025-01-02</td>\n",
       "      <td>A</td>\n",
       "      <td>114</td>\n",
       "    </tr>\n",
       "    <tr>\n",
       "      <th>3</th>\n",
       "      <td>2025-01-02</td>\n",
       "      <td>B</td>\n",
       "      <td>78</td>\n",
       "    </tr>\n",
       "    <tr>\n",
       "      <th>4</th>\n",
       "      <td>2025-01-03</td>\n",
       "      <td>A</td>\n",
       "      <td>139</td>\n",
       "    </tr>\n",
       "  </tbody>\n",
       "</table>\n",
       "</div>"
      ],
      "text/plain": [
       "        date product  revenue\n",
       "0 2025-01-01       A       59\n",
       "1 2025-01-01       B       65\n",
       "2 2025-01-02       A      114\n",
       "3 2025-01-02       B       78\n",
       "4 2025-01-03       A      139"
      ]
     },
     "execution_count": 30,
     "metadata": {},
     "output_type": "execute_result"
    }
   ],
   "source": [
    "np.random.seed(10)\n",
    "df = pd.DataFrame({\n",
    "    'date': pd.date_range('2025-01-01', periods=6, freq='D').repeat(2),\n",
    "    'product': ['A','B']*6,\n",
    "    'revenue': np.random.randint(50,150,12)\n",
    "})\n",
    "df.head()\n"
   ]
  },
  {
   "cell_type": "markdown",
   "id": "7fc22782",
   "metadata": {},
   "source": [
    "<details><summary><strong>Show Solution</strong></summary>\n",
    "\n",
    "```python\n",
    "df.pivot_table(index='date', columns='product', values='revenue', aggfunc='sum')\n",
    "```\n",
    "\n",
    "</details>"
   ]
  },
  {
   "cell_type": "markdown",
   "id": "2b9c23b9",
   "metadata": {},
   "source": [
    "## Question 12 — Mean & Std in Same Pivot"
   ]
  },
  {
   "cell_type": "markdown",
   "id": "cbe7bd1b",
   "metadata": {},
   "source": [
    "Produce pivot with both mean and std of measure for each group."
   ]
  },
  {
   "cell_type": "code",
   "execution_count": 32,
   "id": "0d648fea",
   "metadata": {},
   "outputs": [
    {
     "data": {
      "text/html": [
       "<div>\n",
       "<style scoped>\n",
       "    .dataframe tbody tr th:only-of-type {\n",
       "        vertical-align: middle;\n",
       "    }\n",
       "\n",
       "    .dataframe tbody tr th {\n",
       "        vertical-align: top;\n",
       "    }\n",
       "\n",
       "    .dataframe thead th {\n",
       "        text-align: right;\n",
       "    }\n",
       "</style>\n",
       "<table border=\"1\" class=\"dataframe\">\n",
       "  <thead>\n",
       "    <tr style=\"text-align: right;\">\n",
       "      <th></th>\n",
       "      <th>group</th>\n",
       "      <th>measure</th>\n",
       "    </tr>\n",
       "  </thead>\n",
       "  <tbody>\n",
       "    <tr>\n",
       "      <th>0</th>\n",
       "      <td>G2</td>\n",
       "      <td>-0.138082</td>\n",
       "    </tr>\n",
       "    <tr>\n",
       "      <th>1</th>\n",
       "      <td>G2</td>\n",
       "      <td>0.038107</td>\n",
       "    </tr>\n",
       "    <tr>\n",
       "      <th>2</th>\n",
       "      <td>G1</td>\n",
       "      <td>-0.348426</td>\n",
       "    </tr>\n",
       "    <tr>\n",
       "      <th>3</th>\n",
       "      <td>G2</td>\n",
       "      <td>-0.727205</td>\n",
       "    </tr>\n",
       "    <tr>\n",
       "      <th>4</th>\n",
       "      <td>G2</td>\n",
       "      <td>0.472204</td>\n",
       "    </tr>\n",
       "  </tbody>\n",
       "</table>\n",
       "</div>"
      ],
      "text/plain": [
       "  group   measure\n",
       "0    G2 -0.138082\n",
       "1    G2  0.038107\n",
       "2    G1 -0.348426\n",
       "3    G2 -0.727205\n",
       "4    G2  0.472204"
      ]
     },
     "execution_count": 32,
     "metadata": {},
     "output_type": "execute_result"
    }
   ],
   "source": [
    "np.random.seed(11)\n",
    "df = pd.DataFrame({\n",
    "    'group': np.random.choice(['G1','G2'], 30),\n",
    "    'measure': np.random.normal(0,1,30)\n",
    "})\n",
    "df.head()\n"
   ]
  },
  {
   "cell_type": "markdown",
   "id": "723379f3",
   "metadata": {},
   "source": [
    "<details><summary><strong>Show Solution</strong></summary>\n",
    "\n",
    "```python\n",
    "df.pivot_table(index='group', values='measure', aggfunc=['mean','std'])\n",
    "```\n",
    "\n",
    "</details>"
   ]
  },
  {
   "cell_type": "markdown",
   "id": "19a3a388",
   "metadata": {},
   "source": [
    "## Question 13 — Remove Duplicates Before Pivot"
   ]
  },
  {
   "cell_type": "markdown",
   "id": "347500fc",
   "metadata": {},
   "source": [
    "Keep only the latest status per id (keep first occurrence), then pivot status as columns and value as values."
   ]
  },
  {
   "cell_type": "code",
   "execution_count": 34,
   "id": "542adb83",
   "metadata": {},
   "outputs": [
    {
     "data": {
      "text/html": [
       "<div>\n",
       "<style scoped>\n",
       "    .dataframe tbody tr th:only-of-type {\n",
       "        vertical-align: middle;\n",
       "    }\n",
       "\n",
       "    .dataframe tbody tr th {\n",
       "        vertical-align: top;\n",
       "    }\n",
       "\n",
       "    .dataframe thead th {\n",
       "        text-align: right;\n",
       "    }\n",
       "</style>\n",
       "<table border=\"1\" class=\"dataframe\">\n",
       "  <thead>\n",
       "    <tr style=\"text-align: right;\">\n",
       "      <th></th>\n",
       "      <th>id</th>\n",
       "      <th>status</th>\n",
       "      <th>value</th>\n",
       "    </tr>\n",
       "  </thead>\n",
       "  <tbody>\n",
       "    <tr>\n",
       "      <th>0</th>\n",
       "      <td>1</td>\n",
       "      <td>new</td>\n",
       "      <td>76</td>\n",
       "    </tr>\n",
       "    <tr>\n",
       "      <th>1</th>\n",
       "      <td>2</td>\n",
       "      <td>old</td>\n",
       "      <td>28</td>\n",
       "    </tr>\n",
       "    <tr>\n",
       "      <th>2</th>\n",
       "      <td>3</td>\n",
       "      <td>new</td>\n",
       "      <td>7</td>\n",
       "    </tr>\n",
       "    <tr>\n",
       "      <th>3</th>\n",
       "      <td>4</td>\n",
       "      <td>old</td>\n",
       "      <td>3</td>\n",
       "    </tr>\n",
       "    <tr>\n",
       "      <th>4</th>\n",
       "      <td>5</td>\n",
       "      <td>new</td>\n",
       "      <td>4</td>\n",
       "    </tr>\n",
       "    <tr>\n",
       "      <th>5</th>\n",
       "      <td>1</td>\n",
       "      <td>old</td>\n",
       "      <td>68</td>\n",
       "    </tr>\n",
       "    <tr>\n",
       "      <th>6</th>\n",
       "      <td>2</td>\n",
       "      <td>new</td>\n",
       "      <td>77</td>\n",
       "    </tr>\n",
       "    <tr>\n",
       "      <th>7</th>\n",
       "      <td>3</td>\n",
       "      <td>old</td>\n",
       "      <td>49</td>\n",
       "    </tr>\n",
       "    <tr>\n",
       "      <th>8</th>\n",
       "      <td>4</td>\n",
       "      <td>new</td>\n",
       "      <td>23</td>\n",
       "    </tr>\n",
       "    <tr>\n",
       "      <th>9</th>\n",
       "      <td>5</td>\n",
       "      <td>old</td>\n",
       "      <td>50</td>\n",
       "    </tr>\n",
       "  </tbody>\n",
       "</table>\n",
       "</div>"
      ],
      "text/plain": [
       "   id status  value\n",
       "0   1    new     76\n",
       "1   2    old     28\n",
       "2   3    new      7\n",
       "3   4    old      3\n",
       "4   5    new      4\n",
       "5   1    old     68\n",
       "6   2    new     77\n",
       "7   3    old     49\n",
       "8   4    new     23\n",
       "9   5    old     50"
      ]
     },
     "execution_count": 34,
     "metadata": {},
     "output_type": "execute_result"
    }
   ],
   "source": [
    "np.random.seed(12)\n",
    "df = pd.DataFrame({\n",
    "    'id': np.r_[np.arange(1,6), np.arange(1,6)],\n",
    "    'status': ['new','old']*5,\n",
    "    'value': np.random.randint(1,100,10)\n",
    "})\n",
    "df"
   ]
  },
  {
   "cell_type": "markdown",
   "id": "6657f0f0",
   "metadata": {},
   "source": [
    "<details><summary><strong>Show Solution</strong></summary>\n",
    "\n",
    "```python\n",
    "latest = df.drop_duplicates('id', keep='first')\n",
    "latest.pivot(index='id', columns='status', values='value')\n",
    "```\n",
    "\n",
    "</details>"
   ]
  },
  {
   "cell_type": "markdown",
   "id": "7e3a6000",
   "metadata": {},
   "source": [
    "## Question 14 — Monthly Sales Trend"
   ]
  },
  {
   "cell_type": "markdown",
   "id": "a72b0d8e",
   "metadata": {},
   "source": [
    "Convert 'date' to datetime, extract month, then sum sales per month."
   ]
  },
  {
   "cell_type": "code",
   "execution_count": 36,
   "id": "b787411e",
   "metadata": {},
   "outputs": [
    {
     "data": {
      "text/html": [
       "<div>\n",
       "<style scoped>\n",
       "    .dataframe tbody tr th:only-of-type {\n",
       "        vertical-align: middle;\n",
       "    }\n",
       "\n",
       "    .dataframe tbody tr th {\n",
       "        vertical-align: top;\n",
       "    }\n",
       "\n",
       "    .dataframe thead th {\n",
       "        text-align: right;\n",
       "    }\n",
       "</style>\n",
       "<table border=\"1\" class=\"dataframe\">\n",
       "  <thead>\n",
       "    <tr style=\"text-align: right;\">\n",
       "      <th></th>\n",
       "      <th>date</th>\n",
       "      <th>sales</th>\n",
       "    </tr>\n",
       "  </thead>\n",
       "  <tbody>\n",
       "    <tr>\n",
       "      <th>0</th>\n",
       "      <td>2025-03-24</td>\n",
       "      <td>29</td>\n",
       "    </tr>\n",
       "    <tr>\n",
       "      <th>1</th>\n",
       "      <td>2025-06-26</td>\n",
       "      <td>70</td>\n",
       "    </tr>\n",
       "    <tr>\n",
       "      <th>2</th>\n",
       "      <td>2025-03-16</td>\n",
       "      <td>68</td>\n",
       "    </tr>\n",
       "    <tr>\n",
       "      <th>3</th>\n",
       "      <td>2025-01-17</td>\n",
       "      <td>22</td>\n",
       "    </tr>\n",
       "    <tr>\n",
       "      <th>4</th>\n",
       "      <td>2025-04-09</td>\n",
       "      <td>38</td>\n",
       "    </tr>\n",
       "  </tbody>\n",
       "</table>\n",
       "</div>"
      ],
      "text/plain": [
       "        date  sales\n",
       "0 2025-03-24     29\n",
       "1 2025-06-26     70\n",
       "2 2025-03-16     68\n",
       "3 2025-01-17     22\n",
       "4 2025-04-09     38"
      ]
     },
     "execution_count": 36,
     "metadata": {},
     "output_type": "execute_result"
    }
   ],
   "source": [
    "np.random.seed(13)\n",
    "dates = pd.date_range('2025-01-01','2025-06-30', freq='D')\n",
    "df = pd.DataFrame({\n",
    "    'date': np.random.choice(dates, 100),\n",
    "    'sales': np.random.randint(20,80,100)\n",
    "})\n",
    "df.head()"
   ]
  },
  {
   "cell_type": "markdown",
   "id": "28d61cf7",
   "metadata": {},
   "source": [
    "<details><summary><strong>Show Solution</strong></summary>\n",
    "\n",
    "```python\n",
    "df['month'] = pd.to_datetime(df['date']).dt.to_period('M')\n",
    "df.pivot_table(index='month', values='sales', aggfunc='sum')\n",
    "```\n",
    "\n",
    "</details>"
   ]
  },
  {
   "cell_type": "markdown",
   "id": "377fae1f",
   "metadata": {},
   "source": [
    "## Question 15 — Sensor Readings Wide to Long"
   ]
  },
  {
   "cell_type": "markdown",
   "id": "f38b540a",
   "metadata": {},
   "source": [
    "Melt to long form with columns timestamp, sensor, reading."
   ]
  },
  {
   "cell_type": "code",
   "execution_count": 39,
   "id": "9c1b8e77",
   "metadata": {},
   "outputs": [
    {
     "data": {
      "text/html": [
       "<div>\n",
       "<style scoped>\n",
       "    .dataframe tbody tr th:only-of-type {\n",
       "        vertical-align: middle;\n",
       "    }\n",
       "\n",
       "    .dataframe tbody tr th {\n",
       "        vertical-align: top;\n",
       "    }\n",
       "\n",
       "    .dataframe thead th {\n",
       "        text-align: right;\n",
       "    }\n",
       "</style>\n",
       "<table border=\"1\" class=\"dataframe\">\n",
       "  <thead>\n",
       "    <tr style=\"text-align: right;\">\n",
       "      <th></th>\n",
       "      <th>timestamp</th>\n",
       "      <th>sensorA</th>\n",
       "      <th>sensorB</th>\n",
       "    </tr>\n",
       "  </thead>\n",
       "  <tbody>\n",
       "    <tr>\n",
       "      <th>0</th>\n",
       "      <td>2025-07-15 00:00:00</td>\n",
       "      <td>0.513943</td>\n",
       "      <td>0.957604</td>\n",
       "    </tr>\n",
       "    <tr>\n",
       "      <th>1</th>\n",
       "      <td>2025-07-15 01:00:00</td>\n",
       "      <td>0.773165</td>\n",
       "      <td>0.513117</td>\n",
       "    </tr>\n",
       "    <tr>\n",
       "      <th>2</th>\n",
       "      <td>2025-07-15 02:00:00</td>\n",
       "      <td>0.870428</td>\n",
       "      <td>0.318284</td>\n",
       "    </tr>\n",
       "    <tr>\n",
       "      <th>3</th>\n",
       "      <td>2025-07-15 03:00:00</td>\n",
       "      <td>0.008047</td>\n",
       "      <td>0.539200</td>\n",
       "    </tr>\n",
       "    <tr>\n",
       "      <th>4</th>\n",
       "      <td>2025-07-15 04:00:00</td>\n",
       "      <td>0.309736</td>\n",
       "      <td>0.221255</td>\n",
       "    </tr>\n",
       "  </tbody>\n",
       "</table>\n",
       "</div>"
      ],
      "text/plain": [
       "            timestamp   sensorA   sensorB\n",
       "0 2025-07-15 00:00:00  0.513943  0.957604\n",
       "1 2025-07-15 01:00:00  0.773165  0.513117\n",
       "2 2025-07-15 02:00:00  0.870428  0.318284\n",
       "3 2025-07-15 03:00:00  0.008047  0.539200\n",
       "4 2025-07-15 04:00:00  0.309736  0.221255"
      ]
     },
     "execution_count": 39,
     "metadata": {},
     "output_type": "execute_result"
    }
   ],
   "source": [
    "np.random.seed(14)\n",
    "df = pd.DataFrame({\n",
    "    'timestamp': pd.date_range('2025-07-15 00:00', periods=5, freq='h'),\n",
    "    'sensorA': np.random.rand(5),\n",
    "    'sensorB': np.random.rand(5)\n",
    "})\n",
    "df\n"
   ]
  },
  {
   "cell_type": "markdown",
   "id": "1acb9a93",
   "metadata": {},
   "source": [
    "<details><summary><strong>Show Solution</strong></summary>\n",
    "\n",
    "```python\n",
    "df_long = df.melt(id_vars='timestamp', var_name='sensor', value_name='reading')\n",
    "```\n",
    "\n",
    "</details>"
   ]
  },
  {
   "cell_type": "markdown",
   "id": "715071f8",
   "metadata": {},
   "source": [
    "## Question 16 — Compute Conversion Rate"
   ]
  },
  {
   "cell_type": "markdown",
   "id": "d692f2aa",
   "metadata": {},
   "source": [
    "Pivot to compute **conversion rate** (mean of converted) per campaign."
   ]
  },
  {
   "cell_type": "code",
   "execution_count": 41,
   "id": "3757bd81",
   "metadata": {},
   "outputs": [
    {
     "data": {
      "text/html": [
       "<div>\n",
       "<style scoped>\n",
       "    .dataframe tbody tr th:only-of-type {\n",
       "        vertical-align: middle;\n",
       "    }\n",
       "\n",
       "    .dataframe tbody tr th {\n",
       "        vertical-align: top;\n",
       "    }\n",
       "\n",
       "    .dataframe thead th {\n",
       "        text-align: right;\n",
       "    }\n",
       "</style>\n",
       "<table border=\"1\" class=\"dataframe\">\n",
       "  <thead>\n",
       "    <tr style=\"text-align: right;\">\n",
       "      <th></th>\n",
       "      <th>campaign</th>\n",
       "      <th>converted</th>\n",
       "    </tr>\n",
       "  </thead>\n",
       "  <tbody>\n",
       "    <tr>\n",
       "      <th>0</th>\n",
       "      <td>Email</td>\n",
       "      <td>0</td>\n",
       "    </tr>\n",
       "    <tr>\n",
       "      <th>1</th>\n",
       "      <td>Ads</td>\n",
       "      <td>0</td>\n",
       "    </tr>\n",
       "    <tr>\n",
       "      <th>2</th>\n",
       "      <td>Email</td>\n",
       "      <td>0</td>\n",
       "    </tr>\n",
       "    <tr>\n",
       "      <th>3</th>\n",
       "      <td>Ads</td>\n",
       "      <td>1</td>\n",
       "    </tr>\n",
       "    <tr>\n",
       "      <th>4</th>\n",
       "      <td>Ads</td>\n",
       "      <td>0</td>\n",
       "    </tr>\n",
       "  </tbody>\n",
       "</table>\n",
       "</div>"
      ],
      "text/plain": [
       "  campaign  converted\n",
       "0    Email          0\n",
       "1      Ads          0\n",
       "2    Email          0\n",
       "3      Ads          1\n",
       "4      Ads          0"
      ]
     },
     "execution_count": 41,
     "metadata": {},
     "output_type": "execute_result"
    }
   ],
   "source": [
    "np.random.seed(15)\n",
    "df = pd.DataFrame({\n",
    "    'campaign': np.random.choice(['Email','Ads'], 50),\n",
    "    'converted': np.random.choice([0,1], 50)\n",
    "})\n",
    "df.head()\n"
   ]
  },
  {
   "cell_type": "markdown",
   "id": "0d1d919b",
   "metadata": {},
   "source": [
    "<details><summary><strong>Show Solution</strong></summary>\n",
    "\n",
    "```python\n",
    "df.pivot_table(index='campaign', values='converted', aggfunc='mean')\n",
    "```\n",
    "\n",
    "</details>"
   ]
  },
  {
   "cell_type": "markdown",
   "id": "f9d8c856",
   "metadata": {},
   "source": [
    "## Question 17 — Split Category/Subcategory"
   ]
  },
  {
   "cell_type": "markdown",
   "id": "a9642ebe",
   "metadata": {},
   "source": [
    "Separate cat_sub into cat and sub, then sum qty with cat rows and sub columns."
   ]
  },
  {
   "cell_type": "code",
   "execution_count": 44,
   "id": "4c29a0b2",
   "metadata": {},
   "outputs": [
    {
     "data": {
      "text/html": [
       "<div>\n",
       "<style scoped>\n",
       "    .dataframe tbody tr th:only-of-type {\n",
       "        vertical-align: middle;\n",
       "    }\n",
       "\n",
       "    .dataframe tbody tr th {\n",
       "        vertical-align: top;\n",
       "    }\n",
       "\n",
       "    .dataframe thead th {\n",
       "        text-align: right;\n",
       "    }\n",
       "</style>\n",
       "<table border=\"1\" class=\"dataframe\">\n",
       "  <thead>\n",
       "    <tr style=\"text-align: right;\">\n",
       "      <th></th>\n",
       "      <th>cat_sub</th>\n",
       "      <th>qty</th>\n",
       "    </tr>\n",
       "  </thead>\n",
       "  <tbody>\n",
       "    <tr>\n",
       "      <th>0</th>\n",
       "      <td>A_X</td>\n",
       "      <td>2</td>\n",
       "    </tr>\n",
       "    <tr>\n",
       "      <th>1</th>\n",
       "      <td>A_Y</td>\n",
       "      <td>3</td>\n",
       "    </tr>\n",
       "    <tr>\n",
       "      <th>2</th>\n",
       "      <td>B_X</td>\n",
       "      <td>2</td>\n",
       "    </tr>\n",
       "    <tr>\n",
       "      <th>3</th>\n",
       "      <td>B_Y</td>\n",
       "      <td>2</td>\n",
       "    </tr>\n",
       "    <tr>\n",
       "      <th>4</th>\n",
       "      <td>A_X</td>\n",
       "      <td>2</td>\n",
       "    </tr>\n",
       "  </tbody>\n",
       "</table>\n",
       "</div>"
      ],
      "text/plain": [
       "  cat_sub  qty\n",
       "0     A_X    2\n",
       "1     A_Y    3\n",
       "2     B_X    2\n",
       "3     B_Y    2\n",
       "4     A_X    2"
      ]
     },
     "execution_count": 44,
     "metadata": {},
     "output_type": "execute_result"
    }
   ],
   "source": [
    "np.random.seed(16)\n",
    "df = pd.DataFrame({\n",
    "    'cat_sub': ['A_X','A_Y','B_X','B_Y']*5,\n",
    "    'qty': np.random.randint(1,5,20)\n",
    "})\n",
    "df.head()\n"
   ]
  },
  {
   "cell_type": "markdown",
   "id": "caf1aff0",
   "metadata": {},
   "source": [
    "<details><summary><strong>Show Solution</strong></summary>\n",
    "\n",
    "```python\n",
    "df[['cat','sub']] = df['cat_sub'].str.split('_', expand=True)\n",
    "df.pivot_table(index='cat', columns='sub', values='qty', aggfunc='sum')\n",
    "```\n",
    "\n",
    "</details>"
   ]
  },
  {
   "cell_type": "markdown",
   "id": "823825d2",
   "metadata": {},
   "source": [
    "## Question 18 — Ordered Categories in Pivot"
   ]
  },
  {
   "cell_type": "markdown",
   "id": "5e725c50",
   "metadata": {},
   "source": [
    "Set 'priority' as categorical ordered low<medium<high, then count tickets per priority (rows)."
   ]
  },
  {
   "cell_type": "code",
   "execution_count": 47,
   "id": "48b24bdb",
   "metadata": {},
   "outputs": [
    {
     "data": {
      "text/html": [
       "<div>\n",
       "<style scoped>\n",
       "    .dataframe tbody tr th:only-of-type {\n",
       "        vertical-align: middle;\n",
       "    }\n",
       "\n",
       "    .dataframe tbody tr th {\n",
       "        vertical-align: top;\n",
       "    }\n",
       "\n",
       "    .dataframe thead th {\n",
       "        text-align: right;\n",
       "    }\n",
       "</style>\n",
       "<table border=\"1\" class=\"dataframe\">\n",
       "  <thead>\n",
       "    <tr style=\"text-align: right;\">\n",
       "      <th></th>\n",
       "      <th>priority</th>\n",
       "      <th>tickets</th>\n",
       "    </tr>\n",
       "  </thead>\n",
       "  <tbody>\n",
       "    <tr>\n",
       "      <th>0</th>\n",
       "      <td>medium</td>\n",
       "      <td>1</td>\n",
       "    </tr>\n",
       "    <tr>\n",
       "      <th>1</th>\n",
       "      <td>high</td>\n",
       "      <td>1</td>\n",
       "    </tr>\n",
       "    <tr>\n",
       "      <th>2</th>\n",
       "      <td>high</td>\n",
       "      <td>1</td>\n",
       "    </tr>\n",
       "    <tr>\n",
       "      <th>3</th>\n",
       "      <td>medium</td>\n",
       "      <td>1</td>\n",
       "    </tr>\n",
       "    <tr>\n",
       "      <th>4</th>\n",
       "      <td>low</td>\n",
       "      <td>1</td>\n",
       "    </tr>\n",
       "  </tbody>\n",
       "</table>\n",
       "</div>"
      ],
      "text/plain": [
       "  priority  tickets\n",
       "0   medium        1\n",
       "1     high        1\n",
       "2     high        1\n",
       "3   medium        1\n",
       "4      low        1"
      ]
     },
     "execution_count": 47,
     "metadata": {},
     "output_type": "execute_result"
    }
   ],
   "source": [
    "np.random.seed(17)\n",
    "df = pd.DataFrame({\n",
    "    'priority': np.random.choice(['low','medium','high'], 30),\n",
    "    'tickets': 1\n",
    "})\n",
    "df.head()\n"
   ]
  },
  {
   "cell_type": "markdown",
   "id": "39d15fcc",
   "metadata": {},
   "source": [
    "<details><summary><strong>Show Solution</strong></summary>\n",
    "\n",
    "```python\n",
    "df['priority'] = pd.Categorical(df['priority'], categories=['low','medium','high'], ordered=True)\n",
    "df.pivot_table(index='priority', values='tickets', aggfunc='count').sort_index()\n",
    "```\n",
    "\n",
    "</details>"
   ]
  },
  {
   "cell_type": "markdown",
   "id": "442b8c10",
   "metadata": {},
   "source": [
    "## Question 19 — Value Vars Melt Then Pivot"
   ]
  },
  {
   "cell_type": "markdown",
   "id": "b6d196d0",
   "metadata": {},
   "source": [
    "Melt height and weight into long, then compute average of each measure."
   ]
  },
  {
   "cell_type": "code",
   "execution_count": 49,
   "id": "2dfeb1c3",
   "metadata": {},
   "outputs": [
    {
     "data": {
      "text/html": [
       "<div>\n",
       "<style scoped>\n",
       "    .dataframe tbody tr th:only-of-type {\n",
       "        vertical-align: middle;\n",
       "    }\n",
       "\n",
       "    .dataframe tbody tr th {\n",
       "        vertical-align: top;\n",
       "    }\n",
       "\n",
       "    .dataframe thead th {\n",
       "        text-align: right;\n",
       "    }\n",
       "</style>\n",
       "<table border=\"1\" class=\"dataframe\">\n",
       "  <thead>\n",
       "    <tr style=\"text-align: right;\">\n",
       "      <th></th>\n",
       "      <th>id</th>\n",
       "      <th>height_cm</th>\n",
       "      <th>weight_kg</th>\n",
       "    </tr>\n",
       "  </thead>\n",
       "  <tbody>\n",
       "    <tr>\n",
       "      <th>0</th>\n",
       "      <td>1</td>\n",
       "      <td>169</td>\n",
       "      <td>84</td>\n",
       "    </tr>\n",
       "    <tr>\n",
       "      <th>1</th>\n",
       "      <td>2</td>\n",
       "      <td>155</td>\n",
       "      <td>67</td>\n",
       "    </tr>\n",
       "    <tr>\n",
       "      <th>2</th>\n",
       "      <td>3</td>\n",
       "      <td>152</td>\n",
       "      <td>55</td>\n",
       "    </tr>\n",
       "    <tr>\n",
       "      <th>3</th>\n",
       "      <td>4</td>\n",
       "      <td>158</td>\n",
       "      <td>71</td>\n",
       "    </tr>\n",
       "    <tr>\n",
       "      <th>4</th>\n",
       "      <td>5</td>\n",
       "      <td>174</td>\n",
       "      <td>60</td>\n",
       "    </tr>\n",
       "  </tbody>\n",
       "</table>\n",
       "</div>"
      ],
      "text/plain": [
       "   id  height_cm  weight_kg\n",
       "0   1        169         84\n",
       "1   2        155         67\n",
       "2   3        152         55\n",
       "3   4        158         71\n",
       "4   5        174         60"
      ]
     },
     "execution_count": 49,
     "metadata": {},
     "output_type": "execute_result"
    }
   ],
   "source": [
    "np.random.seed(18)\n",
    "df = pd.DataFrame({\n",
    "    'id': range(1,6),\n",
    "    'height_cm': np.random.randint(150,190,5),\n",
    "    'weight_kg': np.random.randint(50,90,5)\n",
    "})\n",
    "df\n"
   ]
  },
  {
   "cell_type": "markdown",
   "id": "4524b520",
   "metadata": {},
   "source": [
    "<details><summary><strong>Show Solution</strong></summary>\n",
    "\n",
    "```python\n",
    "long = df.melt(id_vars='id', var_name='measure', value_name='value')\n",
    "long.pivot_table(index='measure', values='value', aggfunc='mean')\n",
    "```\n",
    "\n",
    "</details>"
   ]
  },
  {
   "cell_type": "markdown",
   "id": "42b730a8",
   "metadata": {},
   "source": [
    "## Question 20 — Outlier Filter Then Multi‑Metric Pivot"
   ]
  },
  {
   "cell_type": "markdown",
   "id": "cf4b263d",
   "metadata": {},
   "source": [
    "Filter out profits > 180, then compute mean & std profit per branch."
   ]
  },
  {
   "cell_type": "code",
   "execution_count": 51,
   "id": "c3776102",
   "metadata": {},
   "outputs": [
    {
     "data": {
      "text/html": [
       "<div>\n",
       "<style scoped>\n",
       "    .dataframe tbody tr th:only-of-type {\n",
       "        vertical-align: middle;\n",
       "    }\n",
       "\n",
       "    .dataframe tbody tr th {\n",
       "        vertical-align: top;\n",
       "    }\n",
       "\n",
       "    .dataframe thead th {\n",
       "        text-align: right;\n",
       "    }\n",
       "</style>\n",
       "<table border=\"1\" class=\"dataframe\">\n",
       "  <thead>\n",
       "    <tr style=\"text-align: right;\">\n",
       "      <th></th>\n",
       "      <th>branch</th>\n",
       "      <th>profit</th>\n",
       "    </tr>\n",
       "  </thead>\n",
       "  <tbody>\n",
       "    <tr>\n",
       "      <th>0</th>\n",
       "      <td>West</td>\n",
       "      <td>108.309638</td>\n",
       "    </tr>\n",
       "    <tr>\n",
       "      <th>1</th>\n",
       "      <td>East</td>\n",
       "      <td>85.962477</td>\n",
       "    </tr>\n",
       "    <tr>\n",
       "      <th>2</th>\n",
       "      <td>West</td>\n",
       "      <td>103.709289</td>\n",
       "    </tr>\n",
       "    <tr>\n",
       "      <th>3</th>\n",
       "      <td>East</td>\n",
       "      <td>109.366996</td>\n",
       "    </tr>\n",
       "    <tr>\n",
       "      <th>4</th>\n",
       "      <td>East</td>\n",
       "      <td>100.790467</td>\n",
       "    </tr>\n",
       "  </tbody>\n",
       "</table>\n",
       "</div>"
      ],
      "text/plain": [
       "  branch      profit\n",
       "0   West  108.309638\n",
       "1   East   85.962477\n",
       "2   West  103.709289\n",
       "3   East  109.366996\n",
       "4   East  100.790467"
      ]
     },
     "execution_count": 51,
     "metadata": {},
     "output_type": "execute_result"
    }
   ],
   "source": [
    "np.random.seed(19)\n",
    "df = pd.DataFrame({\n",
    "    'branch': np.random.choice(['East','West'], 100),\n",
    "    'profit': np.random.normal(100,20,100)\n",
    "})\n",
    "# add outliers\n",
    "df.loc[np.random.choice(df.index, 5, replace=False),'profit'] += 200\n",
    "df.head()"
   ]
  },
  {
   "cell_type": "markdown",
   "id": "76266975",
   "metadata": {},
   "source": [
    "<details><summary><strong>Show Solution</strong></summary>\n",
    "\n",
    "```python\n",
    "clean = df[df['profit']<=180]\n",
    "clean.pivot_table(index='branch', values='profit', aggfunc=['mean','std'])\n",
    "```\n",
    "\n",
    "</details>"
   ]
  },
  {
   "cell_type": "markdown",
   "id": "21b5c20e",
   "metadata": {},
   "source": [
    "## Question 21: End‑to‑End Tidy Data & Exploratory Analysis\n",
    "\n",
    "**Objective:**  \n",
    "Practice the full workflow of acquiring real data, cleaning it into tidy form, performing exploratory visualizations, and communicating your first impressions.\n",
    "\n",
    "---\n",
    "\n",
    "### 1. Data Acquisition\n",
    "\n",
    "1. **Choose a dataset**  \n",
    "   - Find any publicly‑available CSV file online (e.g. Kaggle, UCI Machine Learning Repository, data.gov).  \n",
    "2. **Download the file**  \n",
    "   - Save it into your project folder as `data/your_dataset.csv`.  \n",
    "   - Note the source URL and a brief description (what it measures, number of rows, columns).\n",
    "\n",
    "---\n",
    "\n",
    "### 2. Loading & Initial Inspection\n",
    "\n",
    "1. **Import pandas**  \n",
    "   - import pandas as pd  \n",
    "2. **Read the CSV**  \n",
    "   - df = pd.read_csv(\"data/your_dataset.csv\")  \n",
    "3. **Peek at the data**  \n",
    "   - df.head()  \n",
    "   - df.info()  \n",
    "   - df.describe()\n",
    "\n",
    "---\n",
    "\n",
    "### 3. Tidying the Data\n",
    "\n",
    "Follow the tidy‑data principles: one variable per column, one observation per row, one value per cell.\n",
    "\n",
    "1. **Identify issues**  \n",
    "   - Are there multiple measures in one column?  \n",
    "   - Are columns encoding two variables (e.g. `2019_sales` and `2020_sales`)?  \n",
    "   - Are any column names unclear or inconsistent?  \n",
    "2. **Reshape as needed**  \n",
    "   - Melt wide → long: df_long = df.melt(id_vars=[…], var_name=\"variable\", value_name=\"value\")  \n",
    "   - Pivot long → wide: df_wide = df_long.pivot(index=[…], columns=\"variable\", values=\"value\")  \n",
    "3. **Rename & convert**  \n",
    "   - Standardize column names.  \n",
    "   - Convert data types: df[\"date\"] = pd.to_datetime(df[\"date\"]), df[\"category\"] = df[\"category\"].astype(\"category\")  \n",
    "4. **Handle missing or duplicate data**  \n",
    "   - Drop or impute missing values as appropriate.  \n",
    "   - Remove exact duplicate rows: df = df.drop_duplicates()\n",
    "\n",
    "---\n",
    "\n",
    "### 4. Exploratory Data Analysis (EDA)\n",
    "\n",
    "Create at least **three** different plots to understand structure or patterns. Examples:\n",
    "\n",
    "- **Univariate distribution:** histogram or density plot of a numeric variable  \n",
    "- **Bivariate relationship:** scatterplot of two continuous variables; boxplot or violin plot grouped by category  \n",
    "- **Time series or trend:** line plot over time (if applicable)  \n",
    "- **Categorical counts (optional):** bar chart of categorical frequencies  \n",
    "\n",
    "Be sure to label axes, add titles, and choose sensible figure sizes.\n",
    "\n",
    "---\n",
    "\n",
    "### 5. Insights & Interpretation\n",
    "\n",
    "Write **1–2 clear sentences** describing the most interesting pattern(s).  \n",
    "Examples:  \n",
    "- “Sales peak in Q4 each year, suggesting a strong holiday effect.”  \n",
    "- “Advertising spend and website visits show a strong positive correlation (r ≈ 0.7).”\n",
    "\n",
    "\n",
    "Challenge: how can you ensure that any one is able to download this data and make sure they get the same exact answer as you?\n",
    "\n",
    "\n"
   ]
  }
 ],
 "metadata": {
  "kernelspec": {
   "display_name": "assigment-1",
   "language": "python",
   "name": "python3"
  },
  "language_info": {
   "codemirror_mode": {
    "name": "ipython",
    "version": 3
   },
   "file_extension": ".py",
   "mimetype": "text/x-python",
   "name": "python",
   "nbconvert_exporter": "python",
   "pygments_lexer": "ipython3",
   "version": "3.9.22"
  }
 },
 "nbformat": 4,
 "nbformat_minor": 5
}
