{
 "cells": [
  {
   "cell_type": "markdown",
   "id": "bac7c160",
   "metadata": {},
   "source": [
    "# Pivot‑Table Practice Lab (21 Questions)\n",
    "\n",
    "Each question simulates a small DataFrame.  \n",
    "**Your task:** create the requested pivot table (or tidy reshape) *below the simulation cell*.\n",
    "Once you are finished, you can meet with your group. \n",
    "\n",
    "---\n",
    "\n"
   ]
  },
  {
   "cell_type": "markdown",
   "id": "f9d373f2",
   "metadata": {},
   "source": [
    "# Tidy Data Frame\n",
    "\n",
    "A **tidy data frame** follows three simple rules:\n",
    "\n",
    "1. **Each variable** is a column.  \n",
    "2. **Each observation** (or case) is a row.  \n",
    "3. **Each value** is a single cell.\n",
    "\n",
    "For example, this is _tidy_:\n",
    "\n",
    "| country | year | population |\n",
    "| ------- | ---- | ---------- |\n",
    "| A       | 2000 | 1,000,000  |\n",
    "| A       | 2010 | 1,100,000  |\n",
    "| B       | 2000 | 500,000    |\n",
    "| B       | 2010 | 600,000    |\n",
    "\n",
    "\n",
    "Here “country”, “year”, and “population” are each their own columns, and every row is one observation.\n",
    "\n",
    "---\n",
    "\n",
    "# Pivot Table\n",
    "\n",
    "A **pivot table** is a way to **reshape** and **summarize** data:\n",
    "\n",
    "- **Rows** and **columns** become grouping variables.  \n",
    "- **Cell values** are computed by applying an aggregation (sum, mean, count, etc.) to the data in each group.\n",
    "\n",
    "Using the same data, a pivot table showing population by country and year might look like:\n",
    "\n",
    "| country | 2000      | 2010      |\n",
    "| ------- | --------- | --------- |\n",
    "| A       | 1,000,000 | 1,100,000 |\n",
    "| B       | 500,000   | 600,000   |\n",
    "\n",
    "\n",
    "Here we’ve “pivoted” the year values into separate columns and filled in the population.\n",
    "\n",
    "---\n",
    "\n",
    "# Wide vs. Long Format\n",
    "\n",
    "- **Wide format**  \n",
    "  - Variables that could be rows (e.g. “year”) become separate columns.  \n",
    "  - Good for human‐readable tables or specific plotting functions.  \n",
    "\n",
    "| country | pop\\_2000 | pop\\_2010 |\n",
    "| ------- | --------- | --------- |\n",
    "| A       | 1,000,000 | 1,100,000 |\n",
    "| B       | 500,000   | 600,000   |\n",
    "\n",
    "\n",
    "- **Long format**  \n",
    "- Each row is one measurement; variable names live in a single column, with their values in another.  \n",
    "- Ideal for most data‐analysis and plotting libraries (e.g., pandas “melt”).\n",
    "\n",
    "| country | year | population |\n",
    "| ------- | ---- | ---------- |\n",
    "| A       | 2000 | 1,000,000  |\n",
    "| A       | 2010 | 1,100,000  |\n",
    "| B       | 2000 | 500,000    |\n",
    "| B       | 2010 | 600,000    |\n",
    "\n"
   ]
  },
  {
   "cell_type": "markdown",
   "id": "e31f0182",
   "metadata": {},
   "source": [
    "# Useful commands"
   ]
  },
  {
   "cell_type": "code",
   "execution_count": null,
   "id": "f72dd1c3",
   "metadata": {},
   "outputs": [],
   "source": [
    "import pandas as pd\n",
    "\n",
    "# Sample long DataFrame\n",
    "df = pd.DataFrame({\n",
    "  'country': ['A','A','B','B'],\n",
    "  'year':    [2000,2010,2000,2010],\n",
    "  'population': [1_000_000,1_100_000,500_000,600_000]\n",
    "})"
   ]
  },
  {
   "cell_type": "code",
   "execution_count": null,
   "id": "b80cf066",
   "metadata": {},
   "outputs": [],
   "source": [
    "# 1. Long → Wide with pivot (no aggregation)\n",
    "df_wide = df.pivot(index='country', columns='year', values='population')\n",
    "\n",
    "df_wide"
   ]
  },
  {
   "cell_type": "code",
   "execution_count": null,
   "id": "45d7284a",
   "metadata": {},
   "outputs": [],
   "source": [
    "# 2. Long → Wide with aggregation (sum, mean, etc.)\n",
    "df_pt = df.pivot_table(\n",
    "  index='country',\n",
    "  columns='year',\n",
    "  values='population',\n",
    "  aggfunc='sum'\n",
    ")\n",
    "\n",
    "df_pt"
   ]
  },
  {
   "cell_type": "code",
   "execution_count": null,
   "id": "6f19b761",
   "metadata": {},
   "outputs": [],
   "source": [
    "# 3. Wide → Long with melt\n",
    "df_wide_reset = df_wide.reset_index()  # bring 'country' back to a column\n",
    "df_long = df_wide_reset.melt(\n",
    "  id_vars='country',\n",
    "  var_name='year',\n",
    "  value_name='population'\n",
    ")\n",
    "\n",
    "df_long"
   ]
  },
  {
   "cell_type": "code",
   "execution_count": null,
   "id": "28fcc347",
   "metadata": {},
   "outputs": [],
   "source": [
    "# 4. Tidying a more complex wide table\n",
    "# Suppose you have separate year columns: pop_2000, pop_2010\n",
    "df2 = pd.DataFrame({\n",
    "  'country': ['A','B'],\n",
    "  'pop_2000': [1_000_000, 500_000],\n",
    "  'pop_2010': [1_100_000, 600_000]\n",
    "})\n",
    "df2_long = df2.melt(\n",
    "  id_vars='country',\n",
    "  value_vars=['pop_2000','pop_2010'],\n",
    "  var_name='year',\n",
    "  value_name='population'\n",
    ")\n",
    "# Clean up 'year' values\n",
    "df2_long['year'] = df2_long['year'].str.replace('pop_','').astype(int)\n",
    "\n",
    "df2_long"
   ]
  },
  {
   "cell_type": "markdown",
   "id": "a08ba83c",
   "metadata": {},
   "source": [
    "## Question 1 — Region × Units Sold"
   ]
  },
  {
   "cell_type": "markdown",
   "id": "623196ef",
   "metadata": {},
   "source": [
    "Create a pivot table that shows **total units** sold in each region (i.e. region | units, use pd.pivot_table)"
   ]
  },
  {
   "cell_type": "code",
   "execution_count": null,
   "id": "c6a652cf",
   "metadata": {},
   "outputs": [],
   "source": [
    "import pandas as pd, numpy as np\n",
    "np.random.seed(0)\n",
    "regions = ['North','South','East','West']\n",
    "items = ['Widget']\n",
    "df = pd.DataFrame({\n",
    "    'region': np.random.choice(regions, size=20),\n",
    "    'item': 'Widget',\n",
    "    'units': np.random.randint(1, 11, 20)\n",
    "})\n",
    "df.head()\n",
    "\n",
    "df_pivot = df.pivot_table(values='units', index='region', aggfunc='sum')\n",
    "df_pivot"
   ]
  },
  {
   "cell_type": "markdown",
   "id": "56adc247",
   "metadata": {},
   "source": [
    "<details><summary><strong>Show Solution</strong></summary>\n",
    "\n",
    "```python\n",
    "pd.pivot_table(df, index='region', values='units', aggfunc='sum')\n",
    "```\n",
    "\n",
    "</details>"
   ]
  },
  {
   "cell_type": "markdown",
   "id": "f597b2c3",
   "metadata": {},
   "source": [
    "## Question 2 — Average Temperature per City"
   ]
  },
  {
   "cell_type": "markdown",
   "id": "8bfd6768",
   "metadata": {},
   "source": [
    "Compute the **average temperature** for each city using a pivot table (use pivot_table)"
   ]
  },
  {
   "cell_type": "code",
   "execution_count": null,
   "id": "c5afd46d",
   "metadata": {},
   "outputs": [],
   "source": [
    "np.random.seed(1)\n",
    "cities = ['Boston','Chicago','Seattle']\n",
    "dates = pd.date_range('2025-07-01', periods=15)\n",
    "df = pd.DataFrame({\n",
    "    'city': np.random.choice(cities, size=45),\n",
    "    'date': np.tile(dates, 3),\n",
    "    'temp_C': np.random.normal(25, 3, 45)\n",
    "})\n",
    "df.head()\n",
    "\n",
    "df_pivot = df.pivot_table(index='city', values='temp_C', aggfunc='mean')\n",
    "df_pivot"
   ]
  },
  {
   "cell_type": "markdown",
   "id": "8d43cde1",
   "metadata": {},
   "source": [
    "<details><summary><strong>Show Solution</strong></summary>\n",
    "\n",
    "```python\n",
    "df.pivot_table(index='city', values='temp_C', aggfunc='mean')\n",
    "```\n",
    "\n",
    "</details>"
   ]
  },
  {
   "cell_type": "markdown",
   "id": "1a9b1564",
   "metadata": {},
   "source": [
    "## Question 3 — Count Students by Grade"
   ]
  },
  {
   "cell_type": "markdown",
   "id": "dd3bf2de",
   "metadata": {},
   "source": [
    "Produce a pivot table counting how many students earned each grade."
   ]
  },
  {
   "cell_type": "code",
   "execution_count": null,
   "id": "cedca4de",
   "metadata": {},
   "outputs": [],
   "source": [
    "np.random.seed(2)\n",
    "grades = ['A','B','C','D']\n",
    "df = pd.DataFrame({\n",
    "    'student_id': range(1,51),\n",
    "    'grade': np.random.choice(grades, 50)\n",
    "})\n",
    "print(df.head())\n",
    "\n",
    "df_pivot = df.pivot_table(index='grade', values='student_id', aggfunc='count')\n",
    "df_pivot"
   ]
  },
  {
   "cell_type": "markdown",
   "id": "ac93ebfb",
   "metadata": {},
   "source": [
    "<details><summary><strong>Show Solution</strong></summary>\n",
    "\n",
    "```python\n",
    "df.pivot_table(index='grade', values='student_id', aggfunc='count')\n",
    "```\n",
    "\n",
    "</details>"
   ]
  },
  {
   "cell_type": "markdown",
   "id": "74451d13",
   "metadata": {},
   "source": [
    "## Question 4 — Quarterly Department Expenses"
   ]
  },
  {
   "cell_type": "markdown",
   "id": "9f553109",
   "metadata": {},
   "source": [
    "Pivot the table so **quarters become columns** and expenses fill values. Use pd.pivot."
   ]
  },
  {
   "cell_type": "code",
   "execution_count": null,
   "id": "f570bff0",
   "metadata": {},
   "outputs": [],
   "source": [
    "np.random.seed(3)\n",
    "depts = ['HR','IT','Sales']\n",
    "quarters = ['Q1','Q2','Q3','Q4']\n",
    "records = [(d,q,np.random.randint(5000,20000)) for d in depts for q in quarters]\n",
    "df = pd.DataFrame(records, columns=['department','quarter','expense'])\n",
    "df.head()\n",
    "\n",
    "df_pivot = df.pivot(index='department', columns='quarter', values='expense')\n",
    "df_pivot"
   ]
  },
  {
   "cell_type": "markdown",
   "id": "d6cdc3ea",
   "metadata": {},
   "source": [
    "<details><summary><strong>Show Solution</strong></summary>\n",
    "\n",
    "```python\n",
    "df.pivot(index='department', columns='quarter', values='expense')\n",
    "```\n",
    "\n",
    "</details>"
   ]
  },
  {
   "cell_type": "markdown",
   "id": "8535da8a",
   "metadata": {},
   "source": [
    "## Question 5 — Wide‑to‑Long Patient BP"
   ]
  },
  {
   "cell_type": "markdown",
   "id": "ffd36a59",
   "metadata": {},
   "source": [
    "Melt the DataFrame to long form with columns: patient, day, bp."
   ]
  },
  {
   "cell_type": "code",
   "execution_count": null,
   "id": "ec596111",
   "metadata": {},
   "outputs": [],
   "source": [
    "np.random.seed(4)\n",
    "df = pd.DataFrame({\n",
    "    'patient':['P1','P2','P3'],\n",
    "    'day1': np.random.randint(110,130,3),\n",
    "    'day2': np.random.randint(110,130,3),\n",
    "    'day3': np.random.randint(110,130,3)\n",
    "})\n",
    "df\n",
    "\n",
    "df_long = df.melt(id_vars='patient', value_name='blood_pressure', var_name='day')\n",
    "df_long"
   ]
  },
  {
   "cell_type": "markdown",
   "id": "fd2849a1",
   "metadata": {},
   "source": [
    "<details><summary><strong>Show Solution</strong></summary>\n",
    "\n",
    "```python\n",
    "df_long = df.melt(id_vars='patient', var_name='day', value_name='bp')\n",
    "```\n",
    "\n",
    "</details>"
   ]
  },
  {
   "cell_type": "markdown",
   "id": "60126831",
   "metadata": {},
   "source": [
    "## Question 6 — Mean Score by Class & Subject"
   ]
  },
  {
   "cell_type": "markdown",
   "id": "ee10c1e9",
   "metadata": {},
   "source": [
    "Pivot to show **average score** per class (rows) and subject (columns)."
   ]
  },
  {
   "cell_type": "code",
   "execution_count": null,
   "id": "eb667324",
   "metadata": {},
   "outputs": [],
   "source": [
    "np.random.seed(5)\n",
    "classes = ['A','B']\n",
    "subjects = ['Math','History','Science']\n",
    "records=[(c,s,np.random.randint(50,101)) for c in classes for s in subjects for _ in range(5)]\n",
    "df=pd.DataFrame(records, columns=['class','subject','score'])\n",
    "df.head()\n",
    "\n",
    "df_pivot = df.pivot_table(index='class', columns='subject', values='score', aggfunc='mean')\n",
    "df_pivot"
   ]
  },
  {
   "cell_type": "markdown",
   "id": "17f88e92",
   "metadata": {},
   "source": [
    "<details><summary><strong>Show Solution</strong></summary>\n",
    "\n",
    "```python\n",
    "df.pivot_table(index='class', columns='subject', values='score', aggfunc='mean')\n",
    "```\n",
    "\n",
    "</details>"
   ]
  },
  {
   "cell_type": "markdown",
   "id": "ad4cfb65",
   "metadata": {},
   "source": [
    "## Question 7 — Satisfaction Counts by Gender"
   ]
  },
  {
   "cell_type": "markdown",
   "id": "7703b79b",
   "metadata": {},
   "source": [
    "Count satisfied vs not by gender (rows=gender, cols=satisfied)."
   ]
  },
  {
   "cell_type": "code",
   "execution_count": null,
   "id": "1d40f7f7",
   "metadata": {},
   "outputs": [],
   "source": [
    "np.random.seed(6)\n",
    "df = pd.DataFrame({\n",
    "    'gender': np.random.choice(['F','M'], 30),\n",
    "    'satisfied': np.random.choice([0,1], 30)\n",
    "})\n",
    "print(df.head())\n",
    "\n",
    "df_pivot = df.pivot_table(index='gender', values='satisfied', aggfunc='count')\n",
    "df_pivot"
   ]
  },
  {
   "cell_type": "markdown",
   "id": "69f4d46a",
   "metadata": {},
   "source": [
    "<details><summary><strong>Show Solution</strong></summary>\n",
    "\n",
    "```python\n",
    "pd.pivot_table(df, index='gender', columns='satisfied', values='satisfied', aggfunc='count', fill_value=0)\n",
    "```\n",
    "\n",
    "</details>"
   ]
  },
  {
   "cell_type": "markdown",
   "id": "44910a3a",
   "metadata": {},
   "source": [
    "## Question 8 — Handle Missing Units Before Pivot"
   ]
  },
  {
   "cell_type": "markdown",
   "id": "c32240c7",
   "metadata": {},
   "source": [
    "Fill missing units with 0, then sum units per store×category."
   ]
  },
  {
   "cell_type": "code",
   "execution_count": null,
   "id": "05aa2bad",
   "metadata": {},
   "outputs": [],
   "source": [
    "np.random.seed(7)\n",
    "df = pd.DataFrame({\n",
    "    'store': np.random.choice(['A', 'B', 'C'], 15),\n",
    "    'category': np.random.choice(['X', 'Y'], 15),\n",
    "    'units': np.random.randint(1, 20, 15).astype(float)\n",
    "})\n",
    "\n",
    "df.loc[df.sample(5).index, 'units'] = np.nan\n",
    "df.head()\n",
    "\n",
    "df.fillna(0, inplace=True)\n",
    "df_pivot = df.pivot_table(index='store', columns='category', values='units', aggfunc='sum')\n",
    "df_pivot"
   ]
  },
  {
   "cell_type": "markdown",
   "id": "0d287f76",
   "metadata": {},
   "source": [
    "<details><summary><strong>Show Solution</strong></summary>\n",
    "\n",
    "```python\n",
    "df_filled = df.fillna({'units':0})\n",
    "df_filled.pivot_table(index='store', columns='category', values='units', aggfunc='sum')\n",
    "```\n",
    "\n",
    "</details>"
   ]
  },
  {
   "cell_type": "markdown",
   "id": "ba33d6ce",
   "metadata": {},
   "source": [
    "## Question 9 — Split Year‑Month Column"
   ]
  },
  {
   "cell_type": "markdown",
   "id": "f164971d",
   "metadata": {},
   "source": [
    "Split year_month into separate year and month columns, then pivot to show total sales by month (columns) for each year."
   ]
  },
  {
   "cell_type": "code",
   "execution_count": null,
   "id": "525a972c",
   "metadata": {},
   "outputs": [],
   "source": [
    "np.random.seed(8)\n",
    "df = pd.DataFrame({\n",
    "    'year_month': ['2025-01','2025-02','2025-01','2025-02'],\n",
    "    'sales': np.random.randint(100,200,4)\n",
    "})\n",
    "df\n",
    "\n",
    "df[['year', 'month']] = df['year_month'].str.split('-', expand=True)\n",
    "df_pivot = df.pivot_table(index='year', columns='month', values='sales', aggfunc='sum')\n",
    "df_pivot"
   ]
  },
  {
   "cell_type": "markdown",
   "id": "3762a02d",
   "metadata": {},
   "source": [
    "<details><summary><strong>Show Solution</strong></summary>\n",
    "\n",
    "```python\n",
    "df[['year','month']] = df['year_month'].str.split('-', expand=True)\n",
    "df.pivot_table(index='year', columns='month', values='sales', aggfunc='sum')\n",
    "```\n",
    "\n",
    "</details>"
   ]
  },
  {
   "cell_type": "markdown",
   "id": "8e6cbdc6",
   "metadata": {},
   "source": [
    "## Question 10 — Trim Whitespace Categories"
   ]
  },
  {
   "cell_type": "markdown",
   "id": "b0d5b4d3",
   "metadata": {},
   "source": [
    "Strip whitespace in 'team ' column, then average score per team."
   ]
  },
  {
   "cell_type": "code",
   "execution_count": null,
   "id": "f17e0bfd",
   "metadata": {},
   "outputs": [],
   "source": [
    "np.random.seed(9)\n",
    "df = pd.DataFrame({\n",
    "    'team ': [' Red','Blue ',' Red','Blue '],\n",
    "    'score': np.random.randint(10,30,4)\n",
    "})\n",
    "df\n",
    "\n",
    "df = df.rename(columns={'team ': 'team', 'score': 'score'})\n",
    "df['team'] = df['team'].str.strip()\n",
    "df_pivot = df.pivot_table(index='team', values='score', aggfunc='mean')\n",
    "df_pivot"
   ]
  },
  {
   "cell_type": "markdown",
   "id": "d01071b5",
   "metadata": {},
   "source": [
    "<details><summary><strong>Show Solution</strong></summary>\n",
    "\n",
    "```python\n",
    "df['team '] = df['team '].str.strip()\n",
    "df.pivot_table(index='team ', values='score', aggfunc='mean')\n",
    "```\n",
    "\n",
    "</details>"
   ]
  },
  {
   "cell_type": "markdown",
   "id": "ec46e78d",
   "metadata": {},
   "source": [
    "## Question 11 — Duplicate Keys Needing Aggregation"
   ]
  },
  {
   "cell_type": "markdown",
   "id": "e250f437",
   "metadata": {},
   "source": [
    "Create a pivot table of **total revenue** per date with products as columns."
   ]
  },
  {
   "cell_type": "code",
   "execution_count": null,
   "id": "4361cf1d",
   "metadata": {},
   "outputs": [],
   "source": [
    "np.random.seed(10)\n",
    "df = pd.DataFrame({\n",
    "    'date': pd.date_range('2025-01-01', periods=6, freq='D').repeat(2),\n",
    "    'product': ['A','B']*6,\n",
    "    'revenue': np.random.randint(50,150,12)\n",
    "})\n",
    "df.head()\n",
    "\n",
    "df_pivot = df.pivot_table(index='date', columns='product', values='revenue', aggfunc='sum')\n",
    "df_pivot"
   ]
  },
  {
   "cell_type": "markdown",
   "id": "7fc22782",
   "metadata": {},
   "source": [
    "<details><summary><strong>Show Solution</strong></summary>\n",
    "\n",
    "```python\n",
    "df.pivot_table(index='date', columns='product', values='revenue', aggfunc='sum')\n",
    "```\n",
    "\n",
    "</details>"
   ]
  },
  {
   "cell_type": "markdown",
   "id": "2b9c23b9",
   "metadata": {},
   "source": [
    "## Question 12 — Mean & Std in Same Pivot"
   ]
  },
  {
   "cell_type": "markdown",
   "id": "cbe7bd1b",
   "metadata": {},
   "source": [
    "Produce pivot with both mean and std of measure for each group."
   ]
  },
  {
   "cell_type": "code",
   "execution_count": null,
   "id": "0d648fea",
   "metadata": {},
   "outputs": [],
   "source": [
    "np.random.seed(11)\n",
    "df = pd.DataFrame({\n",
    "    'group': np.random.choice(['G1','G2'], 30),\n",
    "    'measure': np.random.normal(0,1,30)\n",
    "})\n",
    "df.head()\n",
    "\n",
    "df_pivot = df.pivot_table(index='group', values='measure', aggfunc=['mean', 'std'])\n",
    "df_pivot"
   ]
  },
  {
   "cell_type": "markdown",
   "id": "723379f3",
   "metadata": {},
   "source": [
    "<details><summary><strong>Show Solution</strong></summary>\n",
    "\n",
    "```python\n",
    "df.pivot_table(index='group', values='measure', aggfunc=['mean','std'])\n",
    "```\n",
    "\n",
    "</details>"
   ]
  },
  {
   "cell_type": "markdown",
   "id": "19a3a388",
   "metadata": {},
   "source": [
    "## Question 13 — Remove Duplicates Before Pivot"
   ]
  },
  {
   "cell_type": "markdown",
   "id": "347500fc",
   "metadata": {},
   "source": [
    "Keep only the latest status per id (keep first occurrence), then pivot status as columns and value as values."
   ]
  },
  {
   "cell_type": "code",
   "execution_count": null,
   "id": "542adb83",
   "metadata": {},
   "outputs": [],
   "source": [
    "np.random.seed(12)\n",
    "df = pd.DataFrame({\n",
    "    'id': np.r_[np.arange(1,6), np.arange(1,6)],\n",
    "    'status': ['new','old']*5,\n",
    "    'value': np.random.randint(1,100,10)\n",
    "})\n",
    "df\n",
    "\n",
    "df_noduplicates = df.drop_duplicates(subset='id', keep='first')\n",
    "df_pivot = df_noduplicates.pivot(index='id', columns='status', values='value')\n",
    "df_pivot"
   ]
  },
  {
   "cell_type": "markdown",
   "id": "6657f0f0",
   "metadata": {},
   "source": [
    "<details><summary><strong>Show Solution</strong></summary>\n",
    "\n",
    "```python\n",
    "latest = df.drop_duplicates('id', keep='first')\n",
    "latest.pivot(index='id', columns='status', values='value')\n",
    "```\n",
    "\n",
    "</details>"
   ]
  },
  {
   "cell_type": "markdown",
   "id": "7e3a6000",
   "metadata": {},
   "source": [
    "## Question 14 — Monthly Sales Trend"
   ]
  },
  {
   "cell_type": "markdown",
   "id": "a72b0d8e",
   "metadata": {},
   "source": [
    "Convert 'date' to datetime, extract month, then sum sales per month."
   ]
  },
  {
   "cell_type": "code",
   "execution_count": null,
   "id": "b787411e",
   "metadata": {},
   "outputs": [],
   "source": [
    "np.random.seed(13)\n",
    "dates = pd.date_range('2025-01-01','2025-06-30', freq='D')\n",
    "df = pd.DataFrame({\n",
    "    'date': np.random.choice(dates, 100),\n",
    "    'sales': np.random.randint(20,80,100)\n",
    "})\n",
    "df.head()\n",
    "\n",
    "df['month'] = pd.to_datetime(df['date']).dt.month\n",
    "df_pivot = df.pivot_table(index='month', values='sales', aggfunc='sum')\n",
    "df_pivot"
   ]
  },
  {
   "cell_type": "markdown",
   "id": "28d61cf7",
   "metadata": {},
   "source": [
    "<details><summary><strong>Show Solution</strong></summary>\n",
    "\n",
    "```python\n",
    "df['month'] = pd.to_datetime(df['date']).dt.to_period('M')\n",
    "df.pivot_table(index='month', values='sales', aggfunc='sum')\n",
    "```\n",
    "\n",
    "</details>"
   ]
  },
  {
   "cell_type": "markdown",
   "id": "377fae1f",
   "metadata": {},
   "source": [
    "## Question 15 — Sensor Readings Wide to Long"
   ]
  },
  {
   "cell_type": "markdown",
   "id": "f38b540a",
   "metadata": {},
   "source": [
    "Melt to long form with columns timestamp, sensor, reading."
   ]
  },
  {
   "cell_type": "code",
   "execution_count": null,
   "id": "9c1b8e77",
   "metadata": {},
   "outputs": [],
   "source": [
    "np.random.seed(14)\n",
    "df = pd.DataFrame({\n",
    "    'timestamp': pd.date_range('2025-07-15 00:00', periods=5, freq='h'),\n",
    "    'sensorA': np.random.rand(5),\n",
    "    'sensorB': np.random.rand(5)\n",
    "})\n",
    "df\n",
    "\n",
    "\n",
    "df_long = df.melt(id_vars='timestamp', value_name='reading', var_name='sensor')\n",
    "df_long"
   ]
  },
  {
   "cell_type": "markdown",
   "id": "1acb9a93",
   "metadata": {},
   "source": [
    "<details><summary><strong>Show Solution</strong></summary>\n",
    "\n",
    "```python\n",
    "df_long = df.melt(id_vars='timestamp', var_name='sensor', value_name='reading')\n",
    "```\n",
    "\n",
    "</details>"
   ]
  },
  {
   "cell_type": "markdown",
   "id": "715071f8",
   "metadata": {},
   "source": [
    "## Question 16 — Compute Conversion Rate"
   ]
  },
  {
   "cell_type": "markdown",
   "id": "d692f2aa",
   "metadata": {},
   "source": [
    "Pivot to compute **conversion rate** (mean of converted) per campaign."
   ]
  },
  {
   "cell_type": "code",
   "execution_count": null,
   "id": "3757bd81",
   "metadata": {},
   "outputs": [],
   "source": [
    "np.random.seed(15)\n",
    "df = pd.DataFrame({\n",
    "    'campaign': np.random.choice(['Email','Ads'], 50),\n",
    "    'converted': np.random.choice([0,1], 50)\n",
    "})\n",
    "df.head()\n",
    "\n",
    "df_pivot = df.pivot_table(index='campaign', values='converted', aggfunc='mean')\n",
    "df_pivot"
   ]
  },
  {
   "cell_type": "markdown",
   "id": "0d1d919b",
   "metadata": {},
   "source": [
    "<details><summary><strong>Show Solution</strong></summary>\n",
    "\n",
    "```python\n",
    "df.pivot_table(index='campaign', values='converted', aggfunc='mean')\n",
    "```\n",
    "\n",
    "</details>"
   ]
  },
  {
   "cell_type": "markdown",
   "id": "f9d8c856",
   "metadata": {},
   "source": [
    "## Question 17 — Split Category/Subcategory"
   ]
  },
  {
   "cell_type": "markdown",
   "id": "a9642ebe",
   "metadata": {},
   "source": [
    "Separate cat_sub into cat and sub, then sum qty with cat rows and sub columns."
   ]
  },
  {
   "cell_type": "code",
   "execution_count": null,
   "id": "4c29a0b2",
   "metadata": {},
   "outputs": [],
   "source": [
    "np.random.seed(16)\n",
    "df = pd.DataFrame({\n",
    "    'cat_sub': ['A_X','A_Y','B_X','B_Y']*5,\n",
    "    'qty': np.random.randint(1,5,20)\n",
    "})\n",
    "df.head()\n",
    "\n",
    "df[['category', 'subcategory']] = df['cat_sub'].str.split('_', expand=True)\n",
    "df_pivot = df.pivot_table(index='category', columns='subcategory', values='qty', aggfunc='sum')\n",
    "df_pivot\n"
   ]
  },
  {
   "cell_type": "markdown",
   "id": "caf1aff0",
   "metadata": {},
   "source": [
    "<details><summary><strong>Show Solution</strong></summary>\n",
    "\n",
    "```python\n",
    "df[['cat','sub']] = df['cat_sub'].str.split('_', expand=True)\n",
    "df.pivot_table(index='cat', columns='sub', values='qty', aggfunc='sum')\n",
    "```\n",
    "\n",
    "</details>"
   ]
  },
  {
   "cell_type": "markdown",
   "id": "823825d2",
   "metadata": {},
   "source": [
    "## Question 18 — Ordered Categories in Pivot"
   ]
  },
  {
   "cell_type": "markdown",
   "id": "5e725c50",
   "metadata": {},
   "source": [
    "Set 'priority' as categorical ordered low<medium<high, then count tickets per priority (rows)."
   ]
  },
  {
   "cell_type": "code",
   "execution_count": null,
   "id": "48b24bdb",
   "metadata": {},
   "outputs": [],
   "source": [
    "np.random.seed(17)\n",
    "df = pd.DataFrame({\n",
    "    'priority': np.random.choice(['low','medium','high'], 30),\n",
    "    'tickets': 1\n",
    "})\n",
    "df.head()\n",
    "\n",
    "df['priority'] = pd.Categorical(df['priority'], categories=['low', 'medium', 'high'], ordered=True)\n",
    "df_pivot = df.pivot_table(index='priority', values='tickets', aggfunc='sum')\n",
    "df_pivot"
   ]
  },
  {
   "cell_type": "markdown",
   "id": "39d15fcc",
   "metadata": {},
   "source": [
    "<details><summary><strong>Show Solution</strong></summary>\n",
    "\n",
    "```python\n",
    "df['priority'] = pd.Categorical(df['priority'], categories=['low','medium','high'], ordered=True)\n",
    "df.pivot_table(index='priority', values='tickets', aggfunc='count').sort_index()\n",
    "```\n",
    "\n",
    "</details>"
   ]
  },
  {
   "cell_type": "markdown",
   "id": "442b8c10",
   "metadata": {},
   "source": [
    "## Question 19 — Value Vars Melt Then Pivot"
   ]
  },
  {
   "cell_type": "markdown",
   "id": "b6d196d0",
   "metadata": {},
   "source": [
    "Melt height and weight into long, then compute average of each measure."
   ]
  },
  {
   "cell_type": "code",
   "execution_count": null,
   "id": "2dfeb1c3",
   "metadata": {},
   "outputs": [],
   "source": [
    "np.random.seed(18)\n",
    "df = pd.DataFrame({\n",
    "    'id': range(1,6),\n",
    "    'height_cm': np.random.randint(150,190,5),\n",
    "    'weight_kg': np.random.randint(50,90,5)\n",
    "})\n",
    "df\n",
    "\n",
    "df_long = df.melt(id_vars='id', value_name='value', var_name='measure')\n",
    "df_pivot = df_long.pivot_table(index='measure', values='value', aggfunc='mean')\n",
    "df_pivot"
   ]
  },
  {
   "cell_type": "markdown",
   "id": "4524b520",
   "metadata": {},
   "source": [
    "<details><summary><strong>Show Solution</strong></summary>\n",
    "\n",
    "```python\n",
    "long = df.melt(id_vars='id', var_name='measure', value_name='value')\n",
    "long.pivot_table(index='measure', values='value', aggfunc='mean')\n",
    "```\n",
    "\n",
    "</details>"
   ]
  },
  {
   "cell_type": "markdown",
   "id": "42b730a8",
   "metadata": {},
   "source": [
    "## Question 20 — Outlier Filter Then Multi‑Metric Pivot"
   ]
  },
  {
   "cell_type": "markdown",
   "id": "cf4b263d",
   "metadata": {},
   "source": [
    "Filter out profits > 180, then compute mean & std profit per branch."
   ]
  },
  {
   "cell_type": "code",
   "execution_count": null,
   "id": "c3776102",
   "metadata": {},
   "outputs": [],
   "source": [
    "np.random.seed(19)\n",
    "df = pd.DataFrame({\n",
    "    'branch': np.random.choice(['East','West'], 100),\n",
    "    'profit': np.random.normal(100,20,100)\n",
    "})\n",
    "# add outliers\n",
    "df.loc[np.random.choice(df.index, 5, replace=False),'profit'] += 200\n",
    "df.head()\n",
    "\n",
    "df_nooutliers = df[df['profit'] <= 180]\n",
    "df_pivot = df_nooutliers.pivot_table(index='branch', values='profit', aggfunc=['mean', 'std'])\n",
    "df_pivot"
   ]
  },
  {
   "cell_type": "markdown",
   "id": "76266975",
   "metadata": {},
   "source": [
    "<details><summary><strong>Show Solution</strong></summary>\n",
    "\n",
    "```python\n",
    "clean = df[df['profit']<=180]\n",
    "clean.pivot_table(index='branch', values='profit', aggfunc=['mean','std'])\n",
    "```\n",
    "\n",
    "</details>"
   ]
  },
  {
   "cell_type": "markdown",
   "id": "21b5c20e",
   "metadata": {},
   "source": [
    "## Question 21: End‑to‑End Tidy Data & Exploratory Analysis\n",
    "\n",
    "**Objective:**  \n",
    "Practice the full workflow of acquiring real data, cleaning it into tidy form, performing exploratory visualizations, and communicating your first impressions.\n",
    "\n",
    "---\n",
    "\n",
    "### 1. Data Acquisition\n",
    "\n",
    "1. **Choose a dataset**  \n",
    "   - Find any publicly‑available CSV file online (e.g. Kaggle, UCI Machine Learning Repository, data.gov).  \n",
    "2. **Download the file**  \n",
    "   - Save it into your project folder as `data/your_dataset.csv`.  \n",
    "   - Note the source URL and a brief description (what it measures, number of rows, columns).\n",
    "\n",
    "---\n",
    "\n",
    "### 2. Loading & Initial Inspection\n",
    "\n",
    "1. **Import pandas**  \n",
    "   - import pandas as pd  \n",
    "2. **Read the CSV**  \n",
    "   - df = pd.read_csv(\"data/your_dataset.csv\")  \n",
    "3. **Peek at the data**  \n",
    "   - df.head()  \n",
    "   - df.info()  \n",
    "   - df.describe()\n",
    "\n",
    "---\n",
    "\n",
    "### 3. Tidying the Data\n",
    "\n",
    "Follow the tidy‑data principles: one variable per column, one observation per row, one value per cell.\n",
    "\n",
    "1. **Identify issues**  \n",
    "   - Are there multiple measures in one column?  \n",
    "   - Are columns encoding two variables (e.g. `2019_sales` and `2020_sales`)?  \n",
    "   - Are any column names unclear or inconsistent?  \n",
    "2. **Reshape as needed**  \n",
    "   - Melt wide → long: df_long = df.melt(id_vars=[…], var_name=\"variable\", value_name=\"value\")  \n",
    "   - Pivot long → wide: df_wide = df_long.pivot(index=[…], columns=\"variable\", values=\"value\")  \n",
    "3. **Rename & convert**  \n",
    "   - Standardize column names.  \n",
    "   - Convert data types: df[\"date\"] = pd.to_datetime(df[\"date\"]), df[\"category\"] = df[\"category\"].astype(\"category\")  \n",
    "4. **Handle missing or duplicate data**  \n",
    "   - Drop or impute missing values as appropriate.  \n",
    "   - Remove exact duplicate rows: df = df.drop_duplicates()\n",
    "\n",
    "---\n",
    "\n",
    "### 4. Exploratory Data Analysis (EDA)\n",
    "\n",
    "Create at least **three** different plots to understand structure or patterns. Examples:\n",
    "\n",
    "- **Univariate distribution:** histogram or density plot of a numeric variable  \n",
    "- **Bivariate relationship:** scatterplot of two continuous variables; boxplot or violin plot grouped by category  \n",
    "- **Time series or trend:** line plot over time (if applicable)  \n",
    "- **Categorical counts (optional):** bar chart of categorical frequencies  \n",
    "\n",
    "Be sure to label axes, add titles, and choose sensible figure sizes.\n",
    "\n",
    "---\n",
    "\n",
    "### 5. Insights & Interpretation\n",
    "\n",
    "Write **1–2 clear sentences** describing the most interesting pattern(s).  \n",
    "Examples:  \n",
    "- “Sales peak in Q4 each year, suggesting a strong holiday effect.”  \n",
    "- “Advertising spend and website visits show a strong positive correlation (r ≈ 0.7).”\n",
    "\n",
    "\n",
    "Challenge: how can you ensure that any one is able to download this data and make sure they get the same exact answer as you?\n",
    "\n",
    "\n"
   ]
  },
  {
   "cell_type": "code",
   "execution_count": null,
   "id": "6b148354",
   "metadata": {},
   "outputs": [],
   "source": [
    "import pandas as pd\n",
    "import numpy as np\n",
    "\n",
    "df = pd.read_csv('Netflix_stock_data.csv')\n",
    "print('---------- HEAD ----------')\n",
    "print(df.head())\n",
    "print('---------- INFO ----------')\n",
    "print(df.info())\n",
    "print('---------- DESC ----------')\n",
    "print(df.describe())"
   ]
  },
  {
   "cell_type": "code",
   "execution_count": null,
   "id": "c81e7e66",
   "metadata": {},
   "outputs": [],
   "source": [
    "df['Date'] = pd.to_datetime(df['Date'])\n",
    "df[['Close', 'High', 'Low', 'Open']] = df[['Close', 'High', 'Low', 'Open']].astype(float)\n",
    "df['Volume'] = df['Volume'].astype(int)\n"
   ]
  },
  {
   "cell_type": "code",
   "execution_count": null,
   "id": "08457295",
   "metadata": {},
   "outputs": [],
   "source": [
    "df_recent = df[df['Date'] >= '2020-01-01'].copy()"
   ]
  },
  {
   "cell_type": "code",
   "execution_count": null,
   "id": "29cbc732",
   "metadata": {},
   "outputs": [],
   "source": [
    "import matplotlib.dates as mdates\n",
    "import seaborn as sns\n",
    "import matplotlib.pyplot as plt\n",
    "\n",
    "fig, [ax1, ax2, ax3] = plt.subplots(3, 1, figsize=(12, 20))\n",
    "\n",
    "ax1.plot(df_recent['Date'], df_recent['Close'])\n",
    "ax1.set_xlabel('Date', fontsize=16)\n",
    "ax1.set_ylabel('Close Price', fontsize=16)\n",
    "ax1.set_title('NFLX Close Price', fontsize=18)\n",
    "ax1.xaxis.set_major_locator(mdates.YearLocator())\n",
    "ax1.xaxis.set_major_formatter(mdates.DateFormatter('%Y'))\n",
    "\n",
    "ax2.plot(df_recent['Date'], df_recent['High'] - df_recent['Low'])\n",
    "ax2.set_xlabel('Date', fontsize=16)\n",
    "ax2.set_ylabel('High/Low Difference', fontsize=16)\n",
    "ax2.set_title('High/Low Difference', fontsize=18)\n",
    "ax2.xaxis.set_major_locator(mdates.YearLocator())\n",
    "ax2.xaxis.set_major_formatter(mdates.DateFormatter('%Y'))\n",
    "\n",
    "ax3.plot(df_recent['Date'], df_recent['Volume'].apply(lambda x : np.log10(x)))\n",
    "ax3.set_xlabel('Date', fontsize=16)\n",
    "ax3.set_ylabel('Volume (log 10)', fontsize=16)\n",
    "ax3.set_title('Trading Volume over time (log scale)', fontsize=18)\n",
    "ax3.xaxis.set_major_locator(mdates.YearLocator())\n",
    "ax3.xaxis.set_major_formatter(mdates.DateFormatter('%Y'))\n",
    "\n",
    "plt.xticks(rotation=45)\n",
    "plt.show()\n"
   ]
  },
  {
   "cell_type": "code",
   "execution_count": null,
   "id": "c4536279",
   "metadata": {},
   "outputs": [],
   "source": [
    "df_recent['Month'] = df_recent['Date'].dt.month\n",
    "df_recent['LogVolume'] = df_recent['Volume'].apply(lambda x: np.log10(x))\n",
    "pivot_table = df_recent.pivot_table(index='Month', values=['High', 'Low', 'Open', 'Close', 'LogVolume'], aggfunc='mean')\n",
    "pivot_table\n",
    "\n",
    "graph = sns.lineplot(pivot_table, x='Month', y='LogVolume')\n",
    "graph.set_xticks(range(1, 13))\n"
   ]
  },
  {
   "cell_type": "markdown",
   "id": "f7901292",
   "metadata": {},
   "source": [
    "From 2020 through 2025, trading volume peaked most frequently in January, as well as in April, October, and July."
   ]
  }
 ],
 "metadata": {
  "kernelspec": {
   "display_name": "base",
   "language": "python",
   "name": "python3"
  },
  "language_info": {
   "codemirror_mode": {
    "name": "ipython",
    "version": 3
   },
   "file_extension": ".py",
   "mimetype": "text/x-python",
   "name": "python",
   "nbconvert_exporter": "python",
   "pygments_lexer": "ipython3",
   "version": "3.13.5"
  }
 },
 "nbformat": 4,
 "nbformat_minor": 5
}
