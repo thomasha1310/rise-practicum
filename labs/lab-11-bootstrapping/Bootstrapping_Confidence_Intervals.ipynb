{
 "cells": [
  {
   "cell_type": "markdown",
   "metadata": {},
   "source": [
    "# Example 1: Bootstrap CI for the MEAN of an exponential distribution"
   ]
  },
  {
   "cell_type": "code",
   "execution_count": null,
   "metadata": {},
   "outputs": [],
   "source": [
    "import numpy as np\n",
    "\n",
    "def bootstrap_ci(data, stat_func, n_boot=2000, alpha=0.05):\n",
    "    \"\"\"\n",
    "    Compute a non-parametric bootstrap CI for a statistic.\n",
    "    data      : 1D array of observations\n",
    "    stat_func : function to compute the statistic (e.g., np.mean)\n",
    "    n_boot    : number of bootstrap replicates\n",
    "    alpha     : significance level for (1-alpha) CI\n",
    "    \"\"\"\n",
    "    boots = []\n",
    "    n = len(data)\n",
    "    for _ in range(n_boot):\n",
    "        sample = np.random.choice(data, size=n, replace=True)  # resample with replacement\n",
    "        boots.append(stat_func(sample))\n",
    "    lower = np.percentile(boots, 100 * alpha/2)\n",
    "    upper = np.percentile(boots, 100 * (1 - alpha/2))\n",
    "    return lower, upper, boots"
   ]
  },
  {
   "cell_type": "code",
   "execution_count": null,
   "metadata": {},
   "outputs": [],
   "source": [
    "import numpy as np\n",
    "import matplotlib.pyplot as plt\n",
    "\n",
    "# -----------------------------------------------\n",
    "# 1. Simulate a skewed dataset (Exponential)\n",
    "# -----------------------------------------------\n",
    "np.random.seed(42)  \n",
    "data = np.random.exponential(scale=5, size=100)\n",
    "\n",
    "# Plot original data distribution\n",
    "plt.figure()\n",
    "plt.hist(data, bins=20)\n",
    "plt.title(\"Original Data Distribution (Exponential)\")\n",
    "plt.xlabel(\"Value\")\n",
    "plt.ylabel(\"Frequency\")\n",
    "plt.show()\n",
    "\n",
    "\n"
   ]
  },
  {
   "cell_type": "code",
   "execution_count": null,
   "metadata": {},
   "outputs": [],
   "source": [
    "np.mean(data)"
   ]
  },
  {
   "cell_type": "code",
   "execution_count": null,
   "metadata": {},
   "outputs": [],
   "source": [
    "# ---------------------------------------------------\n",
    "# 2. Generate and plot several bootstrap samples\n",
    "# ---------------------------------------------------\n",
    "n_boot_samples = 3\n",
    "sample_size = len(data)\n",
    "\n",
    "for i in range(1, n_boot_samples + 1):\n",
    "    # Resample with replacement\n",
    "    sample = np.random.choice(data, size=sample_size, replace=True)\n",
    "    plt.figure()\n",
    "    plt.hist(sample, bins=20)\n",
    "    plt.title(f\"Bootstrap Sample {i}\")\n",
    "    plt.xlabel(\"Value\")\n",
    "    plt.ylabel(\"Frequency\")\n",
    "    plt.show()\n"
   ]
  },
  {
   "cell_type": "code",
   "execution_count": null,
   "metadata": {},
   "outputs": [],
   "source": [
    "\n",
    "# ---------------------------------------------------\n",
    "# 3. Build full bootstrap distribution of the mean\n",
    "# ---------------------------------------------------\n",
    "n_replicates = 2000\n",
    "boots = []\n",
    "for _ in range(n_replicates):\n",
    "    # Resample and compute the statistic (mean)\n",
    "    sample = np.random.choice(data, size=sample_size, replace=True)\n",
    "    boots.append(np.mean(sample))\n",
    "\n",
    "# Compute 95% CI bounds\n",
    "lower = np.percentile(boots, 2.5)\n",
    "upper = np.percentile(boots, 97.5)\n",
    "obs_mean = np.mean(data)\n",
    "\n",
    "# Plot the bootstrap distribution of means with CI\n",
    "plt.figure()\n",
    "plt.hist(boots, bins=30)\n",
    "plt.axvline(lower, linestyle='--', label=f\"2.5th percentile ({lower:.2f})\")\n",
    "plt.axvline(upper, linestyle='--', label=f\"97.5th percentile ({upper:.2f})\")\n",
    "plt.axvline(obs_mean, linestyle='-', label=f\"Original mean ({obs_mean:.2f})\")\n",
    "plt.title(\"Bootstrap Distribution of Sample Mean with 95% CI\")\n",
    "plt.xlabel(\"Bootstrap Means\")\n",
    "plt.ylabel(\"Frequency\")\n",
    "plt.legend()\n",
    "plt.show()"
   ]
  },
  {
   "cell_type": "markdown",
   "metadata": {},
   "source": [
    "# Example 2: Bootstrap CI for the MEDIAN of a skewed (Exponential) distribution"
   ]
  },
  {
   "cell_type": "code",
   "execution_count": null,
   "metadata": {},
   "outputs": [],
   "source": [
    "np.random.seed(1)\n",
    "# Simulate 100 observations from an Exponential distribution (scale=5)\n",
    "data2 = np.random.exponential(scale=5, size=100)\n",
    "\n",
    "median2 = np.median(data2)\n",
    "ci2 = bootstrap_ci(data2, np.median)\n",
    "print(f\"Example 2 - Sample median: {median2:.2f}\")\n",
    "print(f\"Example 2 - 95% bootstrap CI for median: ({ci2[0]:.2f}, {ci2[1]:.2f})\\n\")"
   ]
  },
  {
   "cell_type": "markdown",
   "metadata": {},
   "source": [
    "# Example 3: Bootstrap CI for a PROPORTION (Bernoulli data)"
   ]
  },
  {
   "cell_type": "code",
   "execution_count": null,
   "metadata": {},
   "outputs": [],
   "source": [
    "\n",
    "np.random.seed(2)\n",
    "# Simulate 100 binary outcomes with p=0.3\n",
    "data3 = np.random.binomial(n=1, p=0.3, size=100)\n",
    "\n",
    "prop3 = np.mean(data3)\n",
    "ci3 = bootstrap_ci(data3, np.mean)\n",
    "print(f\"Example 3 - Sample proportion: {prop3:.2f}\")\n",
    "print(f\"Example 3 - 95% bootstrap CI for proportion: ({ci3[0]:.2f}, {ci3[1]:.2f})\\n\")"
   ]
  },
  {
   "cell_type": "markdown",
   "metadata": {},
   "source": [
    "# Example 4: Bootstrap CI for the DIFFERENCE IN MEANS between two independent groups\n"
   ]
  },
  {
   "cell_type": "code",
   "execution_count": null,
   "metadata": {},
   "outputs": [],
   "source": [
    "np.random.seed(3)\n",
    "# Group A: n=50, mean=5, sd=2; Group B: n=60, mean=7, sd=2.5\n",
    "groupA = np.random.normal(loc=5, scale=2, size=50)\n",
    "groupB = np.random.normal(loc=7, scale=2.5, size=60)\n",
    "\n",
    "obs_diff = np.mean(groupA) - np.mean(groupB)\n",
    "\n",
    "# Perform bootstrap: resample each group separately each replicate\n",
    "boots_diff = []\n",
    "for _ in range(2000):\n",
    "    sampA = np.random.choice(groupA, size=len(groupA), replace=True)\n",
    "    sampB = np.random.choice(groupB, size=len(groupB), replace=True)\n",
    "    boots_diff.append(np.mean(sampA) - np.mean(sampB))\n",
    "\n",
    "ci4_lower = np.percentile(boots_diff, 2.5)\n",
    "ci4_upper = np.percentile(boots_diff, 97.5)\n",
    "print(f\"Example 4 - Observed mean difference (A - B): {obs_diff:.2f}\")\n",
    "print(f\"Example 4 - 95% bootstrap CI for difference: ({ci4_lower:.2f}, {ci4_upper:.2f})\\n\")"
   ]
  },
  {
   "cell_type": "markdown",
   "metadata": {},
   "source": [
    "## On your own:\n",
    "\n",
    "Below are five simulated data sets. In each one, you are asked to bootstrap a particular metric. Please generate 95% confidence intervals (two sided distribution) for each metric and interpret what the confidence interval tells you. "
   ]
  },
  {
   "cell_type": "code",
   "execution_count": null,
   "metadata": {},
   "outputs": [],
   "source": [
    "import numpy as np\n",
    "\n",
    "# Set a common sample size\n",
    "n = 100\n"
   ]
  },
  {
   "cell_type": "code",
   "execution_count": null,
   "metadata": {},
   "outputs": [],
   "source": [
    "# 1. 100 draws from a Normal(μ=50, σ=10) distribution.\n",
    "#    → Bootstrap the **sample mean**.\n",
    "np.random.seed(0)\n",
    "data1 = np.random.normal(loc=50, scale=10, size=n)"
   ]
  },
  {
   "cell_type": "code",
   "execution_count": null,
   "metadata": {},
   "outputs": [],
   "source": [
    "# 2. 100 draws from an Exponential(scale=5) (skewed) distribution.\n",
    "#    → Bootstrap the **sample median**.\n",
    "np.random.seed(1)\n",
    "data2 = np.random.exponential(scale=5, size=n)"
   ]
  },
  {
   "cell_type": "code",
   "execution_count": null,
   "metadata": {},
   "outputs": [],
   "source": [
    "# 3. 100 draws from a Uniform(0, 100) distribution.\n",
    "#    → Bootstrap the **90th percentile**.\n",
    "np.random.seed(2)\n",
    "data3 = np.random.uniform(low=0, high=100, size=n)"
   ]
  },
  {
   "cell_type": "code",
   "execution_count": null,
   "metadata": {},
   "outputs": [],
   "source": [
    "# 4. 100 Bernoulli trials with p=0.3 (0/1 data).\n",
    "#    → Bootstrap the **sample proportion** (mean of the 0/1’s).\n",
    "np.random.seed(3)\n",
    "data4 = np.random.binomial(n=1, p=0.3, size=n)"
   ]
  },
  {
   "cell_type": "code",
   "execution_count": null,
   "metadata": {},
   "outputs": [],
   "source": [
    "# 5. 100 draws from a heavy-tailed Student’s t (df=3).\n",
    "#    → Bootstrap the **sample standard deviation**.\n",
    "np.random.seed(4)\n",
    "data5 = np.random.standard_t(df=3, size=n)"
   ]
  },
  {
   "cell_type": "code",
   "execution_count": null,
   "metadata": {},
   "outputs": [],
   "source": [
    "stats = [\n",
    "    ('normal', np.mean),\n",
    "    ('exponential', np.median),\n",
    "    ('uniform', lambda x: np.percentile(x, 90)),\n",
    "    ('binomial', np.mean),\n",
    "    ('standard_t', np.std)\n",
    "]\n",
    "\n",
    "datasets = {\n",
    "    'normal': data1,\n",
    "    'exponential': data2,\n",
    "    'uniform': data3,\n",
    "    'binomial': data4,\n",
    "    'standard_t': data5\n",
    "}\n",
    "\n",
    "bootstraps = []\n",
    "for distribution, function in stats:\n",
    "    data = datasets[distribution]\n",
    "    observation = function(data)\n",
    "    lower, upper = bootstrap_ci(data, function)\n",
    "    bootstraps.append({\n",
    "        'dataset': distribution,\n",
    "        'statistic': function.__name__ if hasattr(function, '__name__') else '90th percentile',\n",
    "        'observed': observation,\n",
    "        'lower': lower,\n",
    "        'upper': upper\n",
    "    })\n",
    "\n",
    "bootstraps"
   ]
  },
  {
   "cell_type": "markdown",
   "metadata": {},
   "source": [
    "<details>\n",
    "<summary><strong>Instructor Solution</strong></summary>\n",
    "\n",
    "```python\n",
    "import numpy as np\n",
    "\n",
    "# Bootstrap function\n",
    "def bootstrap_ci(data, stat_func, n_boot=2000, alpha=0.05):\n",
    "    boots = []\n",
    "    n = len(data)\n",
    "    for _ in range(n_boot):\n",
    "        sample = np.random.choice(data, size=n, replace=True)\n",
    "        boots.append(stat_func(sample))\n",
    "    lower = np.percentile(boots, 100 * alpha/2)\n",
    "    upper = np.percentile(boots, 100 * (1 - alpha/2))\n",
    "    return np.mean(data) if stat_func == np.mean else stat_func(data), lower, upper\n",
    "\n",
    "# Simulations\n",
    "n = 100\n",
    "np.random.seed(0)\n",
    "data1 = np.random.normal(loc=50, scale=10, size=n)\n",
    "np.random.seed(1)\n",
    "data2 = np.random.exponential(scale=5, size=n)\n",
    "np.random.seed(2)\n",
    "data3 = np.random.uniform(low=0, high=100, size=n)\n",
    "np.random.seed(3)\n",
    "data4 = np.random.binomial(n=1, p=0.3, size=n)\n",
    "np.random.seed(4)\n",
    "data5 = np.random.standard_t(df=3, size=n)\n",
    "\n",
    "# Define statistics\n",
    "stats = [\n",
    "    (\"normal\", np.mean),\n",
    "    (\"exponential\", np.median),\n",
    "    (\"uniform\", lambda x: np.percentile(x, 90)),\n",
    "    (\"binomial\", np.mean),\n",
    "    (\"t_df3\", np.std),\n",
    "]\n",
    "\n",
    "datasets = {\n",
    "    \"normal\": data1,\n",
    "    \"exponential\": data2,\n",
    "    \"uniform\": data3,\n",
    "    \"binomial\": data4,\n",
    "    \"t_df3\": data5,\n",
    "}\n",
    "\n",
    "# Compute bootstrap CIs\n",
    "results = []\n",
    "for name, func in stats:\n",
    "    data = datasets[name]\n",
    "    obs = func(data)\n",
    "    _, lower, upper = bootstrap_ci(data, func)\n",
    "    results.append({\n",
    "        \"dataset\": name,\n",
    "        \"statistic\": func.__name__ if hasattr(func, '__name__') else \"percentile_90\",\n",
    "        \"observed\": obs,\n",
    "        \"ci_lower\": lower,\n",
    "        \"ci_upper\": upper\n",
    "    })\n",
    "\n",
    "results\n"
   ]
  },
  {
   "cell_type": "markdown",
   "metadata": {},
   "source": [
    "## Finally: find a new data set out in the real world, load it in, generate a histrogram, calculate the sample mean, and generate a 95% (two sided) boostrap confidence interval. Once you finish you can continue the MLE lab from July 17th or move on to your project work once you've finished. "
   ]
  },
  {
   "cell_type": "code",
   "execution_count": null,
   "metadata": {},
   "outputs": [],
   "source": [
    "import pandas as pd\n",
    "df = pd.read_csv('mbta_wait_times.csv')\n",
    "df_pre = df[df['period'] == 'PRE'].copy()\n",
    "data = np.array(df_pre['wait_min'])\n",
    "\n",
    "lower, upper, boots = bootstrap_ci(data, np.mean, 2000)\n",
    "obs_mean = np.mean(data)\n",
    "\n",
    "# Plot the bootstrap distribution of means with CI\n",
    "plt.figure()\n",
    "plt.hist(boots, bins=30)\n",
    "plt.axvline(lower, linestyle='--', label=f\"2.5th percentile ({lower:.2f})\")\n",
    "plt.axvline(upper, linestyle='--', label=f\"97.5th percentile ({upper:.2f})\")\n",
    "plt.axvline(obs_mean, linestyle='-', label=f\"Original mean ({obs_mean:.2f})\")\n",
    "plt.title(\"Bootstrap Distribution of Sample Mean with 95% CI\")\n",
    "plt.xlabel(\"Bootstrap Means\")\n",
    "plt.ylabel(\"Frequency\")\n",
    "plt.legend()\n",
    "plt.show()"
   ]
  }
 ],
 "metadata": {
  "kernelspec": {
   "display_name": "base",
   "language": "python",
   "name": "python3"
  },
  "language_info": {
   "codemirror_mode": {
    "name": "ipython",
    "version": 3
   },
   "file_extension": ".py",
   "mimetype": "text/x-python",
   "name": "python",
   "nbconvert_exporter": "python",
   "pygments_lexer": "ipython3",
   "version": "3.13.5"
  }
 },
 "nbformat": 4,
 "nbformat_minor": 2
}
