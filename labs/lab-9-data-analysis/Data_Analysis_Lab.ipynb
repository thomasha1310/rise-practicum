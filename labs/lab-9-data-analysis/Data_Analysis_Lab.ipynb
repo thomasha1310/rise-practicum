{
 "cells": [
  {
   "cell_type": "markdown",
   "id": "a75aee31",
   "metadata": {},
   "source": [
    "# Data Analysis Lab\n",
    "\n",
    "This dataset (`email_phishing_data.csv`) is from [Kaggle](https://www.kaggle.com/datasets/ethancratchley/email-phishing-dataset).\n",
    "\n",
    "The dataset contains roughly 500,000 data points, most of which are non-phishing/legitimate emails. The information provided includes:\n",
    "\n",
    "- `num_words`\n",
    "- `num_unique_words`\n",
    "- `num_stopwords`\n",
    "- `num_links`\n",
    "- `num_unique_domains`\n",
    "- `num_email_addresses`\n",
    "- `num_spelling_errors`\n",
    "- `num_urgent_keywords`\n",
    "- `label`\n",
    "\n",
    "The dataset does not include raw text or subject lines."
   ]
  },
  {
   "cell_type": "code",
   "execution_count": null,
   "id": "c1935f80",
   "metadata": {},
   "outputs": [],
   "source": [
    "import pandas as pd\n",
    "import numpy as np\n",
    "df = pd.read_csv('email_phishing_data.csv')\n",
    "df.head()"
   ]
  },
  {
   "cell_type": "code",
   "execution_count": null,
   "id": "5f684fc2",
   "metadata": {},
   "outputs": [],
   "source": [
    "df.info()\n",
    "df.describe()"
   ]
  },
  {
   "cell_type": "code",
   "execution_count": null,
   "id": "792e147a",
   "metadata": {},
   "outputs": [],
   "source": [
    "df = df.drop_duplicates()\n",
    "df = df.dropna()\n",
    "df.info()\n",
    "df.describe()"
   ]
  },
  {
   "cell_type": "code",
   "execution_count": null,
   "id": "c764d496",
   "metadata": {},
   "outputs": [],
   "source": [
    "import seaborn as sns\n",
    "import matplotlib.pyplot as plt"
   ]
  },
  {
   "cell_type": "code",
   "execution_count": null,
   "id": "1cb0fcbc",
   "metadata": {},
   "outputs": [],
   "source": [
    "phishing_count = (df['label'] == 1).sum()\n",
    "safe_count = (df['label'] == 0).sum()\n",
    "print(f\"Phishing: {phishing_count}\")\n",
    "print(f\"Safe:     {safe_count}\")"
   ]
  },
  {
   "cell_type": "code",
   "execution_count": null,
   "id": "28505b3b",
   "metadata": {},
   "outputs": [],
   "source": [
    "random_indices = df[df['label'] == 0].sample(n=192890, random_state=np.random.randint(1000000)).index\n",
    "df_randomfilter = df.drop(index=random_indices)\n",
    "df_randomfilter"
   ]
  },
  {
   "cell_type": "code",
   "execution_count": null,
   "id": "1ff2246c",
   "metadata": {},
   "outputs": [],
   "source": [
    "sns.histplot(df_randomfilter, x=np.log10(df_randomfilter['num_words']))\n",
    "sns.despine()\n",
    "plt.grid(visible=True, which='major', axis='y', linestyle='--')\n",
    "plt.xlabel('Word Count (log 10 scale)')\n",
    "plt.title('Histogram of Word Count (log 10 scale)', fontsize=16)\n",
    "plt.show()"
   ]
  },
  {
   "cell_type": "code",
   "execution_count": null,
   "id": "c8ca57a4",
   "metadata": {},
   "outputs": [],
   "source": [
    "df_malicious = df_randomfilter[df_randomfilter['label'] == 1]\n",
    "sns.histplot(df_randomfilter, x=np.log2(df_randomfilter['num_spelling_errors']), hue='label')\n",
    "plt.show()\n",
    "\n",
    "sns.histplot(df_randomfilter, x='num_urgent_keywords', hue='label')\n",
    "plt.show()\n"
   ]
  }
 ],
 "metadata": {
  "kernelspec": {
   "display_name": "base",
   "language": "python",
   "name": "python3"
  },
  "language_info": {
   "codemirror_mode": {
    "name": "ipython",
    "version": 3
   },
   "file_extension": ".py",
   "mimetype": "text/x-python",
   "name": "python",
   "nbconvert_exporter": "python",
   "pygments_lexer": "ipython3",
   "version": "3.13.5"
  }
 },
 "nbformat": 4,
 "nbformat_minor": 5
}
