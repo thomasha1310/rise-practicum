{
 "cells": [
  {
   "cell_type": "code",
   "execution_count": null,
   "id": "3b667a4f",
   "metadata": {},
   "outputs": [],
   "source": [
    "import pandas as pd\n",
    "import numpy as np\n",
    "import matplotlib.pyplot as plt"
   ]
  },
  {
   "cell_type": "code",
   "execution_count": null,
   "id": "5b04f29b",
   "metadata": {},
   "outputs": [],
   "source": [
    "df = pd.read_csv('data/dataset_5.csv')\n",
    "plt.figure(figsize=(6,4))\n",
    "plt.scatter(df['X'], df['Y'], alpha=0.7)\n",
    "plt.xlabel('X')\n",
    "plt.ylabel('Y')\n",
    "plt.title('Scatter plot of Y vs. X')\n",
    "plt.show()"
   ]
  },
  {
   "cell_type": "code",
   "execution_count": null,
   "id": "458c6907",
   "metadata": {},
   "outputs": [],
   "source": [
    "import statsmodels.api as sm\n",
    "\n",
    "X_sm = sm.add_constant(df['X'])       # add intercept\n",
    "model = sm.OLS(df['Y'], X_sm).fit()\n",
    "print(model.summary())"
   ]
  },
  {
   "cell_type": "code",
   "execution_count": null,
   "id": "86fe3568",
   "metadata": {},
   "outputs": [],
   "source": [
    "plt.figure(figsize=(6,4))\n",
    "plt.scatter(df['X'], df['Y'], alpha=0.7, label='Data')\n",
    "# Create a smooth line over the range of X\n",
    "x_vals = np.linspace(df['X'].min(), df['X'].max(), 100)\n",
    "y_vals = model.params['const'] + model.params['X'] * x_vals\n",
    "plt.plot(x_vals, y_vals, color='red', lw=2, label='OLS fit')\n",
    "plt.xlabel('X')\n",
    "plt.ylabel('Y')\n",
    "plt.title('Scatter of Y vs. X with OLS Regression Line')\n",
    "plt.legend()\n",
    "plt.show()"
   ]
  },
  {
   "cell_type": "code",
   "execution_count": null,
   "id": "221f4d05",
   "metadata": {},
   "outputs": [],
   "source": [
    "fig, axes = plt.subplots(1, 2, figsize=(12, 4))\n",
    "\n",
    "# Panel 1: residuals as vertical distances\n",
    "axes[0].scatter(df['X'], df['Y'], alpha=0.7, label='Data')\n",
    "axes[0].plot(x_vals, y_vals, color='red', lw=2, label='OLS fit')\n",
    "for xi, yi, fi in zip(df['X'], df['Y'], model.fittedvalues):\n",
    "    axes[0].vlines(xi, yi, fi, color='gray', alpha=0.5)\n",
    "axes[0].set_title('Residuals as Vertical Distance')\n",
    "axes[0].set_xlabel('X')\n",
    "axes[0].set_ylabel('Y')\n",
    "axes[0].legend()\n",
    "\n",
    "# Panel 2: classic residuals vs. fitted plot\n",
    "axes[1].scatter(model.fittedvalues, model.resid, alpha=0.7)\n",
    "axes[1].axhline(0, color='red', lw=1)\n",
    "axes[1].set_title('Residuals vs. Fitted')\n",
    "axes[1].set_xlabel('Fitted values')\n",
    "axes[1].set_ylabel('Residuals')\n",
    "\n",
    "plt.tight_layout()\n",
    "plt.show()\n"
   ]
  },
  {
   "cell_type": "code",
   "execution_count": null,
   "id": "ba250a8d",
   "metadata": {},
   "outputs": [],
   "source": [
    "fig, ax = plt.subplots(1, 1, figsize=(6, 4))\n",
    "sm.qqplot(model.resid, line='45', fit=True, ax=ax, alpha=0.7)\n",
    "plt.show()\n"
   ]
  },
  {
   "cell_type": "code",
   "execution_count": null,
   "id": "63a26de2",
   "metadata": {},
   "outputs": [],
   "source": [
    "n_boot = 1000\n",
    "boot_params = np.zeros((n_boot, 2))   # columns: [intercept, slope]\n",
    "\n",
    "for i in range(n_boot):\n",
    "    idx = np.random.choice(df.index, size=n_boot, replace=True)\n",
    "    Xb  = sm.add_constant(df.loc[idx, 'X'])\n",
    "    yb  = df.loc[idx, 'Y']\n",
    "    res = sm.OLS(yb, Xb).fit()\n",
    "    boot_params[i] = res.params.values\n",
    "\n",
    "ci_int = np.percentile(boot_params[:,0], [2.5, 97.5])\n",
    "ci_slope = np.percentile(boot_params[:,1], [2.5, 97.5])\n",
    "\n",
    "print(f\"95% CI for intercept: {ci_int}\")\n",
    "print(f\"95% CI for slope:     {ci_slope}\")\n"
   ]
  },
  {
   "cell_type": "code",
   "execution_count": null,
   "id": "9d926cc8",
   "metadata": {},
   "outputs": [],
   "source": [
    "if ci_slope[0] < 0 and ci_slope[1] > 0:\n",
    "    print(\"95% CI for slope includes 0. No association concluded.\")\n",
    "else:\n",
    "    print(\"95% CI for slope does not include 0. There is an association.\")"
   ]
  }
 ],
 "metadata": {
  "kernelspec": {
   "display_name": "base",
   "language": "python",
   "name": "python3"
  },
  "language_info": {
   "codemirror_mode": {
    "name": "ipython",
    "version": 3
   },
   "file_extension": ".py",
   "mimetype": "text/x-python",
   "name": "python",
   "nbconvert_exporter": "python",
   "pygments_lexer": "ipython3",
   "version": "3.13.5"
  }
 },
 "nbformat": 4,
 "nbformat_minor": 5
}
