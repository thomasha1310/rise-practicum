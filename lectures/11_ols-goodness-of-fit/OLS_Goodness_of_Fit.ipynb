{
  "cells": [
    {
      "cell_type": "code",
      "execution_count": null,
      "metadata": {
        "colab": {
          "base_uri": "https://localhost:8080/",
          "height": 410
        },
        "id": "GmLuc5vkOJkD",
        "outputId": "6e343d2d-505a-4d9a-98fc-e083f9055e73"
      },
      "outputs": [],
      "source": [
        "# simulate data & scatter plot\n",
        "import numpy as np\n",
        "import pandas as pd\n",
        "import matplotlib.pyplot as plt\n",
        "\n",
        "np.random.seed(42)\n",
        "n = 100\n",
        "X = np.random.uniform(0, 10, size=n)\n",
        "error = np.random.normal(0, 5, size=n)\n",
        "Y = 2 + 3*X + error\n",
        "\n",
        "df = pd.DataFrame({'X': X, 'Y': Y})\n",
        "\n",
        "plt.figure(figsize=(6,4))\n",
        "plt.scatter(df['X'], df['Y'], alpha=0.7)\n",
        "plt.xlabel('X')\n",
        "plt.ylabel('Y')\n",
        "plt.title('Scatter plot of Y vs. X')\n",
        "plt.show()\n"
      ]
    },
    {
      "cell_type": "code",
      "execution_count": null,
      "metadata": {
        "colab": {
          "base_uri": "https://localhost:8080/"
        },
        "id": "ZdVl0ruqQz4C",
        "outputId": "f9a364c0-00a9-48f5-b926-1a20d12bee3c"
      },
      "outputs": [],
      "source": [
        "# fit OLS regression with statsmodels\n",
        "import statsmodels.api as sm\n",
        "\n",
        "X_sm = sm.add_constant(df['X'])       # add intercept\n",
        "model = sm.OLS(df['Y'], X_sm).fit()\n",
        "print(model.summary())\n"
      ]
    },
    {
      "cell_type": "code",
      "execution_count": null,
      "metadata": {
        "colab": {
          "base_uri": "https://localhost:8080/",
          "height": 410
        },
        "id": "rOjaPuHlRRzK",
        "outputId": "d0cc473e-63a0-43da-af16-6e2d5a4a0931"
      },
      "outputs": [],
      "source": [
        "plt.figure(figsize=(6,4))\n",
        "plt.scatter(df['X'], df['Y'], alpha=0.7, label='Data')\n",
        "# Create a smooth line over the range of X\n",
        "x_vals = np.linspace(df['X'].min(), df['X'].max(), 100)\n",
        "y_vals = model.params['const'] + model.params['X'] * x_vals\n",
        "plt.plot(x_vals, y_vals, color='red', lw=2, label='OLS fit')\n",
        "plt.xlabel('X')\n",
        "plt.ylabel('Y')\n",
        "plt.title('Scatter of Y vs. X with OLS Regression Line')\n",
        "plt.legend()\n",
        "plt.show()"
      ]
    },
    {
      "cell_type": "code",
      "execution_count": null,
      "metadata": {
        "colab": {
          "base_uri": "https://localhost:8080/",
          "height": 407
        },
        "id": "ZTTuYsEZQ1ih",
        "outputId": "55bfb7bc-e6fb-4581-a9b7-dd80fc7f61a3"
      },
      "outputs": [],
      "source": [
        "# visualize residuals as vertical distances and residuals vs. fitted\n",
        "import numpy as np\n",
        "import matplotlib.pyplot as plt\n",
        "\n",
        "# Recompute the regression line for plotting\n",
        "x_vals = np.linspace(df['X'].min(), df['X'].max(), 100)\n",
        "y_vals = model.params['const'] + model.params['X'] * x_vals\n",
        "\n",
        "fig, axes = plt.subplots(1, 2, figsize=(12, 4))\n",
        "\n",
        "# Panel 1: residuals as vertical distances\n",
        "axes[0].scatter(df['X'], df['Y'], alpha=0.7, label='Data')\n",
        "axes[0].plot(x_vals, y_vals, color='red', lw=2, label='OLS fit')\n",
        "for xi, yi, fi in zip(df['X'], df['Y'], model.fittedvalues):\n",
        "    axes[0].vlines(xi, yi, fi, color='gray', alpha=0.5)\n",
        "axes[0].set_title('Residuals as Vertical Distance')\n",
        "axes[0].set_xlabel('X')\n",
        "axes[0].set_ylabel('Y')\n",
        "axes[0].legend()\n",
        "\n",
        "# Panel 2: classic residuals vs. fitted plot\n",
        "axes[1].scatter(model.fittedvalues, model.resid, alpha=0.7)\n",
        "axes[1].axhline(0, color='red', lw=1)\n",
        "axes[1].set_title('Residuals vs. Fitted')\n",
        "axes[1].set_xlabel('Fitted values')\n",
        "axes[1].set_ylabel('Residuals')\n",
        "\n",
        "plt.tight_layout()\n",
        "plt.show()\n"
      ]
    },
    {
      "cell_type": "code",
      "execution_count": null,
      "metadata": {
        "colab": {
          "base_uri": "https://localhost:8080/",
          "height": 407
        },
        "id": "3IJBn3jWRJrX",
        "outputId": "d587f076-6a65-478b-deb5-05fc1dcc2f57"
      },
      "outputs": [],
      "source": [
        "# : Q‑Q plot and ECDF plot with theoretical Normal CDF overlay\n",
        "import numpy as np\n",
        "import matplotlib.pyplot as plt\n",
        "import statsmodels.api as sm\n",
        "from scipy.stats import norm\n",
        "\n",
        "# Extract residuals\n",
        "resid = model.resid\n",
        "n = len(resid)\n",
        "sorted_resid = np.sort(resid)\n",
        "ecdf = np.arange(1, n+1) / n\n",
        "\n",
        "# MLE estimates for residual distribution\n",
        "mu_hat = resid.mean()\n",
        "sigma_hat = np.sqrt(((resid - mu_hat)**2).sum() / n)\n",
        "\n",
        "# Plot\n",
        "fig, axes = plt.subplots(1, 2, figsize=(12, 4))\n",
        "\n",
        "# Q‑Q plot\n",
        "sm.qqplot(resid, line='45', fit=True, ax=axes[0], alpha=0.7)\n",
        "axes[0].set_title('Q-Q plot of residuals')\n",
        "\n",
        "# ECDF + theoretical CDF\n",
        "axes[1].step(sorted_resid, ecdf, where='post', label='Empirical CDF')\n",
        "x_vals = np.linspace(sorted_resid.min(), sorted_resid.max(), 200)\n",
        "axes[1].plot(x_vals, norm.cdf(x_vals, loc=mu_hat, scale=sigma_hat),\n",
        "             'r--', lw=2, label=f'N({mu_hat:.2f}, {sigma_hat:.2f}²)')\n",
        "axes[1].set_xlabel('Residuals')\n",
        "axes[1].set_ylabel('CDF')\n",
        "axes[1].set_title('Empirical vs. Estimated Normal CDF')\n",
        "axes[1].legend()\n",
        "\n",
        "plt.tight_layout()\n",
        "plt.show()\n"
      ]
    },
    {
      "cell_type": "code",
      "execution_count": null,
      "metadata": {
        "colab": {
          "base_uri": "https://localhost:8080/"
        },
        "id": "zkMmgmN2Q_8P",
        "outputId": "6936a000-2ade-4ba2-9543-c18720f20e8a"
      },
      "outputs": [],
      "source": [
        "# bootstrap 95% CIs for intercept & slope\n",
        "n_boot = 1000\n",
        "boot_params = np.zeros((n_boot, 2))   # columns: [intercept, slope]\n",
        "\n",
        "for i in range(n_boot):\n",
        "    idx = np.random.choice(df.index, size=n, replace=True)\n",
        "    Xb  = sm.add_constant(df.loc[idx, 'X'])\n",
        "    yb  = df.loc[idx, 'Y']\n",
        "    res = sm.OLS(yb, Xb).fit()\n",
        "    boot_params[i] = res.params.values\n",
        "\n",
        "ci_int = np.percentile(boot_params[:,0], [2.5, 97.5])\n",
        "ci_slope = np.percentile(boot_params[:,1], [2.5, 97.5])\n",
        "\n",
        "print(f\"95% CI for intercept: {ci_int}\")\n",
        "print(f\"95% CI for slope:     {ci_slope}\")\n"
      ]
    },
    {
      "cell_type": "code",
      "execution_count": null,
      "metadata": {
        "id": "ufNGTRrBSK57"
      },
      "outputs": [],
      "source": [
        "# Cell 5: hypothesis test H0: slope = 0\n",
        "\n"
      ]
    },
    {
      "cell_type": "code",
      "execution_count": null,
      "metadata": {
        "id": "F6M3LiWtSP2v"
      },
      "outputs": [],
      "source": []
    }
  ],
  "metadata": {
    "colab": {
      "provenance": []
    },
    "kernelspec": {
      "display_name": "base",
      "language": "python",
      "name": "python3"
    },
    "language_info": {
      "name": "python",
      "version": "3.13.5"
    }
  },
  "nbformat": 4,
  "nbformat_minor": 0
}
