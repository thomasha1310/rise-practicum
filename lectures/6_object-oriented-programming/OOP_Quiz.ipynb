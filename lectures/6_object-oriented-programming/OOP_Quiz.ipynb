{
  "cells": [
    {
      "cell_type": "markdown",
      "id": "7f7cbe28",
      "metadata": {
        "id": "7f7cbe28"
      },
      "source": [
        "# OOP Quiz\n",
        "\n",
        "Each question below contains a **broken** Python class missing one or two critical pieces.  \n",
        "1. Run the cell with the `assert` statement; it will raise an error until you have fixed the class.  \n",
        "2. Move on to the next question when the assertion passes.\n",
        "\n",
        "Good luck - and happy debugging!"
      ]
    },
    {
      "cell_type": "markdown",
      "id": "1d36fec3",
      "metadata": {
        "id": "1d36fec3"
      },
      "source": [
        "## Question: Rectangle Area"
      ]
    },
    {
      "cell_type": "code",
      "execution_count": 1,
      "id": "fe30d7c2",
      "metadata": {
        "colab": {
          "base_uri": "https://localhost:8080/",
          "height": 305
        },
        "id": "fe30d7c2",
        "outputId": "23b3deb2-e45f-4d45-fe0d-806271dcd65d"
      },
      "outputs": [],
      "source": [
        "class Rectangle:\n",
        "    def __init__(self, width, height):\n",
        "        self.width = width\n",
        "        self.height = height\n",
        "\n",
        "    def area(self):\n",
        "        return self.width * self.height\n",
        "\n",
        "# --- test ---\n",
        "r = Rectangle(3, 4)\n",
        "assert r.area() == 12"
      ]
    },
    {
      "cell_type": "markdown",
      "id": "25b33628",
      "metadata": {
        "id": "25b33628"
      },
      "source": [
        "## Question: Bank Account Deposit"
      ]
    },
    {
      "cell_type": "code",
      "execution_count": 2,
      "id": "18a74d78",
      "metadata": {
        "colab": {
          "base_uri": "https://localhost:8080/",
          "height": 180
        },
        "id": "18a74d78",
        "outputId": "4ac67694-4674-4083-b097-cd2f52c6a969"
      },
      "outputs": [],
      "source": [
        "class BankAccount:\n",
        "    def __init__(self, balance=0):\n",
        "        self.balance = balance\n",
        "\n",
        "    def deposit(self, amount):\n",
        "        \"\"\"Add amount to the balance\"\"\"\n",
        "        self.balance += amount\n",
        "\n",
        "# --- test ---\n",
        "acct = BankAccount(100)\n",
        "acct.deposit(50)\n",
        "assert acct.balance == 150"
      ]
    },
    {
      "cell_type": "markdown",
      "id": "5d5fe17f",
      "metadata": {
        "id": "5d5fe17f"
      },
      "source": [
        "## Question: Counter Class Method"
      ]
    },
    {
      "cell_type": "code",
      "execution_count": 3,
      "id": "0d73f77f",
      "metadata": {
        "colab": {
          "base_uri": "https://localhost:8080/",
          "height": 180
        },
        "id": "0d73f77f",
        "outputId": "2af5ce79-00c8-4501-9bd7-98a8f47949de"
      },
      "outputs": [],
      "source": [
        "class Counter:\n",
        "    _count = 0  # class attribute\n",
        "\n",
        "    def __init__(self):\n",
        "        Counter._count += 1\n",
        "\n",
        "    @classmethod\n",
        "    def how_many(cls):\n",
        "        return Counter._count\n",
        "\n",
        "# --- test ---\n",
        "c1 = Counter()\n",
        "c2 = Counter()\n",
        "assert Counter.how_many() == 2"
      ]
    },
    {
      "cell_type": "markdown",
      "id": "3d06141a",
      "metadata": {
        "id": "3d06141a"
      },
      "source": [
        "## Question: Point Distance"
      ]
    },
    {
      "cell_type": "code",
      "execution_count": 4,
      "id": "649c49da",
      "metadata": {
        "colab": {
          "base_uri": "https://localhost:8080/",
          "height": 180
        },
        "id": "649c49da",
        "outputId": "d6800869-cc81-4549-c89a-0c936804288b"
      },
      "outputs": [],
      "source": [
        "import math\n",
        "\n",
        "class Point:\n",
        "    def __init__(self, x, y):\n",
        "        self.x = x\n",
        "        self.y = y\n",
        "\n",
        "    def distance_to_origin(self):\n",
        "        return math.sqrt(self.x ** 2 + self.y ** 2)\n",
        "\n",
        "# --- test ---\n",
        "p = Point(3, 4)\n",
        "assert p.distance_to_origin() == 5"
      ]
    },
    {
      "cell_type": "markdown",
      "id": "201b355a",
      "metadata": {
        "id": "201b355a"
      },
      "source": [
        "## Question: Temperature Converter"
      ]
    },
    {
      "cell_type": "code",
      "execution_count": 5,
      "id": "35adba31",
      "metadata": {
        "colab": {
          "base_uri": "https://localhost:8080/",
          "height": 180
        },
        "id": "35adba31",
        "outputId": "3a3d6b0d-147d-47f1-f60d-47a8d4790583"
      },
      "outputs": [],
      "source": [
        "class Celsius:\n",
        "    def __init__(self, degrees):\n",
        "        self.degrees = degrees\n",
        "\n",
        "    @property\n",
        "    def fahrenheit(self):\n",
        "        return self.degrees * 9 / 5 + 32\n",
        "\n",
        "# --- test ---\n",
        "t = Celsius(0)\n",
        "assert t.fahrenheit == 32"
      ]
    },
    {
      "cell_type": "markdown",
      "id": "7b28143a",
      "metadata": {
        "id": "7b28143a"
      },
      "source": [
        "## Question: Shopping Cart Total"
      ]
    },
    {
      "cell_type": "code",
      "execution_count": 8,
      "id": "0bb95095",
      "metadata": {
        "colab": {
          "base_uri": "https://localhost:8080/",
          "height": 180
        },
        "id": "0bb95095",
        "outputId": "6ef783dc-e47c-4894-d708-2c6c27dd6e80"
      },
      "outputs": [],
      "source": [
        "class ShoppingCart:\n",
        "    def __init__(self):\n",
        "        self.items = []  # list of (price, quantity)\n",
        "\n",
        "    def add_item(self, price, qty=1):\n",
        "        self.items.append((price, qty))\n",
        "\n",
        "    def total(self):\n",
        "        return sum(price * qty for price, qty in self.items)\n",
        "\n",
        "# --- test ---\n",
        "cart = ShoppingCart()\n",
        "cart.add_item(10, 2)\n",
        "cart.add_item(5, 1)\n",
        "assert cart.total() == 25"
      ]
    },
    {
      "cell_type": "markdown",
      "id": "7fbdf50e",
      "metadata": {
        "id": "7fbdf50e"
      },
      "source": [
        "## Question: __str__ Representation"
      ]
    },
    {
      "cell_type": "code",
      "execution_count": 9,
      "id": "54fb2aaa",
      "metadata": {
        "colab": {
          "base_uri": "https://localhost:8080/",
          "height": 180
        },
        "id": "54fb2aaa",
        "outputId": "fb2eb3b0-d60c-41ee-be5d-ebe5d5509644"
      },
      "outputs": [],
      "source": [
        "class Book:\n",
        "    def __init__(self, title, author):\n",
        "        self.title = title\n",
        "        self.author = author\n",
        "\n",
        "    def __str__(self):\n",
        "        return f\"\\\"{self.title}\\\" by {self.author}\"\n",
        "\n",
        "# --- test ---\n",
        "b = Book(\"1984\", \"George Orwell\")\n",
        "assert str(b) == '\"1984\" by George Orwell'"
      ]
    },
    {
      "cell_type": "markdown",
      "id": "f5142ebc",
      "metadata": {
        "id": "f5142ebc"
      },
      "source": [
        "## Question: Friendly Person"
      ]
    },
    {
      "cell_type": "code",
      "execution_count": 10,
      "id": "1a44730e",
      "metadata": {
        "colab": {
          "base_uri": "https://localhost:8080/",
          "height": 180
        },
        "id": "1a44730e",
        "outputId": "ef0d15d6-f28b-4fc3-e8cd-0d794173b781"
      },
      "outputs": [],
      "source": [
        "class Person:\n",
        "    def __init__(self, name):\n",
        "        self.name = name\n",
        "\n",
        "    def greet(self):\n",
        "        return f\"Hello, {self.name}!\"\n",
        "\n",
        "# --- test ---\n",
        "p = Person(\"Patrick\")\n",
        "assert p.greet() == \"Hello, Patrick!\""
      ]
    },
    {
      "cell_type": "code",
      "execution_count": 29,
      "id": "LTza3Ark4_NI",
      "metadata": {
        "id": "LTza3Ark4_NI"
      },
      "outputs": [],
      "source": []
    }
  ],
  "metadata": {
    "colab": {
      "provenance": []
    },
    "kernelspec": {
      "display_name": "base",
      "language": "python",
      "name": "python3"
    },
    "language_info": {
      "codemirror_mode": {
        "name": "ipython",
        "version": 3
      },
      "file_extension": ".py",
      "mimetype": "text/x-python",
      "name": "python",
      "nbconvert_exporter": "python",
      "pygments_lexer": "ipython3",
      "version": "3.13.5"
    }
  },
  "nbformat": 4,
  "nbformat_minor": 5
}
