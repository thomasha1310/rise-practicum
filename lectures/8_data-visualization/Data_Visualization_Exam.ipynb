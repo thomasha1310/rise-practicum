{
  "cells": [
    {
      "cell_type": "markdown",
      "id": "9a1c9bd3",
      "metadata": {
        "id": "9a1c9bd3"
      },
      "source": [
        "# Data Visualization Exam – 2025-07-15\n",
        "\n",
        "This exam contains **5 questions**. For each question, execute the provided code cell to generate a *sub-optimal* figure, then improve it as instructed. After making your changes, **reflect** (1-2 sentences) on *why* your improvements enhance the visual communication.\n",
        "\n",
        "Feel free to add additional cells under each question if needed."
      ]
    },
    {
      "cell_type": "markdown",
      "id": "6f6651ee",
      "metadata": {
        "id": "6f6651ee"
      },
      "source": [
        "\n",
        "### Question 1 — Despine & Font Size\n",
        "\n",
        "The plot above has **small fonts**, unnecessary **spines**, and no axis labels.\n",
        "\n",
        "1. Improve the figure by:\n",
        "   * Removing the top and right spines.\n",
        "   * Increasing the font sizes of the title and tick labels.\n",
        "   * Adding meaningful x- and y-axis labels.\n",
        "\n",
        "2. Briefly explain *why* each change improves readability.\n"
      ]
    },
    {
      "cell_type": "code",
      "execution_count": null,
      "id": "5b9fe210",
      "metadata": {
        "id": "5b9fe210"
      },
      "outputs": [],
      "source": [
        "import numpy as np\n",
        "import matplotlib.pyplot as plt\n",
        "import seaborn as sns\n",
        "\n",
        "np.random.seed(0)\n",
        "categories = ['A', 'B', 'C', 'D']\n",
        "values = np.random.randint(5, 15, size=len(categories))\n",
        "\n",
        "fig, ax = plt.subplots(figsize=(4, 3))\n",
        "ax.bar(categories, values, color='grey')\n",
        "ax.spines[['right', 'top']].set_visible(False)\n",
        "ax.set_title('Sales', fontsize=18)\n",
        "ax.set_xlabel('Category', fontsize=14)\n",
        "ax.set_ylabel('Sales', fontsize=14)\n",
        "ax.tick_params(axis='both', which='major', labelsize=14)\n",
        "plt.show()"
      ]
    },
    {
      "cell_type": "markdown",
      "id": "75d5b07d",
      "metadata": {},
      "source": [
        "Removing the top and right spines improves legibility by reducing unnecessary clutter in the graph. Increasing the font size of the title and labels also makes the graph easier to read. Lastly, changing the bar color from `lightgrey` to `grey` makes it easier to see the bars, especially for those who may have poor eyesight."
      ]
    },
    {
      "cell_type": "markdown",
      "id": "cf3c23f0",
      "metadata": {
        "id": "cf3c23f0"
      },
      "source": [
        "\n",
        "### Question 2 — Perceptually Uniform Colormap\n",
        "\n",
        "The heatmap uses the **`jet`** colormap, which is **not perceptually uniform**.\n",
        "\n",
        "1. Replace the colormap with a perceptually uniform option (look this up please, you'll see huge documentation on it)\n",
        "2. Adjust the font sizes and add an informative title (make one up).\n",
        "3. Explain how your chosen colormap and styling choices improve the viewer's ability to discern values.\n"
      ]
    },
    {
      "cell_type": "code",
      "execution_count": null,
      "id": "b35f108a",
      "metadata": {
        "id": "b35f108a"
      },
      "outputs": [],
      "source": [
        "\n",
        "import numpy as np\n",
        "import matplotlib.pyplot as plt\n",
        "\n",
        "np.random.seed(1)\n",
        "data = np.random.randn(30, 30)\n",
        "\n",
        "fig, ax = plt.subplots(figsize=(4, 3))\n",
        "cax = ax.imshow(data, cmap='magma')\n",
        "fig.colorbar(cax)\n",
        "ax.set_title('Average Temperature of Surface', fontsize=18)\n",
        "\n",
        "plt.show()\n"
      ]
    },
    {
      "cell_type": "markdown",
      "id": "2962b40d",
      "metadata": {},
      "source": [
        "The perceptually uniform colormaps makes it easier to discern patterns in the heatmap data (outliers are much brighter or darker). The larger font size also makes it easier to read."
      ]
    },
    {
      "cell_type": "markdown",
      "id": "f76cee8c",
      "metadata": {
        "id": "f76cee8c"
      },
      "source": [
        "\n",
        "### Question 3 — Over-plotting & Transparency\n",
        "\n",
        "The scatter plot over-plots points, making dense regions hard to perceive.\n",
        "\n",
        "1. Mitigate over-plotting using **transparency (`alpha`)**, smaller marker size.\n",
        "2. [Challenge only] Use a color palette consistent with data density through ax.hexbin(x, y, cmap = 'ARGUMENT'), where you provide argument\n",
        "3. Provide a short reflection on how these adjustments clarify patterns.\n"
      ]
    },
    {
      "cell_type": "code",
      "execution_count": null,
      "id": "ef67e2d5",
      "metadata": {
        "id": "ef67e2d5"
      },
      "outputs": [],
      "source": [
        "\n",
        "import numpy as np\n",
        "import matplotlib.pyplot as plt\n",
        "\n",
        "np.random.seed(3)\n",
        "n = 500\n",
        "x = np.random.normal(size=n)\n",
        "y = 2 * x + np.random.normal(size=n)\n",
        "\n",
        "fig, ax = plt.subplots(figsize=(4, 3))\n",
        "ax.scatter(x, y, color='red', s=5, alpha=0.25)  # opaque, single color\n",
        "ax.set_title('Hit Location Distribution', fontsize=16)\n",
        "plt.show()\n"
      ]
    },
    {
      "cell_type": "code",
      "execution_count": null,
      "id": "8e8d8a66",
      "metadata": {},
      "outputs": [],
      "source": [
        "\n",
        "import numpy as np\n",
        "import matplotlib.pyplot as plt\n",
        "\n",
        "np.random.seed(3)\n",
        "n = 500\n",
        "x = np.random.normal(size=n)\n",
        "y = 2 * x + np.random.normal(size=n)\n",
        "\n",
        "fig, ax = plt.subplots(figsize=(4, 3))\n",
        "ax.scatter(x, y, color='red', s=5, alpha=0.25)  # opaque, single color\n",
        "hb = ax.hexbin(x, y, gridsize=25, cmap='viridis_r', mincnt=1)  # show bins with at least 1 point\n",
        "fig.colorbar(hb, ax=ax, label='Counts per bin')\n",
        "ax.set_title('Hit Location Distribution', fontsize=16)\n",
        "plt.show()\n"
      ]
    },
    {
      "cell_type": "markdown",
      "id": "5d972b0f",
      "metadata": {},
      "source": [
        "In the original plot, over-plotting makes it difficult to make observations for areas of high density and find patterns in the data. Applying transparency and smaller markers makes it easier to find dense clusters. Using `hexbin` further aggregates the data into 2D bins, using color to indicate density."
      ]
    },
    {
      "cell_type": "markdown",
      "id": "f1694080",
      "metadata": {
        "id": "f1694080"
      },
      "source": [
        "\n",
        "### Question 4 — Axes & Legend Placement\n",
        "\n",
        "The time-series plot suffers from **cramped x-axis labels** and a legend that overlaps tick labels.\n",
        "\n",
        "1. Rotate date ticks, use automatic date formatting, and expand the figure width.\n",
        "2. Move the legend to a clearer position or outside the plotting area.\n",
        "3. Explain why these revisions improve interpretability.\n"
      ]
    },
    {
      "cell_type": "code",
      "execution_count": null,
      "id": "7258528d",
      "metadata": {
        "id": "7258528d"
      },
      "outputs": [],
      "source": [
        "\n",
        "import numpy as np\n",
        "import matplotlib.pyplot as plt\n",
        "import pandas as pd\n",
        "import matplotlib.dates as pltdates\n",
        "\n",
        "np.random.seed(4)\n",
        "dates = pd.date_range('2025-01-01', periods=100, freq='D')\n",
        "series1 = np.cumsum(np.random.randn(100))\n",
        "series2 = np.cumsum(np.random.randn(100))\n",
        "\n",
        "fig, ax = plt.subplots(figsize=(8, 4))\n",
        "ax.plot(dates, series1, label='Series 1')\n",
        "ax.plot(dates, series2, label='Series 2')\n",
        "ax.set_title('Cumulative Sum Time Series', fontsize=16)\n",
        "ax.set_xlabel('Date', fontsize=16)\n",
        "ax.set_ylabel('Cumulative Sum', fontsize=16)\n",
        "ax.legend(loc='upper left', frameon=False)  # overlays ticks\n",
        "ax.xaxis.set_major_locator(pltdates.MonthLocator())\n",
        "ax.xaxis.set_major_formatter(pltdates.DateFormatter('%b %Y'))\n",
        "\n",
        "plt.xticks(rotation=45)\n",
        "plt.show()\n"
      ]
    },
    {
      "cell_type": "markdown",
      "id": "1b1f38f8",
      "metadata": {},
      "source": [
        "These changes make it easier to interpret the data because (1) the data is no longer obscured by the legend; (2) the dates are easier to read; and (3) a title and $x$-axis and $y$-axis labels make it easier to understand what the data represents."
      ]
    },
    {
      "cell_type": "markdown",
      "id": "da596dde",
      "metadata": {
        "id": "da596dde"
      },
      "source": [
        "\n",
        "### Question 5 — Histogram Bin Choice & Labels\n",
        "\n",
        "The histogram uses **100 bins**, creating a noisy appearance.\n",
        "\n",
        "1. Select an appropriate bin width using a rule (e.g., Freedman-Diaconis) or domain knowledge (your domain knowledge in this case can be trial and error).\n",
        "2. Choose colors with sufficient contrast and remove heavy edges.\n",
        "3. Add axis labels and a descriptive title.\n",
        "4. Reflect on how your binning choice balances detail and clarity.\n"
      ]
    },
    {
      "cell_type": "code",
      "execution_count": null,
      "id": "22b378fe",
      "metadata": {
        "id": "22b378fe"
      },
      "outputs": [],
      "source": [
        "\n",
        "import numpy as np\n",
        "import matplotlib.pyplot as plt\n",
        "\n",
        "np.random.seed(5)\n",
        "data = np.random.gamma(shape=2., scale=1.5, size=1000)\n",
        "fig, ax = plt.subplots(figsize=(4, 3))\n",
        "ax.hist(data, bins=30, color='steelblue', edgecolor='white')  # bins based on Freedman-Diaconis rule\n",
        "ax.set_title('Ping Distribution for 1000 Packets', fontsize=16)\n",
        "ax.set_xlabel('Ping (ms)')\n",
        "ax.set_ylabel('Count')\n",
        "plt.show()\n"
      ]
    },
    {
      "cell_type": "markdown",
      "id": "04ffa45c",
      "metadata": {},
      "source": [
        "The Freedman-Draconis rule for determining bin width uses the formula\n",
        "\n",
        "$$\\text{width} = 2 \\cdot \\frac{\\text{3rd quartile} - \\text{1st quartile}}{n^{1/3}}.$$\n",
        "\n",
        "Thus, the number of bins is the range divided by this width. This binning choice shows enough detail in the distribution while still maintaining a large enough bin size to generalize the distribution."
      ]
    }
  ],
  "metadata": {
    "colab": {
      "provenance": []
    },
    "kernelspec": {
      "display_name": "base",
      "language": "python",
      "name": "python3"
    },
    "language_info": {
      "codemirror_mode": {
        "name": "ipython",
        "version": 3
      },
      "file_extension": ".py",
      "mimetype": "text/x-python",
      "name": "python",
      "nbconvert_exporter": "python",
      "pygments_lexer": "ipython3",
      "version": "3.13.5"
    }
  },
  "nbformat": 4,
  "nbformat_minor": 5
}
