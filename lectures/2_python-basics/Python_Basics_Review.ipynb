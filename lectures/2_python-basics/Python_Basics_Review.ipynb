{
  "cells": [
    {
      "cell_type": "markdown",
      "id": "74b9d6c6",
      "metadata": {
        "id": "74b9d6c6"
      },
      "source": [
        "# Python Basics — 20 Warm-ups\n",
        "\n",
        "These exercises review the absolute fundamentals covered in Labs 1-4.\n",
        "\n",
        "*Each problem is followed by a starter code cell and a hidden **Instructor solution** you can reveal by clicking.*"
      ]
    },
    {
      "cell_type": "markdown",
      "id": "68d8bebe",
      "metadata": {
        "id": "68d8bebe"
      },
      "source": [
        "## 1. Hello, YOU!\n",
        "\n",
        "Write a function `greet(name)` that returns the string `\"Hello, <name>!\"`."
      ]
    },
    {
      "cell_type": "code",
      "execution_count": 1,
      "id": "8e0de2bc",
      "metadata": {
        "id": "8e0de2bc"
      },
      "outputs": [],
      "source": [
        "def greet(name):\n",
        "    return f\"Hello, {name}!\"\n",
        "\n",
        "assert greet(\"Ada\") == \"Hello, Ada!\"\n"
      ]
    },
    {
      "cell_type": "markdown",
      "id": "5cea3055",
      "metadata": {
        "id": "5cea3055"
      },
      "source": [
        "<details>\n",
        "<summary><strong>Instructor solution (click to reveal)</strong></summary>\n",
        "\n",
        "```python\n",
        "def greet(name):\n",
        "    return f\"Hello, {name}!\"\n",
        "```\n",
        "</details>"
      ]
    },
    {
      "cell_type": "markdown",
      "id": "e385ab61",
      "metadata": {
        "id": "e385ab61"
      },
      "source": [
        "## 2. Add Two Numbers\n",
        "\n",
        "Complete `add_two(x, y)` so that it returns their sum."
      ]
    },
    {
      "cell_type": "code",
      "execution_count": 2,
      "id": "2bd612e6",
      "metadata": {
        "id": "2bd612e6"
      },
      "outputs": [],
      "source": [
        "def add_two(x, y):\n",
        "    return x + y\n",
        "\n",
        "assert add_two(3, 4) == 7\n"
      ]
    },
    {
      "cell_type": "markdown",
      "id": "15cebea8",
      "metadata": {
        "id": "15cebea8"
      },
      "source": [
        "<details>\n",
        "<summary><strong>Instructor solution (click to reveal)</strong></summary>\n",
        "\n",
        "```python\n",
        "def add_two(x, y):\n",
        "    return x + y\n",
        "```\n",
        "</details>"
      ]
    },
    {
      "cell_type": "markdown",
      "id": "605bdec0",
      "metadata": {
        "id": "605bdec0"
      },
      "source": [
        "## 3. Average of a List\n",
        "\n",
        "Implement `avg(nums)` that returns the arithmetic mean of a non-empty list of numbers."
      ]
    },
    {
      "cell_type": "code",
      "execution_count": 3,
      "id": "f08487ba",
      "metadata": {
        "id": "f08487ba"
      },
      "outputs": [],
      "source": [
        "def avg(nums):\n",
        "    return sum(nums) / len(nums)\n",
        "\n",
        "assert avg([2, 4, 6]) == 4\n"
      ]
    },
    {
      "cell_type": "markdown",
      "id": "1e3811cb",
      "metadata": {
        "id": "1e3811cb"
      },
      "source": [
        "<details>\n",
        "<summary><strong>Instructor solution (click to reveal)</strong></summary>\n",
        "\n",
        "```python\n",
        "def avg(nums):\n",
        "    return sum(nums) / len(nums)\n",
        "```\n",
        "</details>"
      ]
    },
    {
      "cell_type": "markdown",
      "id": "378fdaed",
      "metadata": {
        "id": "378fdaed"
      },
      "source": [
        "## 4. Squares 1–10\n",
        "\n",
        "Using a **list comprehension**, create `squares` containing the squares of the integers 1 through 10 (inclusive)."
      ]
    },
    {
      "cell_type": "code",
      "execution_count": 4,
      "id": "f4f70a30",
      "metadata": {
        "id": "f4f70a30"
      },
      "outputs": [],
      "source": [
        "squares = [i ** 2 for i in range(1, 11)]\n",
        "\n",
        "assert squares[:3] == [1, 4, 9] and len(squares) == 10\n"
      ]
    },
    {
      "cell_type": "markdown",
      "id": "441b5dc0",
      "metadata": {
        "id": "441b5dc0"
      },
      "source": [
        "<details>\n",
        "<summary><strong>Instructor solution (click to reveal)</strong></summary>\n",
        "\n",
        "```python\n",
        "squares = [n**2 for n in range(1, 11)]\n",
        "```\n",
        "</details>"
      ]
    },
    {
      "cell_type": "markdown",
      "id": "83e6bf1d",
      "metadata": {
        "id": "83e6bf1d"
      },
      "source": [
        "## 5. Count Even Numbers\n",
        "\n",
        "`count_evens(lst)` should return how many values in `lst` are even."
      ]
    },
    {
      "cell_type": "code",
      "execution_count": 5,
      "id": "9f7e0b86",
      "metadata": {
        "id": "9f7e0b86"
      },
      "outputs": [],
      "source": [
        "def count_evens(lst):\n",
        "    evens = [n for n in lst if n % 2 == 0]\n",
        "    return len(evens)\n",
        "\n",
        "assert count_evens([1, 2, 2, 3, 4]) == 3\n"
      ]
    },
    {
      "cell_type": "markdown",
      "id": "a169e6e1",
      "metadata": {
        "id": "a169e6e1"
      },
      "source": [
        "<details>\n",
        "<summary><strong>Instructor solution (click to reveal)</strong></summary>\n",
        "\n",
        "```python\n",
        "def count_evens(lst):\n",
        "    return sum(1 for n in lst if n % 2 == 0)\n",
        "```\n",
        "</details>"
      ]
    },
    {
      "cell_type": "markdown",
      "id": "f74bd915",
      "metadata": {
        "id": "f74bd915"
      },
      "source": [
        "## 6. Lower-case Converter\n",
        "\n",
        "`make_lower(s)` returns the input string completely in lower case."
      ]
    },
    {
      "cell_type": "code",
      "execution_count": 6,
      "id": "fc04178f",
      "metadata": {
        "id": "fc04178f"
      },
      "outputs": [],
      "source": [
        "def make_lower(s):\n",
        "    return s.lower()\n",
        "\n",
        "assert make_lower(\"TeaTIME\") == \"teatime\"\n"
      ]
    },
    {
      "cell_type": "markdown",
      "id": "7162ffbd",
      "metadata": {
        "id": "7162ffbd"
      },
      "source": [
        "<details>\n",
        "<summary><strong>Instructor solution (click to reveal)</strong></summary>\n",
        "\n",
        "```python\n",
        "def make_lower(s):\n",
        "    return s.lower()\n",
        "```\n",
        "</details>"
      ]
    },
    {
      "cell_type": "markdown",
      "id": "89152330",
      "metadata": {
        "id": "89152330"
      },
      "source": [
        "## 7. Remove Duplicates (Order-preserving)\n",
        "\n",
        "`dedup(lst)` returns a new list with duplicates removed while **preserving the original order**."
      ]
    },
    {
      "cell_type": "code",
      "execution_count": 7,
      "id": "2957d2fe",
      "metadata": {
        "id": "2957d2fe"
      },
      "outputs": [],
      "source": [
        "def dedup(lst):\n",
        "    seen, out = set(), []\n",
        "    for x in lst:\n",
        "        if x not in seen:\n",
        "            out.append(x)\n",
        "            seen.add(x)\n",
        "    return out\n",
        "\n",
        "assert dedup([1, 1, 2, 3, 2]) == [1, 2, 3]\n"
      ]
    },
    {
      "cell_type": "markdown",
      "id": "898357a3",
      "metadata": {
        "id": "898357a3"
      },
      "source": [
        "<details>\n",
        "<summary><strong>Instructor solution (click to reveal)</strong></summary>\n",
        "\n",
        "```python\n",
        "def dedup(lst):\n",
        "    seen, out = set(), []\n",
        "    for x in lst:\n",
        "        if x not in seen:\n",
        "            seen.add(x)\n",
        "            out.append(x)\n",
        "    return out\n",
        "```\n",
        "</details>"
      ]
    },
    {
      "cell_type": "markdown",
      "id": "dc989678",
      "metadata": {
        "id": "dc989678"
      },
      "source": [
        "## 8. Last Letters\n",
        "\n",
        "`last_letters(sentence)` returns a list consisting of the last character of every word in `sentence`."
      ]
    },
    {
      "cell_type": "code",
      "execution_count": 8,
      "id": "4bb02baf",
      "metadata": {
        "id": "4bb02baf"
      },
      "outputs": [],
      "source": [
        "def last_letters(sentence: str):\n",
        "    words = sentence.split(\" \")\n",
        "    last = [w[-1] for w in words]\n",
        "    return last\n",
        "\n",
        "assert last_letters(\"data science rocks\") == ['a', 'e', 's']\n"
      ]
    },
    {
      "cell_type": "markdown",
      "id": "1cf10fec",
      "metadata": {
        "id": "1cf10fec"
      },
      "source": [
        "<details>\n",
        "<summary><strong>Instructor solution (click to reveal)</strong></summary>\n",
        "\n",
        "```python\n",
        "def last_letters(sentence):\n",
        "    return [w[-1] for w in sentence.split()]\n",
        "```\n",
        "</details>"
      ]
    },
    {
      "cell_type": "markdown",
      "id": "626505d2",
      "metadata": {
        "id": "626505d2"
      },
      "source": [
        "## 9. Nth Fibonacci (loop version)\n",
        "\n",
        "`fib(n)` returns the *n*-th Fibonacci number using a simple loop (fib(0)=0, fib(1)=1). Optional open response: how can you make this more efficient?"
      ]
    },
    {
      "cell_type": "code",
      "execution_count": 9,
      "id": "7fe03543",
      "metadata": {
        "id": "7fe03543"
      },
      "outputs": [],
      "source": [
        "def fib(n):\n",
        "    a, b = 0, 1\n",
        "    for _ in range(n):\n",
        "        a, b = b, a + b\n",
        "    return a\n",
        "\n",
        "assert fib(7) == 13\n"
      ]
    },
    {
      "cell_type": "markdown",
      "id": "b4eba58d",
      "metadata": {
        "id": "b4eba58d"
      },
      "source": [
        "<details>\n",
        "<summary><strong>Instructor solution (click to reveal)</strong></summary>\n",
        "\n",
        "```python\n",
        "def fib(n):\n",
        "    a, b = 0, 1\n",
        "    for _ in range(n):\n",
        "        a, b = b, a + b\n",
        "    return a\n",
        "```\n",
        "</details>"
      ]
    },
    {
      "cell_type": "markdown",
      "id": "72956fa4",
      "metadata": {
        "id": "72956fa4"
      },
      "source": [
        "## 10. Factorial\n",
        "\n",
        "`factorial(n)` returns `1*2*…*n` calculated iteratively (don’t use `math.factorial`)."
      ]
    },
    {
      "cell_type": "code",
      "execution_count": 10,
      "id": "9fd0d362",
      "metadata": {
        "id": "9fd0d362"
      },
      "outputs": [],
      "source": [
        "def factorial(n):\n",
        "    product = 1\n",
        "    for i in range(1, n + 1):\n",
        "        product *= i\n",
        "    return product\n",
        "\n",
        "assert factorial(5) == 120\n"
      ]
    },
    {
      "cell_type": "markdown",
      "id": "b976ebcb",
      "metadata": {
        "id": "b976ebcb"
      },
      "source": [
        "<details>\n",
        "<summary><strong>Instructor solution (click to reveal)</strong></summary>\n",
        "\n",
        "```python\n",
        "def factorial(n):\n",
        "    out = 1\n",
        "    for i in range(2, n + 1):\n",
        "        out *= i\n",
        "    return out\n",
        "```\n",
        "</details>"
      ]
    },
    {
      "cell_type": "markdown",
      "id": "7eec29ec",
      "metadata": {
        "id": "7eec29ec"
      },
      "source": [
        "## 11. Palindrome Test\n",
        "\n",
        "`is_palindrome(s)` returns **True** if `s` is the same forward and backward (case-insensitive)."
      ]
    },
    {
      "cell_type": "code",
      "execution_count": 11,
      "id": "c6ebec80",
      "metadata": {
        "id": "c6ebec80"
      },
      "outputs": [],
      "source": [
        "def is_palindrome(s):\n",
        "    s = s.upper()\n",
        "    return s == s[::-1]\n",
        "\n",
        "assert is_palindrome(\"Racecar\")\n",
        "assert not is_palindrome(\"Python\")\n"
      ]
    },
    {
      "cell_type": "markdown",
      "id": "152d3e63",
      "metadata": {
        "id": "152d3e63"
      },
      "source": [
        "<details>\n",
        "<summary><strong>Instructor solution (click to reveal)</strong></summary>\n",
        "\n",
        "```python\n",
        "def is_palindrome(s):\n",
        "    s = s.lower()\n",
        "    return s == s[::-1]\n",
        "```\n",
        "</details>"
      ]
    },
    {
      "cell_type": "markdown",
      "id": "b58290a0",
      "metadata": {
        "id": "b58290a0"
      },
      "source": [
        "## 12. Replace Zeros\n",
        "\n",
        "`replace_zeros(lst, val)` returns a copy of `lst` where every `0` is replaced by `val`."
      ]
    },
    {
      "cell_type": "code",
      "execution_count": 12,
      "id": "466b0920",
      "metadata": {
        "id": "466b0920"
      },
      "outputs": [],
      "source": [
        "def replace_zeros(lst, val):\n",
        "    return [i if i != 0 else val for i in lst]\n",
        "\n",
        "assert replace_zeros([0, 1, 0], 9) == [9, 1, 9]\n"
      ]
    },
    {
      "cell_type": "markdown",
      "id": "89815a99",
      "metadata": {
        "id": "89815a99"
      },
      "source": [
        "<details>\n",
        "<summary><strong>Instructor solution (click to reveal)</strong></summary>\n",
        "\n",
        "```python\n",
        "def replace_zeros(lst, val):\n",
        "    return [val if x == 0 else x for x in lst]\n",
        "```\n",
        "</details>"
      ]
    },
    {
      "cell_type": "markdown",
      "id": "61f662de",
      "metadata": {
        "id": "61f662de"
      },
      "source": [
        "## 13. Month Days Dictionary\n",
        "\n",
        "`make_month_dict()` returns a dict mapping the first **three** month abbreviations to their number of days (hard-code values)."
      ]
    },
    {
      "cell_type": "code",
      "execution_count": 13,
      "id": "c9d540af",
      "metadata": {
        "id": "c9d540af"
      },
      "outputs": [],
      "source": [
        "def make_month_dict():\n",
        "    return {\n",
        "        \"Jan\" : 31,\n",
        "        \"Feb\" : 28,\n",
        "        \"Mar\" : 31\n",
        "    }\n",
        "\n",
        "d = make_month_dict()\n",
        "assert d['Feb'] == 28 and len(d) == 3\n"
      ]
    },
    {
      "cell_type": "markdown",
      "id": "7885389c",
      "metadata": {
        "id": "7885389c"
      },
      "source": [
        "<details>\n",
        "<summary><strong>Instructor solution (click to reveal)</strong></summary>\n",
        "\n",
        "```python\n",
        "def make_month_dict():\n",
        "    return {'Jan': 31, 'Feb': 28, 'Mar': 31}\n",
        "```\n",
        "</details>"
      ]
    },
    {
      "cell_type": "markdown",
      "id": "cb2f9912",
      "metadata": {
        "id": "cb2f9912"
      },
      "source": [
        "## 14. Range with Step\n",
        "\n",
        "Create a list named `numbers` containing integers from 10 down to 0 stepping by −2."
      ]
    },
    {
      "cell_type": "code",
      "execution_count": 14,
      "id": "a1bc7d3c",
      "metadata": {
        "id": "a1bc7d3c"
      },
      "outputs": [],
      "source": [
        "numbers = [i for i in range(10, -1, -2)]\n",
        "\n",
        "assert numbers == [10, 8, 6, 4, 2, 0]\n"
      ]
    },
    {
      "cell_type": "markdown",
      "id": "f673f4ae",
      "metadata": {
        "id": "f673f4ae"
      },
      "source": [
        "<details>\n",
        "<summary><strong>Instructor solution (click to reveal)</strong></summary>\n",
        "\n",
        "```python\n",
        "numbers = list(range(10, -1, -2))\n",
        "```\n",
        "</details>"
      ]
    },
    {
      "cell_type": "markdown",
      "id": "54bc620c",
      "metadata": {
        "id": "54bc620c"
      },
      "source": [
        "## 15. Find Max\n",
        "\n",
        "`my_max(lst)` returns the largest value in `lst` without using built-ins like `max()`."
      ]
    },
    {
      "cell_type": "code",
      "execution_count": 15,
      "id": "87ee0950",
      "metadata": {
        "id": "87ee0950"
      },
      "outputs": [],
      "source": [
        "def my_max(lst):\n",
        "    max = lst[0]\n",
        "    for i in lst:\n",
        "        if i > max:\n",
        "            max = i\n",
        "    return max\n",
        "\n",
        "assert my_max([3, 7, 2, 9]) == 9\n"
      ]
    },
    {
      "cell_type": "markdown",
      "id": "57407bb7",
      "metadata": {
        "id": "57407bb7"
      },
      "source": [
        "<details>\n",
        "<summary><strong>Instructor solution (click to reveal)</strong></summary>\n",
        "\n",
        "```python\n",
        "def my_max(lst):\n",
        "    m = lst[0]\n",
        "    for n in lst[1:]:\n",
        "        if n > m:\n",
        "            m = n\n",
        "    return m\n",
        "```\n",
        "</details>"
      ]
    },
    {
      "cell_type": "markdown",
      "id": "5c6172f3",
      "metadata": {
        "id": "5c6172f3"
      },
      "source": [
        "## 16. CSV Row Splitter\n",
        "\n",
        "`split_row(csv_row)` given a string like `'a,b,c'` returns the list `['a', 'b', 'c']` (use `str.split`)."
      ]
    },
    {
      "cell_type": "code",
      "execution_count": 16,
      "id": "431641c7",
      "metadata": {
        "id": "431641c7"
      },
      "outputs": [],
      "source": [
        "def split_row(csv_row):\n",
        "    words = csv_row.split(\",\")\n",
        "    return words\n",
        "\n",
        "assert split_row(\"x,y,z\") == ['x', 'y', 'z']\n"
      ]
    },
    {
      "cell_type": "markdown",
      "id": "e56fd27e",
      "metadata": {
        "id": "e56fd27e"
      },
      "source": [
        "<details>\n",
        "<summary><strong>Instructor solution (click to reveal)</strong></summary>\n",
        "\n",
        "```python\n",
        "def split_row(csv_row):\n",
        "    return csv_row.split(',')\n",
        "```\n",
        "</details>"
      ]
    },
    {
      "cell_type": "markdown",
      "id": "fe6c44d4",
      "metadata": {
        "id": "fe6c44d4"
      },
      "source": [
        "## 17. Tiny Counter Class\n",
        "\n",
        "Define class `Counter` with attribute `count` (starting at 0) and method `.inc()` that adds 1."
      ]
    },
    {
      "cell_type": "code",
      "execution_count": 17,
      "id": "a894972a",
      "metadata": {
        "id": "a894972a"
      },
      "outputs": [],
      "source": [
        "class Counter:\n",
        "    def __init__(self):\n",
        "        self.count = 0\n",
        "    def inc(self) -> None:\n",
        "        self.count += 1\n",
        "\n",
        "c = Counter()\n",
        "c.inc(); c.inc()\n",
        "assert c.count == 2\n"
      ]
    },
    {
      "cell_type": "markdown",
      "id": "f74b4b60",
      "metadata": {
        "id": "f74b4b60"
      },
      "source": [
        "<details>\n",
        "<summary><strong>Instructor solution (click to reveal)</strong></summary>\n",
        "\n",
        "```python\n",
        "class Counter:\n",
        "    def __init__(self):\n",
        "        self.count = 0\n",
        "    def inc(self):\n",
        "        self.count += 1\n",
        "```\n",
        "</details>"
      ]
    },
    {
      "cell_type": "markdown",
      "id": "8918cd59",
      "metadata": {
        "id": "8918cd59"
      },
      "source": [
        "## 18. Baby Pytest\n",
        "\n",
        "Write a pytest-style test function that checks `add_two(2, 3) == 5`."
      ]
    },
    {
      "cell_type": "code",
      "execution_count": 18,
      "id": "1287eb46",
      "metadata": {
        "id": "1287eb46"
      },
      "outputs": [],
      "source": [
        "def test_add_two():\n",
        "    assert add_two(2, 3) == 5\n",
        "\n",
        "test_add_two()\n"
      ]
    },
    {
      "cell_type": "markdown",
      "id": "5ab2f9ed",
      "metadata": {
        "id": "5ab2f9ed"
      },
      "source": [
        "<details>\n",
        "<summary><strong>Instructor solution (click to reveal)</strong></summary>\n",
        "\n",
        "```python\n",
        "def test_add_two():\n",
        "    assert add_two(2, 3) == 5\n",
        "```\n",
        "</details>"
      ]
    },
    {
      "cell_type": "markdown",
      "id": "1f681d03",
      "metadata": {
        "id": "1f681d03"
      },
      "source": [
        "## 19. Count Lines in a File\n",
        "\n",
        "Create `sample.txt` containing three lines, then implement `count_lines(path)` that returns how many lines the file contains."
      ]
    },
    {
      "cell_type": "code",
      "execution_count": 19,
      "id": "b311fb3b",
      "metadata": {
        "id": "b311fb3b"
      },
      "outputs": [],
      "source": [
        "with open(\"sample.txt\", \"w\") as f:\n",
        "    f.write(\"a\\nb\\nc\\n\")\n",
        "\n",
        "def count_lines(path):\n",
        "    with open(path, \"r\") as f:\n",
        "        line = f.readline()\n",
        "        if len(line) == 0:\n",
        "            return 0\n",
        "        else:\n",
        "            lines = 1\n",
        "            while len(f.readline()) > 0:\n",
        "                lines += 1\n",
        "        return lines\n",
        "\n",
        "assert count_lines(\"sample.txt\") == 3\n"
      ]
    },
    {
      "cell_type": "markdown",
      "id": "b70b0c07",
      "metadata": {
        "id": "b70b0c07"
      },
      "source": [
        "<details>\n",
        "<summary><strong>Instructor solution (click to reveal)</strong></summary>\n",
        "\n",
        "```python\n",
        "def count_lines(path):\n",
        "    with open(path) as fh:\n",
        "        return sum(1 for _ in fh)\n",
        "```\n",
        "</details>"
      ]
    }
  ],
  "metadata": {
    "colab": {
      "provenance": []
    },
    "kernelspec": {
      "display_name": "python_basics",
      "language": "python",
      "name": "python3"
    },
    "language_info": {
      "codemirror_mode": {
        "name": "ipython",
        "version": 3
      },
      "file_extension": ".py",
      "mimetype": "text/x-python",
      "name": "python",
      "nbconvert_exporter": "python",
      "pygments_lexer": "ipython3",
      "version": "3.13.5"
    }
  },
  "nbformat": 4,
  "nbformat_minor": 5
}
