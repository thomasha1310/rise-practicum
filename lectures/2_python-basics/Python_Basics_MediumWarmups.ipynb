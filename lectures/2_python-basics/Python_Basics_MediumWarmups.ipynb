{
 "cells": [
  {
   "cell_type": "markdown",
   "id": "2eb62b96",
   "metadata": {},
   "source": [
    "# Python Basics — Medium Warm-ups\n",
    "\n",
    "Each problem includes:\n",
    "1. A **starter code** cell with `TODO` markers.\n",
    "2. A hidden **Instructor solution** you can reveal by clicking.\n",
    "\n",
    "Where helpful, you'll find either an **explanatory note** or a **reference link** so you know what to use. When a task is unclear, try to write out what you understand the problem to be asking and then look into the basic components of that problem.\n"
   ]
  },
  {
   "cell_type": "markdown",
   "id": "a511659d",
   "metadata": {},
   "source": [
    "## 1. Merge Dictionaries Summing Values\n",
    "Write `merge_sum(d1, d2)` to return a **new dict** combining `d1` and `d2`.  \n",
    "If a key exists in both, sum their values.  \n",
    " [dict comprehension](https://docs.python.org/3/tutorial/datastructures.html#dictionaries)"
   ]
  },
  {
   "cell_type": "code",
   "execution_count": null,
   "id": "a65ad2a3",
   "metadata": {},
   "outputs": [],
   "source": [
    "def merge_sum(d1: dict, d2: dict) -> dict:\n",
    "    keys = set(d1.keys()).union(set(d2.keys()))\n",
    "    return { key: d1.get(key, 0) + d2.get(key, 0) for key in keys }"
   ]
  },
  {
   "cell_type": "markdown",
   "id": "e538ca83",
   "metadata": {},
   "source": [
    "<details>\n",
    "<summary>Instructor solution (click to reveal)</summary>\n",
    "\n",
    "```python\n",
    "def merge_sum(d1, d2):\n",
    "    return {k: d1.get(k, 0) + d2.get(k, 0) for k in set(d1) | set(d2)}\n",
    "```\n",
    "</details>"
   ]
  },
  {
   "cell_type": "markdown",
   "id": "40427a42",
   "metadata": {},
   "source": [
    "## 2. Filter Primes from a List\n",
    "Complete `is_prime(n)` and then `filter_primes(nums)` using **filter** (i.e., only return primes)  \n",
    " [filter()](https://docs.python.org/3/library/functions.html#filter)"
   ]
  },
  {
   "cell_type": "code",
   "execution_count": null,
   "id": "d87fa2ff",
   "metadata": {},
   "outputs": [],
   "source": [
    "def is_prime(n):\n",
    "    if n == 0 or n == 1:\n",
    "        return False\n",
    "    if n == 2:\n",
    "        return True\n",
    "    for i in range(2, int(n ** 0.5) + 1):\n",
    "        if n % i == 0:\n",
    "            return False\n",
    "    return True\n",
    "\n",
    "def filter_primes(nums):\n",
    "    return [filter(is_prime, nums)]"
   ]
  },
  {
   "cell_type": "markdown",
   "id": "59b8eea6",
   "metadata": {},
   "source": [
    "<details>\n",
    "<summary>Instructor solution (click to reveal)</summary>\n",
    "\n",
    "```python\n",
    "def is_prime(n):\n",
    "    if n < 2: return False\n",
    "    for i in range(2, int(n**0.5) + 1):\n",
    "        if n % i == 0:\n",
    "            return False\n",
    "    return True\n",
    "\n",
    "def filter_primes(nums):\n",
    "    return list(filter(is_prime, nums))```\n",
    "</details>"
   ]
  },
  {
   "cell_type": "markdown",
   "id": "9d102173",
   "metadata": {},
   "source": [
    "## 3. Reverse a List\n",
    "Use **list slicing** with step `-1` to reverse a list.  \n",
    " [slicing](https://docs.python.org/3/reference/expressions.html#slicings)"
   ]
  },
  {
   "cell_type": "code",
   "execution_count": null,
   "id": "a8f58495",
   "metadata": {},
   "outputs": [],
   "source": [
    "def reverse_list(lst):\n",
    "    return lst[::-1]"
   ]
  },
  {
   "cell_type": "markdown",
   "id": "23cc8852",
   "metadata": {},
   "source": [
    "<details>\n",
    "<summary>Instructor solution (click to reveal)</summary>\n",
    "\n",
    "```python\n",
    "def reverse_list(lst):\n",
    "    return lst[::-1]```\n",
    "</details>"
   ]
  },
  {
   "cell_type": "markdown",
   "id": "33b6c469",
   "metadata": {},
   "source": [
    "## 4. Flatten One-Level with Comprehension\n",
    "`flatten_comp(lst)` removes one level of nesting using a nested **list comprehension**.  \n",
    " [list comprehensions](https://docs.python.org/3/tutorial/datastructures.html#list-comprehensions)"
   ]
  },
  {
   "cell_type": "code",
   "execution_count": null,
   "id": "87aeae94",
   "metadata": {},
   "outputs": [],
   "source": [
    "def flatten_comp(lst):\n",
    "    return [ item for sublist in lst for item in (sublist if isinstance(sublist, list) else [sublist]) ]"
   ]
  },
  {
   "cell_type": "markdown",
   "id": "685ae500",
   "metadata": {},
   "source": [
    "<details>\n",
    "<summary>Instructor solution (click to reveal)</summary>\n",
    "\n",
    "```python\n",
    "def flatten_comp(lst):\n",
    "    return [item for sub in lst for item in (sub if isinstance(sub, list) else [sub])]\n",
    "```\n",
    "</details>"
   ]
  },
  {
   "cell_type": "markdown",
   "id": "257e09c1",
   "metadata": {},
   "source": [
    "## 5. Invert a Dictionary\n",
    "Write `invert_dict(d)` so keys become values and values become keys (assume values are unique).  \n",
    " [dict][dict comprehension]"
   ]
  },
  {
   "cell_type": "code",
   "execution_count": null,
   "id": "ac904d81",
   "metadata": {},
   "outputs": [],
   "source": [
    "def invert_dict(d: dict):\n",
    "    return { value: key for key, value in d.items() }"
   ]
  },
  {
   "cell_type": "markdown",
   "id": "166a8241",
   "metadata": {},
   "source": [
    "<details>\n",
    "<summary>Instructor solution (click to reveal)</summary>\n",
    "\n",
    "```python\n",
    "def invert_dict(d):\n",
    "    return {v: k for k, v in d.items()}```\n",
    "</details>"
   ]
  },
  {
   "cell_type": "markdown",
   "id": "699bcf6d",
   "metadata": {},
   "source": [
    "## 6. Write Lines to a File\n",
    "Complete `write_lines(path, lines)` to write each string in `lines` to `path`, one per line.  \n",
    " [file I/O tutorial](https://docs.python.org/3/tutorial/inputoutput.html#reading-and-writing-files)"
   ]
  },
  {
   "cell_type": "code",
   "execution_count": null,
   "id": "5a203630",
   "metadata": {},
   "outputs": [],
   "source": [
    "def write_lines(path, lines):\n",
    "    with open(path, \"w\") as f:\n",
    "        for line in lines:\n",
    "            f.write(line + '\\n')"
   ]
  },
  {
   "cell_type": "markdown",
   "id": "2a689f54",
   "metadata": {},
   "source": [
    "<details>\n",
    "<summary>Instructor solution (click to reveal)</summary>\n",
    "\n",
    "```python\n",
    "def write_lines(path, lines):\n",
    "    with open(path, 'w') as f:\n",
    "        for line in lines:\n",
    "            f.write(line + '\\n')```\n",
    "</details>"
   ]
  },
  {
   "cell_type": "markdown",
   "id": "09b05375",
   "metadata": {},
   "source": [
    "## 7. Safe Integer Conversion\n",
    "`safe_int(s)` returns `int(s)` or `None` if conversion fails. Use try/except\n",
    " [try/except](https://docs.python.org/3/tutorial/errors.html#handling-exceptions)"
   ]
  },
  {
   "cell_type": "code",
   "execution_count": null,
   "id": "9b571720",
   "metadata": {},
   "outputs": [],
   "source": [
    "def safe_int(s):\n",
    "    try:\n",
    "        return int(s)\n",
    "    except (ValueError):\n",
    "        return None"
   ]
  },
  {
   "cell_type": "markdown",
   "id": "63e9b215",
   "metadata": {},
   "source": [
    "<details>\n",
    "<summary>Instructor solution (click to reveal)</summary>\n",
    "\n",
    "```python\n",
    "def safe_int(s):\n",
    "    try:\n",
    "        return int(s)\n",
    "    except ValueError:\n",
    "        return None```\n",
    "</details>"
   ]
  },
  {
   "cell_type": "markdown",
   "id": "bfe536ea",
   "metadata": {},
   "source": [
    "## 8. Filter Vowel Words\n",
    "Write `vowel_words(words)` to return only those starting with a vowel.  \n",
    "Use **filter** and **lambda**.  \n",
    " [lambda](https://docs.python.org/3/tutorial/controlflow.html#lambda-expressions)"
   ]
  },
  {
   "cell_type": "code",
   "execution_count": null,
   "id": "26706579",
   "metadata": {},
   "outputs": [],
   "source": [
    "def vowel_words(words):\n",
    "    return list(filter(lambda word: word[0] in ['a', 'e', 'i', 'o', 'u'], words))"
   ]
  },
  {
   "cell_type": "markdown",
   "id": "6de3a517",
   "metadata": {},
   "source": [
    "<details>\n",
    "<summary>Instructor solution (click to reveal)</summary>\n",
    "\n",
    "```python\n",
    "def vowel_words(words):\n",
    "    return list(filter(lambda w: w and w[0].lower() in 'aeiou', words))```\n",
    "</details>"
   ]
  },
  {
   "cell_type": "markdown",
   "id": "b7732e28",
   "metadata": {},
   "source": [
    "## 9. Even Squares 1-20\n",
    "Using a **list comprehension with conditional**, compute squares of even numbers from 1 to 20."
   ]
  },
  {
   "cell_type": "code",
   "execution_count": null,
   "id": "06820d49",
   "metadata": {},
   "outputs": [],
   "source": [
    "# TODO: fill in\n",
    "even_squares = [ i ** 2 for i in range(1, 21) if i % 2 == 0 ]"
   ]
  },
  {
   "cell_type": "markdown",
   "id": "bd9a0aaa",
   "metadata": {},
   "source": [
    "<details>\n",
    "<summary>Instructor solution (click to reveal)</summary>\n",
    "\n",
    "```python\n",
    "even_squares = [n*n for n in range(1,21) if n % 2 == 0]```\n",
    "</details>"
   ]
  },
  {
   "cell_type": "markdown",
   "id": "86294841",
   "metadata": {},
   "source": [
    "## 11. List Intersection via Sets\n",
    "`intersection(a, b)` returns the common elements using **set intersection**. (i.e., if you have set a and set b, where do they intersect):\n",
    " [set](https://docs.python.org/3/library/stdtypes.html#set-types-set-frozenset)"
   ]
  },
  {
   "cell_type": "code",
   "execution_count": null,
   "id": "eb8075f9",
   "metadata": {},
   "outputs": [],
   "source": [
    "def intersection(a: set, b: set) -> set:\n",
    "    return set(a & b)"
   ]
  },
  {
   "cell_type": "markdown",
   "id": "a2235d34",
   "metadata": {},
   "source": [
    "<details>\n",
    "<summary>Instructor solution (click to reveal)</summary>\n",
    "\n",
    "```python\n",
    "def intersection(a, b):\n",
    "    return list(set(a) & set(b))```\n",
    "</details>"
   ]
  },
  {
   "cell_type": "markdown",
   "id": "eac4481c",
   "metadata": {},
   "source": [
    "## 12. Simple Person Class\n",
    "Define `Person(name, age)` with `__str__` returning `\"<name> (<age>)\"`.  \n",
    " [classes](https://docs.python.org/3/tutorial/classes.html)"
   ]
  },
  {
   "cell_type": "code",
   "execution_count": null,
   "id": "5c0f80d7",
   "metadata": {},
   "outputs": [],
   "source": [
    "class Person:\n",
    "    def __init__(self, name, age):\n",
    "        self.name = name\n",
    "        self.age = age\n",
    "    def __str__(self):\n",
    "        return f\"{self.name} ({self.age})\""
   ]
  },
  {
   "cell_type": "markdown",
   "id": "e7f16fa5",
   "metadata": {},
   "source": [
    "<details>\n",
    "<summary>Instructor solution (click to reveal)</summary>\n",
    "\n",
    "```python\n",
    "class Person:\n",
    "    def __init__(self, name, age):\n",
    "        self.name = name\n",
    "        self.age = age\n",
    "    def __str__(self):\n",
    "        return f\"{self.name} ({self.age})\"```\n",
    "</details>"
   ]
  },
  {
   "cell_type": "markdown",
   "id": "11294aef",
   "metadata": {},
   "source": [
    "## 13. Zip to Dictionary\n",
    "Write `zip_dict(keys, vals)` that uses **zip** to pair lists into a dict.  \n",
    " [zip](https://docs.python.org/3/library/functions.html#zip)"
   ]
  },
  {
   "cell_type": "code",
   "execution_count": null,
   "id": "42eb930d",
   "metadata": {},
   "outputs": [],
   "source": [
    "def zip_dict(keys, vals):\n",
    "    return dict(zip(keys, vals))"
   ]
  },
  {
   "cell_type": "markdown",
   "id": "c682f9d3",
   "metadata": {},
   "source": [
    "<details>\n",
    "<summary>Instructor solution (click to reveal)</summary>\n",
    "\n",
    "```python\n",
    "def zip_dict(keys, vals):\n",
    "    return dict(zip(keys, vals))```\n",
    "</details>"
   ]
  },
  {
   "cell_type": "markdown",
   "id": "5abc7e50",
   "metadata": {},
   "source": [
    "## 14. Chunk List into Size N\n",
    "Implement `chunk(lst, n)` returning a list of sublists of length `n` (last may be shorter).  \n",
    "Use **list slicing**."
   ]
  },
  {
   "cell_type": "code",
   "execution_count": null,
   "id": "367c51e3",
   "metadata": {},
   "outputs": [],
   "source": [
    "def chunk(lst: list, n: int):\n",
    "    return [ lst[i : i + n] for i in range(0, len(lst), n) ]"
   ]
  },
  {
   "cell_type": "markdown",
   "id": "ce01dd35",
   "metadata": {},
   "source": [
    "<details>\n",
    "<summary>Instructor solution (click to reveal)</summary>\n",
    "\n",
    "```python\n",
    "def chunk(lst, n):\n",
    "    return [lst[i:i+n] for i in range(0, len(lst), n)]```\n",
    "</details>"
   ]
  },
  {
   "cell_type": "markdown",
   "id": "ce59a0f1",
   "metadata": {},
   "source": [
    "## 15. All Positive Check\n",
    "`all_positive(nums)` returns `True` if **all** are >0, else `False`.  \n",
    " [all()](https://docs.python.org/3/library/functions.html#all)"
   ]
  },
  {
   "cell_type": "code",
   "execution_count": null,
   "id": "88536995",
   "metadata": {},
   "outputs": [],
   "source": [
    "def all_positive(nums):\n",
    "    return all(n > 0 for n in nums)"
   ]
  },
  {
   "cell_type": "markdown",
   "id": "b1d2f7d6",
   "metadata": {},
   "source": [
    "<details>\n",
    "<summary>Instructor solution (click to reveal)</summary>\n",
    "\n",
    "```python\n",
    "def all_positive(nums):\n",
    "    return all(n > 0 for n in nums)```\n",
    "</details>"
   ]
  },
  {
   "cell_type": "markdown",
   "id": "bf30a963",
   "metadata": {},
   "source": [
    "## 16. Sort Strings by Length\n",
    "`sort_len(strings)` returns a new list sorted by string length, descending.  \n",
    "Use **sorted(..., key=..., reverse=True)**."
   ]
  },
  {
   "cell_type": "code",
   "execution_count": null,
   "id": "0f374ea8",
   "metadata": {},
   "outputs": [],
   "source": [
    "def sort_len(strings: list[str]):\n",
    "    return sorted(strings, key=len, reverse=True)"
   ]
  },
  {
   "cell_type": "markdown",
   "id": "53633515",
   "metadata": {},
   "source": [
    "<details>\n",
    "<summary>Instructor solution (click to reveal)</summary>\n",
    "\n",
    "```python\n",
    "def sort_len(strings):\n",
    "    return sorted(strings, key=lambda s: len(s), reverse=True)```\n",
    "</details>"
   ]
  },
  {
   "cell_type": "markdown",
   "id": "47de661c",
   "metadata": {},
   "source": [
    "## 17. Parse Query String\n",
    "`parse_qs(qs)` given `'a=1&b=2'` returns `{'a':'1','b':'2'}`.  \n",
    "Hint: **str.split** and **dict comprehension**."
   ]
  },
  {
   "cell_type": "code",
   "execution_count": null,
   "id": "5b982d18",
   "metadata": {},
   "outputs": [
    {
     "name": "stdout",
     "output_type": "stream",
     "text": [
      "{'a': '1', 'b': '2'}\n"
     ]
    }
   ],
   "source": [
    "def parse_qs(qs: str) -> dict:\n",
    "    return { key: value for query in qs.split(\"&\") for key, value in [query.split(\"=\")] }"
   ]
  },
  {
   "cell_type": "markdown",
   "id": "8c85c0b4",
   "metadata": {},
   "source": [
    "<details>\n",
    "<summary>Instructor solution (click to reveal)</summary>\n",
    "\n",
    "```python\n",
    "def parse_qs(qs):\n",
    "    return {k: v for part in qs.split('&') for k, v in [part.split('=')]}```\n",
    "</details>"
   ]
  },
  {
   "cell_type": "markdown",
   "id": "8d26b8fd",
   "metadata": {},
   "source": [
    "## 18. Count in 2D Matrix\n",
    "`count_matrix(mat, val)` returns how many times `val` appears in 2D list `mat`.  \n",
    "Use **nested loops**."
   ]
  },
  {
   "cell_type": "code",
   "execution_count": null,
   "id": "e5acf683",
   "metadata": {},
   "outputs": [],
   "source": [
    "def count_matrix(mat: list[list], val):\n",
    "    count = 0\n",
    "    for row in mat:\n",
    "        for n in row:\n",
    "            if n == val:\n",
    "                count += 1\n",
    "    return count"
   ]
  },
  {
   "cell_type": "markdown",
   "id": "cefd7384",
   "metadata": {},
   "source": [
    "<details>\n",
    "<summary>Instructor solution (click to reveal)</summary>\n",
    "\n",
    "```python\n",
    "def count_matrix(mat, val):\n",
    "    count = 0\n",
    "    for row in mat:\n",
    "        for item in row:\n",
    "            if item == val:\n",
    "                count += 1\n",
    "    return count```\n",
    "</details>"
   ]
  },
  {
   "cell_type": "markdown",
   "id": "dcacf321",
   "metadata": {},
   "source": [
    "## 19. Character Frequency\n",
    "`char_freq(s)` returns a dict mapping each character in `s` to its count (ignore spaces)."
   ]
  },
  {
   "cell_type": "code",
   "execution_count": null,
   "id": "563a1fa2",
   "metadata": {},
   "outputs": [],
   "source": [
    "def char_freq(s: str):\n",
    "    frequencies = {}\n",
    "    for char in s:\n",
    "        if char == ' ':\n",
    "            continue\n",
    "        else:\n",
    "            frequencies[char] = 1 + frequencies.get(char, 0)\n",
    "    return frequencies"
   ]
  },
  {
   "cell_type": "markdown",
   "id": "3428bb44",
   "metadata": {},
   "source": [
    "<details>\n",
    "<summary>Instructor solution (click to reveal)</summary>\n",
    "\n",
    "```python\n",
    "def char_freq(s):\n",
    "    freq = {}\n",
    "    for ch in s:\n",
    "        if ch == ' ':\n",
    "            continue\n",
    "        freq[ch] = freq.get(ch, 0) + 1\n",
    "    return freq```\n",
    "</details>"
   ]
  }
 ],
 "metadata": {
  "kernelspec": {
   "display_name": "base",
   "language": "python",
   "name": "python3"
  },
  "language_info": {
   "codemirror_mode": {
    "name": "ipython",
    "version": 3
   },
   "file_extension": ".py",
   "mimetype": "text/x-python",
   "name": "python",
   "nbconvert_exporter": "python",
   "pygments_lexer": "ipython3",
   "version": "3.13.5"
  }
 },
 "nbformat": 4,
 "nbformat_minor": 5
}
